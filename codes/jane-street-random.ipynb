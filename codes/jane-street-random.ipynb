{
 "cells": [
  {
   "cell_type": "code",
   "execution_count": 1,
   "id": "ccfed59e",
   "metadata": {
    "_cell_guid": "b1076dfc-b9ad-4769-8c92-a6c4dae69d19",
    "_uuid": "8f2839f25d086af736a60e9eeb907d3b93b6e0e5",
    "execution": {
     "iopub.execute_input": "2024-11-25T15:13:36.024145Z",
     "iopub.status.busy": "2024-11-25T15:13:36.023591Z",
     "iopub.status.idle": "2024-11-25T15:13:37.665068Z",
     "shell.execute_reply": "2024-11-25T15:13:37.663990Z"
    },
    "papermill": {
     "duration": 1.648909,
     "end_time": "2024-11-25T15:13:37.667529",
     "exception": false,
     "start_time": "2024-11-25T15:13:36.018620",
     "status": "completed"
    },
    "tags": []
   },
   "outputs": [],
   "source": [
    "import os\n",
    "\n",
    "import pandas as pd\n",
    "import polars as pl\n",
    "import numpy as np\n",
    "\n",
    "import kaggle_evaluation.jane_street_inference_server"
   ]
  },
  {
   "cell_type": "markdown",
   "id": "aeaba14a",
   "metadata": {
    "papermill": {
     "duration": 0.002122,
     "end_time": "2024-11-25T15:13:37.672525",
     "exception": false,
     "start_time": "2024-11-25T15:13:37.670403",
     "status": "completed"
    },
    "tags": []
   },
   "source": [
    "The evaluation API requires that you set up a server which will respond to inference requests. We have already defined the server; you just need write the predict function. When we evaluate your submission on the hidden test set the client defined in `jane_street_gateway` will run in a different container with direct access to the hidden test set and hand off the data timestep by timestep.\n",
    "\n",
    "\n",
    "\n",
    "Your code will always have access to the published copies of the files."
   ]
  },
  {
   "cell_type": "code",
   "execution_count": 2,
   "id": "2890d71b",
   "metadata": {
    "_cell_guid": "b1076dfc-b9ad-4769-8c92-a6c4dae69d19",
    "_uuid": "8f2839f25d086af736a60e9eeb907d3b93b6e0e5",
    "execution": {
     "iopub.execute_input": "2024-11-25T15:13:37.679193Z",
     "iopub.status.busy": "2024-11-25T15:13:37.678631Z",
     "iopub.status.idle": "2024-11-25T15:13:39.751268Z",
     "shell.execute_reply": "2024-11-25T15:13:39.749875Z"
    },
    "papermill": {
     "duration": 2.079306,
     "end_time": "2024-11-25T15:13:39.754150",
     "exception": false,
     "start_time": "2024-11-25T15:13:37.674844",
     "status": "completed"
    },
    "tags": []
   },
   "outputs": [],
   "source": [
    "lags_ : pl.DataFrame | None = None\n",
    "test_: pl.DataFrame | None = None\n",
    "\n",
    "# Replace this function with your inference code.\n",
    "# You can return either a Pandas or Polars dataframe, though Polars is recommended.\n",
    "# Each batch of predictions (except the very first) must be returned within 1 minute of the batch features being provided.\n",
    "import xgboost as xgb\n",
    "\n",
    "loaded_model = None\n",
    "\n",
    "def predict(test: pl.DataFrame, lags: pl.DataFrame | None) -> pl.DataFrame | pd.DataFrame:\n",
    "    \"\"\"Make a prediction.\"\"\"\n",
    "\n",
    "    # All the responders from the previous day are passed in at time_id == 0. We save them in a global variable for access at every time_id.\n",
    "    # Use them as extra features, if you like.\n",
    "    global lags_, loaded_model, test_\n",
    "    if lags is not None:\n",
    "        lags_ = lags\n",
    "\n",
    "    test_ = test\n",
    "\n",
    "    combined_data = test.join(lags_, on=[\"date_id\", \"time_id\", \"symbol_id\"], how=\"left\")\n",
    "\n",
    "    # Generate random values between -5 and +5 for the responder_6 column\n",
    "    random_values = np.random.uniform(-0.49, 0.44, size=combined_data.height)\n",
    "    \n",
    "    # Add the responder_6 column to the DataFrame\n",
    "    combined_data = combined_data.with_columns(\n",
    "        pl.Series(name=\"responder_6\", values=random_values)\n",
    "    )\n",
    "\n",
    "\n",
    "    # Replace this section with your own predictions\n",
    "    predictions = combined_data.select(\n",
    "        'row_id', 'responder_6'\n",
    "    )\n",
    "\n",
    "    if len(predictions) != len(test):\n",
    "        print(f\"ERROR: prediction dimension mismatch {len(predictions)} != {len(test)}\")\n",
    "        print(f\"Combined df shape: {combined_data.shape}\")\n",
    "        print(f\"Test df shape: {test.shape}\")\n",
    "        print(f\"Lag df shape: {lags_.shape}\")\n",
    "        print(f\"Symbols in lag df: {lags_.select(pl.col('symbol_id').unique())}\")\n",
    "\n",
    "    if isinstance(predictions, pl.DataFrame):\n",
    "        assert predictions.columns == ['row_id', 'responder_6']\n",
    "    elif isinstance(predictions, pd.DataFrame):\n",
    "        assert (predictions.columns == ['row_id', 'responder_6']).all()\n",
    "    else:\n",
    "        raise TypeError('The predict function must return a DataFrame')\n",
    "    # Confirm has as many rows as the test data.\n",
    "    assert len(predictions) == len(test)\n",
    "\n",
    "    return predictions"
   ]
  },
  {
   "cell_type": "markdown",
   "id": "7a9c7ebd",
   "metadata": {
    "papermill": {
     "duration": 0.002968,
     "end_time": "2024-11-25T15:13:39.760255",
     "exception": false,
     "start_time": "2024-11-25T15:13:39.757287",
     "status": "completed"
    },
    "tags": []
   },
   "source": [
    "When your notebook is run on the hidden test set, inference_server.serve must be called within 15 minutes of the notebook starting or the gateway will throw an error. If you need more than 15 minutes to load your model you can do so during the very first `predict` call, which does not have the usual 1 minute response deadline."
   ]
  },
  {
   "cell_type": "code",
   "execution_count": 3,
   "id": "581dea78",
   "metadata": {
    "_cell_guid": "b1076dfc-b9ad-4769-8c92-a6c4dae69d19",
    "_uuid": "8f2839f25d086af736a60e9eeb907d3b93b6e0e5",
    "execution": {
     "iopub.execute_input": "2024-11-25T15:13:39.767760Z",
     "iopub.status.busy": "2024-11-25T15:13:39.767115Z",
     "iopub.status.idle": "2024-11-25T15:13:40.177926Z",
     "shell.execute_reply": "2024-11-25T15:13:40.176683Z"
    },
    "papermill": {
     "duration": 0.417455,
     "end_time": "2024-11-25T15:13:40.180578",
     "exception": false,
     "start_time": "2024-11-25T15:13:39.763123",
     "status": "completed"
    },
    "tags": []
   },
   "outputs": [],
   "source": [
    "inference_server = kaggle_evaluation.jane_street_inference_server.JSInferenceServer(predict)\n",
    "\n",
    "if os.getenv('KAGGLE_IS_COMPETITION_RERUN'):\n",
    "    inference_server.serve()\n",
    "else:\n",
    "    inference_server.run_local_gateway(\n",
    "        (\n",
    "            '/kaggle/input/jane-street-real-time-market-data-forecasting/test.parquet',\n",
    "            '/kaggle/input/jane-street-real-time-market-data-forecasting/lags.parquet',\n",
    "        )\n",
    "    )"
   ]
  },
  {
   "cell_type": "code",
   "execution_count": 4,
   "id": "e7d5b571",
   "metadata": {
    "execution": {
     "iopub.execute_input": "2024-11-25T15:13:40.188173Z",
     "iopub.status.busy": "2024-11-25T15:13:40.187748Z",
     "iopub.status.idle": "2024-11-25T15:13:40.204534Z",
     "shell.execute_reply": "2024-11-25T15:13:40.203109Z"
    },
    "papermill": {
     "duration": 0.023676,
     "end_time": "2024-11-25T15:13:40.207284",
     "exception": false,
     "start_time": "2024-11-25T15:13:40.183608",
     "status": "completed"
    },
    "tags": []
   },
   "outputs": [
    {
     "data": {
      "text/html": [
       "<div><style>\n",
       ".dataframe > thead > tr,\n",
       ".dataframe > tbody > tr {\n",
       "  text-align: right;\n",
       "  white-space: pre-wrap;\n",
       "}\n",
       "</style>\n",
       "<small>shape: (39, 2)</small><table border=\"1\" class=\"dataframe\"><thead><tr><th>row_id</th><th>responder_6</th></tr><tr><td>i64</td><td>f64</td></tr></thead><tbody><tr><td>0</td><td>0.026087</td></tr><tr><td>1</td><td>-0.168058</td></tr><tr><td>2</td><td>0.300606</td></tr><tr><td>3</td><td>-0.482854</td></tr><tr><td>4</td><td>0.258046</td></tr><tr><td>&hellip;</td><td>&hellip;</td></tr><tr><td>34</td><td>0.267937</td></tr><tr><td>35</td><td>0.383962</td></tr><tr><td>36</td><td>0.106592</td></tr><tr><td>37</td><td>-0.482812</td></tr><tr><td>38</td><td>0.375491</td></tr></tbody></table></div>"
      ],
      "text/plain": [
       "shape: (39, 2)\n",
       "┌────────┬─────────────┐\n",
       "│ row_id ┆ responder_6 │\n",
       "│ ---    ┆ ---         │\n",
       "│ i64    ┆ f64         │\n",
       "╞════════╪═════════════╡\n",
       "│ 0      ┆ 0.026087    │\n",
       "│ 1      ┆ -0.168058   │\n",
       "│ 2      ┆ 0.300606    │\n",
       "│ 3      ┆ -0.482854   │\n",
       "│ 4      ┆ 0.258046    │\n",
       "│ …      ┆ …           │\n",
       "│ 34     ┆ 0.267937    │\n",
       "│ 35     ┆ 0.383962    │\n",
       "│ 36     ┆ 0.106592    │\n",
       "│ 37     ┆ -0.482812   │\n",
       "│ 38     ┆ 0.375491    │\n",
       "└────────┴─────────────┘"
      ]
     },
     "metadata": {},
     "output_type": "display_data"
    }
   ],
   "source": [
    "import os\n",
    "if os.path.isfile('submission.parquet'):\n",
    "    pl_sub = pl.read_parquet('submission.parquet')\n",
    "    display(pl_sub)"
   ]
  },
  {
   "cell_type": "code",
   "execution_count": null,
   "id": "f450a604",
   "metadata": {
    "papermill": {
     "duration": 0.002616,
     "end_time": "2024-11-25T15:13:40.212928",
     "exception": false,
     "start_time": "2024-11-25T15:13:40.210312",
     "status": "completed"
    },
    "tags": []
   },
   "outputs": [],
   "source": []
  }
 ],
 "metadata": {
  "kaggle": {
   "accelerator": "none",
   "dataSources": [
    {
     "databundleVersionId": 9871156,
     "sourceId": 84493,
     "sourceType": "competition"
    },
    {
     "modelId": 172655,
     "modelInstanceId": 150165,
     "sourceId": 176912,
     "sourceType": "modelInstanceVersion"
    }
   ],
   "dockerImageVersionId": 30786,
   "isGpuEnabled": false,
   "isInternetEnabled": false,
   "language": "python",
   "sourceType": "notebook"
  },
  "kernelspec": {
   "display_name": "Python 3",
   "language": "python",
   "name": "python3"
  },
  "language_info": {
   "codemirror_mode": {
    "name": "ipython",
    "version": 3
   },
   "file_extension": ".py",
   "mimetype": "text/x-python",
   "name": "python",
   "nbconvert_exporter": "python",
   "pygments_lexer": "ipython3",
   "version": "3.10.14"
  },
  "papermill": {
   "default_parameters": {},
   "duration": 7.902944,
   "end_time": "2024-11-25T15:13:40.938312",
   "environment_variables": {},
   "exception": null,
   "input_path": "__notebook__.ipynb",
   "output_path": "__notebook__.ipynb",
   "parameters": {},
   "start_time": "2024-11-25T15:13:33.035368",
   "version": "2.6.0"
  }
 },
 "nbformat": 4,
 "nbformat_minor": 5
}
