{
 "cells": [
  {
   "cell_type": "code",
   "execution_count": 1,
   "id": "825e1b31",
   "metadata": {
    "_cell_guid": "b1076dfc-b9ad-4769-8c92-a6c4dae69d19",
    "_uuid": "8f2839f25d086af736a60e9eeb907d3b93b6e0e5",
    "execution": {
     "iopub.execute_input": "2024-12-14T16:33:50.798598Z",
     "iopub.status.busy": "2024-12-14T16:33:50.798237Z",
     "iopub.status.idle": "2024-12-14T16:33:51.587153Z",
     "shell.execute_reply": "2024-12-14T16:33:51.586185Z"
    },
    "papermill": {
     "duration": 0.796178,
     "end_time": "2024-12-14T16:33:51.589849",
     "exception": false,
     "start_time": "2024-12-14T16:33:50.793671",
     "status": "completed"
    },
    "tags": []
   },
   "outputs": [
    {
     "name": "stdout",
     "output_type": "stream",
     "text": [
      "/kaggle/input/linregwithlagged/other/default/1/linreg_model_cv_nonrandom (1) (1).pkl\n",
      "/kaggle/input/jane-street-real-time-market-data-forecasting/responders.csv\n",
      "/kaggle/input/jane-street-real-time-market-data-forecasting/sample_submission.csv\n",
      "/kaggle/input/jane-street-real-time-market-data-forecasting/features.csv\n",
      "/kaggle/input/jane-street-real-time-market-data-forecasting/train.parquet/partition_id=4/part-0.parquet\n",
      "/kaggle/input/jane-street-real-time-market-data-forecasting/train.parquet/partition_id=5/part-0.parquet\n",
      "/kaggle/input/jane-street-real-time-market-data-forecasting/train.parquet/partition_id=6/part-0.parquet\n",
      "/kaggle/input/jane-street-real-time-market-data-forecasting/train.parquet/partition_id=3/part-0.parquet\n",
      "/kaggle/input/jane-street-real-time-market-data-forecasting/train.parquet/partition_id=1/part-0.parquet\n",
      "/kaggle/input/jane-street-real-time-market-data-forecasting/train.parquet/partition_id=8/part-0.parquet\n",
      "/kaggle/input/jane-street-real-time-market-data-forecasting/train.parquet/partition_id=2/part-0.parquet\n",
      "/kaggle/input/jane-street-real-time-market-data-forecasting/train.parquet/partition_id=0/part-0.parquet\n",
      "/kaggle/input/jane-street-real-time-market-data-forecasting/train.parquet/partition_id=7/part-0.parquet\n",
      "/kaggle/input/jane-street-real-time-market-data-forecasting/train.parquet/partition_id=9/part-0.parquet\n",
      "/kaggle/input/jane-street-real-time-market-data-forecasting/lags.parquet/date_id=0/part-0.parquet\n",
      "/kaggle/input/jane-street-real-time-market-data-forecasting/test.parquet/date_id=0/part-0.parquet\n",
      "/kaggle/input/jane-street-real-time-market-data-forecasting/kaggle_evaluation/jane_street_gateway.py\n",
      "/kaggle/input/jane-street-real-time-market-data-forecasting/kaggle_evaluation/jane_street_inference_server.py\n",
      "/kaggle/input/jane-street-real-time-market-data-forecasting/kaggle_evaluation/__init__.py\n",
      "/kaggle/input/jane-street-real-time-market-data-forecasting/kaggle_evaluation/core/templates.py\n",
      "/kaggle/input/jane-street-real-time-market-data-forecasting/kaggle_evaluation/core/base_gateway.py\n",
      "/kaggle/input/jane-street-real-time-market-data-forecasting/kaggle_evaluation/core/relay.py\n",
      "/kaggle/input/jane-street-real-time-market-data-forecasting/kaggle_evaluation/core/kaggle_evaluation.proto\n",
      "/kaggle/input/jane-street-real-time-market-data-forecasting/kaggle_evaluation/core/__init__.py\n",
      "/kaggle/input/jane-street-real-time-market-data-forecasting/kaggle_evaluation/core/generated/kaggle_evaluation_pb2.py\n",
      "/kaggle/input/jane-street-real-time-market-data-forecasting/kaggle_evaluation/core/generated/kaggle_evaluation_pb2_grpc.py\n",
      "/kaggle/input/jane-street-real-time-market-data-forecasting/kaggle_evaluation/core/generated/__init__.py\n",
      "/kaggle/input/ndod/other/default/1/linreg_model_cv_nonrandom.pkl\n"
     ]
    }
   ],
   "source": [
    "# This Python 3 environment comes with many helpful analytics libraries installed\n",
    "# It is defined by the kaggle/python Docker image: https://github.com/kaggle/docker-python\n",
    "# For example, here's several helpful packages to load\n",
    "\n",
    "import numpy as np # linear algebra\n",
    "import pandas as pd # data processing, CSV file I/O (e.g. pd.read_csv)\n",
    "\n",
    "# Input data files are available in the read-only \"../input/\" directory\n",
    "# For example, running this (by clicking run or pressing Shift+Enter) will list all files under the input directory\n",
    "\n",
    "import os\n",
    "for dirname, _, filenames in os.walk('/kaggle/input'):\n",
    "    for filename in filenames:\n",
    "        print(os.path.join(dirname, filename))\n",
    "\n",
    "# You can write up to 20GB to the current directory (/kaggle/working/) that gets preserved as output when you create a version using \"Save & Run All\" \n",
    "# You can also write temporary files to /kaggle/temp/, but they won't be saved outside of the current session"
   ]
  },
  {
   "cell_type": "code",
   "execution_count": 2,
   "id": "f484cc8a",
   "metadata": {
    "execution": {
     "iopub.execute_input": "2024-12-14T16:33:51.597235Z",
     "iopub.status.busy": "2024-12-14T16:33:51.596212Z",
     "iopub.status.idle": "2024-12-14T16:33:52.011775Z",
     "shell.execute_reply": "2024-12-14T16:33:52.010988Z"
    },
    "papermill": {
     "duration": 0.421227,
     "end_time": "2024-12-14T16:33:52.014076",
     "exception": false,
     "start_time": "2024-12-14T16:33:51.592849",
     "status": "completed"
    },
    "tags": []
   },
   "outputs": [],
   "source": [
    "import os\n",
    "\n",
    "import pandas as pd\n",
    "import polars as pl\n",
    "\n",
    "import kaggle_evaluation.jane_street_inference_server"
   ]
  },
  {
   "cell_type": "code",
   "execution_count": 3,
   "id": "5bca6474",
   "metadata": {
    "execution": {
     "iopub.execute_input": "2024-12-14T16:33:52.020747Z",
     "iopub.status.busy": "2024-12-14T16:33:52.020318Z",
     "iopub.status.idle": "2024-12-14T16:33:53.341366Z",
     "shell.execute_reply": "2024-12-14T16:33:53.340302Z"
    },
    "papermill": {
     "duration": 1.326935,
     "end_time": "2024-12-14T16:33:53.343636",
     "exception": false,
     "start_time": "2024-12-14T16:33:52.016701",
     "status": "completed"
    },
    "tags": []
   },
   "outputs": [],
   "source": [
    "import pickle\n",
    "import time\n",
    "import polars as pl\n",
    "import pandas as pd\n",
    "from sklearn.linear_model import LinearRegression\n",
    "\n",
    "# Global variables\n",
    "lags_: pl.DataFrame | None = None\n",
    "history_cache = pl.DataFrame()\n",
    "lags_cache = pl.DataFrame()\n",
    "loaded_model = None\n",
    "\n",
    "# Track the maximum date_id encountered so far\n",
    "max_date_id_encountered = -1\n",
    "\n",
    "# Feature and responder configurations\n",
    "features_to_lag = [\n",
    "    'feature_06', 'feature_60', 'feature_49', 'feature_04', 'feature_07',\n",
    "    'feature_58', 'feature_59', 'feature_47', 'feature_51', 'feature_36',\n",
    "    'feature_52', 'feature_68', 'feature_13', 'feature_02', 'feature_05'\n",
    "]\n",
    "lag_range = range(1, 11)  # Lags from t-1 to t-10\n",
    "responder_columns = [f\"responder_{i}\" for i in range(9)]\n",
    "\n",
    "# Feature columns for prediction\n",
    "lagged_feature_cols = [f\"{feature}_lag_{lag}\" for feature in features_to_lag for lag in lag_range]\n",
    "lagged_responder_cols = [f\"{responder}_lag_1\" for responder in responder_columns]\n",
    "feature_columns = features_to_lag + lagged_feature_cols + lagged_responder_cols + [\"time_id\"]\n",
    "max_lag = 11\n",
    "\n",
    "with open(\"/kaggle/input/linregwithlagged/other/default/1/linreg_model_cv_nonrandom (1) (1).pkl\", \"rb\") as f:\n",
    "    loaded_model = pickle.load(f)\n",
    "\n",
    "def predict(test: pl.DataFrame, lags: pl.DataFrame | None) -> pl.DataFrame | pd.DataFrame:\n",
    "    \"\"\"Make a prediction for the test set.\"\"\"\n",
    "    global lags_, loaded_model, history_cache, lags_cache, max_lag\n",
    "\n",
    "    # Ensure test DataFrame is not None\n",
    "    if test is None:\n",
    "        test = pl.DataFrame()\n",
    "\n",
    "    # If lags DataFrame is provided, store the lagged responder data\n",
    "    if lags is not None:\n",
    "        lags_ = lags\n",
    "        lags_cache = pl.concat([lags_cache, lags])\n",
    "\n",
    "    # If test DataFrame is empty, create necessary columns with zeros\n",
    "    if test.is_empty():\n",
    "        # Create empty DataFrame with required columns\n",
    "        test = pl.DataFrame({col: [] for col in ['date_id', 'time_id', 'symbol_id', 'row_id'] + features_to_lag})\n",
    "\n",
    "    # Update history_cache with test data\n",
    "    history_cache = pl.concat([history_cache, test])\n",
    "\n",
    "    # Extract the top 3 unique `date_id` values (sorted descending)\n",
    "    top_3_dates = history_cache.select(\"date_id\").unique().sort(\"date_id\", descending=True).limit(3)\n",
    "\n",
    "    # Filter history_cache and lags_cache to keep only rows with top 3 `date_id` values\n",
    "    history_cache = history_cache.filter(pl.col(\"date_id\").is_in(top_3_dates[\"date_id\"]))\n",
    "    lags_cache = lags_cache.filter(pl.col(\"date_id\").is_in(top_3_dates[\"date_id\"]))\n",
    "\n",
    "    # Start with filtered_df as a copy of history_cache\n",
    "    filtered_df = history_cache\n",
    "\n",
    "    # Get the current `date_id` from the test set\n",
    "    current_date_id = test[\"date_id\"][0] if not test.is_empty() else None\n",
    "\n",
    "    # Filter to only the rows for the current date_id\n",
    "    current_df = filtered_df.filter(pl.col(\"date_id\") == current_date_id)\n",
    "\n",
    "    # Create lagged features only for the current date_id\n",
    "    for lag in range(1, max_lag + 1):\n",
    "        lagged_cols = [\n",
    "            pl.col(feature).shift(lag).alias(f\"{feature}_lag_{lag}\")\n",
    "            for feature in features_to_lag\n",
    "        ]\n",
    "        current_df = current_df.with_columns(lagged_cols)\n",
    "\n",
    "    # Join the lagged columns back into the main filtered_df\n",
    "    filtered_df = filtered_df.join(\n",
    "        current_df.select([\"date_id\", \"time_id\", \"symbol_id\"] + [f\"{feature}_lag_{lag}\" \n",
    "                                                                 for feature in features_to_lag \n",
    "                                                                 for lag in range(1, max_lag + 1)]),\n",
    "        on=[\"date_id\", \"time_id\", \"symbol_id\"],\n",
    "        how=\"left\"\n",
    "    )\n",
    "\n",
    "    # Proceed with joining filtered_df with test data\n",
    "    combined_data = test.join(\n",
    "        filtered_df,\n",
    "        on=[\"date_id\", \"time_id\", \"symbol_id\"],\n",
    "        how=\"left\"\n",
    "    )\n",
    "\n",
    "    # Step 2: Join the result with `lags_` on `date_id` and `symbol_id`, if lags_ is not None\n",
    "    if lags_ is not None:\n",
    "        combined_data = combined_data.join(\n",
    "            lags_,\n",
    "            on=[\"date_id\", \"symbol_id\"],\n",
    "            how=\"left\"\n",
    "        )\n",
    "\n",
    "    # Remove columns ending with '_right' if any\n",
    "    columns_to_keep = [col for col in combined_data.columns if not col.endswith('_right')]\n",
    "    combined_data = combined_data.select(columns_to_keep)\n",
    "\n",
    "    # Fill nulls for missing features dynamically\n",
    "    combined_data = combined_data.fill_null(0)\n",
    "\n",
    "    # Check if all feature columns exist in the combined data\n",
    "    missing_columns = set(feature_columns) - set(combined_data.columns)\n",
    "    if missing_columns:\n",
    "        for missing_col in missing_columns:\n",
    "            combined_data = combined_data.with_columns(\n",
    "                pl.lit(0).alias(missing_col)\n",
    "            )\n",
    "\n",
    "    # Prepare input features for prediction\n",
    "    X_pred = combined_data.select(feature_columns).to_pandas()\n",
    "    X_pred.fillna(0, inplace=True)\n",
    "\n",
    "    # Ensure the feature columns are in the same order as during training\n",
    "    if hasattr(loaded_model, 'feature_names_in_'):\n",
    "        expected_features = loaded_model.feature_names_in_\n",
    "        X_pred = X_pred.reindex(columns=expected_features, fill_value=0)\n",
    "    else:\n",
    "        X_pred = X_pred[feature_columns]\n",
    "\n",
    "    # Predict using the Linear Regression model\n",
    "    predictions = loaded_model.predict(X_pred)\n",
    "\n",
    "    # Add predictions to the DataFrame\n",
    "    combined_data = combined_data.with_columns(pl.Series(name=\"responder_6\", values=predictions))\n",
    "\n",
    "    # Prepare the final predictions DataFrame\n",
    "    predictions_df = combined_data.select(['row_id', 'responder_6'])\n",
    "\n",
    "    # Ensure predictions_df is not empty and has the correct columns\n",
    "    if isinstance(predictions_df, pl.DataFrame):\n",
    "        assert predictions_df.columns == ['row_id', 'responder_6']\n",
    "    elif isinstance(predictions_df, pd.DataFrame):\n",
    "        assert list(predictions_df.columns) == ['row_id', 'responder_6']\n",
    "    else:\n",
    "        # If predictions_df is empty, create an empty DataFrame with required columns\n",
    "        predictions_df = pl.DataFrame({\"row_id\": [], \"responder_6\": []})\n",
    "\n",
    "    # Confirm that predictions match the test data length\n",
    "    if len(predictions_df) != len(test):\n",
    "        # If lengths do not match, adjust predictions_df to match test data\n",
    "        predictions_df = test.select(['row_id']).with_columns(\n",
    "            pl.lit(0).alias('responder_6')\n",
    "        )\n",
    "\n",
    "    return predictions_df\n"
   ]
  },
  {
   "cell_type": "code",
   "execution_count": 4,
   "id": "5e951594",
   "metadata": {
    "execution": {
     "iopub.execute_input": "2024-12-14T16:33:53.350185Z",
     "iopub.status.busy": "2024-12-14T16:33:53.349550Z",
     "iopub.status.idle": "2024-12-14T16:33:53.696199Z",
     "shell.execute_reply": "2024-12-14T16:33:53.695073Z"
    },
    "papermill": {
     "duration": 0.352817,
     "end_time": "2024-12-14T16:33:53.699075",
     "exception": false,
     "start_time": "2024-12-14T16:33:53.346258",
     "status": "completed"
    },
    "tags": []
   },
   "outputs": [],
   "source": [
    "inference_server = kaggle_evaluation.jane_street_inference_server.JSInferenceServer(predict)\n",
    "\n",
    "if os.getenv('KAGGLE_IS_COMPETITION_RERUN'):\n",
    "    inference_server.serve()\n",
    "else:\n",
    "    inference_server.run_local_gateway(\n",
    "        (\n",
    "            '/kaggle/input/jane-street-real-time-market-data-forecasting/test.parquet',\n",
    "            '/kaggle/input/jane-street-real-time-market-data-forecasting/lags.parquet',\n",
    "        )\n",
    "    )"
   ]
  },
  {
   "cell_type": "code",
   "execution_count": 5,
   "id": "464c9fe3",
   "metadata": {
    "execution": {
     "iopub.execute_input": "2024-12-14T16:33:53.708799Z",
     "iopub.status.busy": "2024-12-14T16:33:53.708314Z",
     "iopub.status.idle": "2024-12-14T16:33:53.723725Z",
     "shell.execute_reply": "2024-12-14T16:33:53.721700Z"
    },
    "papermill": {
     "duration": 0.022861,
     "end_time": "2024-12-14T16:33:53.726046",
     "exception": false,
     "start_time": "2024-12-14T16:33:53.703185",
     "status": "completed"
    },
    "tags": []
   },
   "outputs": [
    {
     "data": {
      "text/html": [
       "<div><style>\n",
       ".dataframe > thead > tr,\n",
       ".dataframe > tbody > tr {\n",
       "  text-align: right;\n",
       "  white-space: pre-wrap;\n",
       "}\n",
       "</style>\n",
       "<small>shape: (39, 2)</small><table border=\"1\" class=\"dataframe\"><thead><tr><th>row_id</th><th>responder_6</th></tr><tr><td>i64</td><td>f32</td></tr></thead><tbody><tr><td>0</td><td>0.022599</td></tr><tr><td>1</td><td>0.041672</td></tr><tr><td>2</td><td>0.008419</td></tr><tr><td>3</td><td>0.022348</td></tr><tr><td>4</td><td>0.02917</td></tr><tr><td>&hellip;</td><td>&hellip;</td></tr><tr><td>34</td><td>0.016545</td></tr><tr><td>35</td><td>0.028216</td></tr><tr><td>36</td><td>0.013382</td></tr><tr><td>37</td><td>0.016465</td></tr><tr><td>38</td><td>0.025022</td></tr></tbody></table></div>"
      ],
      "text/plain": [
       "shape: (39, 2)\n",
       "┌────────┬─────────────┐\n",
       "│ row_id ┆ responder_6 │\n",
       "│ ---    ┆ ---         │\n",
       "│ i64    ┆ f32         │\n",
       "╞════════╪═════════════╡\n",
       "│ 0      ┆ 0.022599    │\n",
       "│ 1      ┆ 0.041672    │\n",
       "│ 2      ┆ 0.008419    │\n",
       "│ 3      ┆ 0.022348    │\n",
       "│ 4      ┆ 0.02917     │\n",
       "│ …      ┆ …           │\n",
       "│ 34     ┆ 0.016545    │\n",
       "│ 35     ┆ 0.028216    │\n",
       "│ 36     ┆ 0.013382    │\n",
       "│ 37     ┆ 0.016465    │\n",
       "│ 38     ┆ 0.025022    │\n",
       "└────────┴─────────────┘"
      ]
     },
     "metadata": {},
     "output_type": "display_data"
    }
   ],
   "source": [
    "import os\n",
    "if os.path.isfile('submission.parquet'):\n",
    "    pl_sub = pl.read_parquet('submission.parquet')\n",
    "    display(pl_sub)"
   ]
  },
  {
   "cell_type": "code",
   "execution_count": null,
   "id": "22a9f26c",
   "metadata": {
    "papermill": {
     "duration": 0.00314,
     "end_time": "2024-12-14T16:33:53.733677",
     "exception": false,
     "start_time": "2024-12-14T16:33:53.730537",
     "status": "completed"
    },
    "tags": []
   },
   "outputs": [],
   "source": []
  },
  {
   "cell_type": "code",
   "execution_count": null,
   "id": "2365210f",
   "metadata": {
    "papermill": {
     "duration": 0.002328,
     "end_time": "2024-12-14T16:33:53.738587",
     "exception": false,
     "start_time": "2024-12-14T16:33:53.736259",
     "status": "completed"
    },
    "tags": []
   },
   "outputs": [],
   "source": []
  }
 ],
 "metadata": {
  "kaggle": {
   "accelerator": "none",
   "dataSources": [
    {
     "databundleVersionId": 9871156,
     "sourceId": 84493,
     "sourceType": "competition"
    },
    {
     "modelId": 176674,
     "modelInstanceId": 154193,
     "sourceId": 180932,
     "sourceType": "modelInstanceVersion"
    },
    {
     "modelId": 176681,
     "modelInstanceId": 154201,
     "sourceId": 180940,
     "sourceType": "modelInstanceVersion"
    }
   ],
   "dockerImageVersionId": 30786,
   "isGpuEnabled": false,
   "isInternetEnabled": false,
   "language": "python",
   "sourceType": "notebook"
  },
  "kernelspec": {
   "display_name": "Python 3",
   "language": "python",
   "name": "python3"
  },
  "language_info": {
   "codemirror_mode": {
    "name": "ipython",
    "version": 3
   },
   "file_extension": ".py",
   "mimetype": "text/x-python",
   "name": "python",
   "nbconvert_exporter": "python",
   "pygments_lexer": "ipython3",
   "version": "3.10.14"
  },
  "papermill": {
   "default_parameters": {},
   "duration": 5.988856,
   "end_time": "2024-12-14T16:33:54.361394",
   "environment_variables": {},
   "exception": null,
   "input_path": "__notebook__.ipynb",
   "output_path": "__notebook__.ipynb",
   "parameters": {},
   "start_time": "2024-12-14T16:33:48.372538",
   "version": "2.6.0"
  }
 },
 "nbformat": 4,
 "nbformat_minor": 5
}
