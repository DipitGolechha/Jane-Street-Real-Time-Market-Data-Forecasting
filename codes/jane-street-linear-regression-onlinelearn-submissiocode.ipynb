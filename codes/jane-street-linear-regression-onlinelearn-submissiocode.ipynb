{
 "cells": [
  {
   "cell_type": "code",
   "execution_count": 1,
   "id": "08bc0b51",
   "metadata": {
    "_cell_guid": "b1076dfc-b9ad-4769-8c92-a6c4dae69d19",
    "_uuid": "8f2839f25d086af736a60e9eeb907d3b93b6e0e5",
    "execution": {
     "iopub.execute_input": "2024-11-26T21:53:38.920991Z",
     "iopub.status.busy": "2024-11-26T21:53:38.920670Z",
     "iopub.status.idle": "2024-11-26T21:53:39.832985Z",
     "shell.execute_reply": "2024-11-26T21:53:39.832103Z"
    },
    "papermill": {
     "duration": 0.917906,
     "end_time": "2024-11-26T21:53:39.834992",
     "exception": false,
     "start_time": "2024-11-26T21:53:38.917086",
     "status": "completed"
    },
    "tags": []
   },
   "outputs": [
    {
     "name": "stdout",
     "output_type": "stream",
     "text": [
      "/kaggle/input/linregonlinelearn/other/default/1/saved_model_lr_ol_gpu.pkl\n",
      "/kaggle/input/jane-street-real-time-market-data-forecasting/responders.csv\n",
      "/kaggle/input/jane-street-real-time-market-data-forecasting/sample_submission.csv\n",
      "/kaggle/input/jane-street-real-time-market-data-forecasting/features.csv\n",
      "/kaggle/input/jane-street-real-time-market-data-forecasting/train.parquet/partition_id=4/part-0.parquet\n",
      "/kaggle/input/jane-street-real-time-market-data-forecasting/train.parquet/partition_id=5/part-0.parquet\n",
      "/kaggle/input/jane-street-real-time-market-data-forecasting/train.parquet/partition_id=6/part-0.parquet\n",
      "/kaggle/input/jane-street-real-time-market-data-forecasting/train.parquet/partition_id=3/part-0.parquet\n",
      "/kaggle/input/jane-street-real-time-market-data-forecasting/train.parquet/partition_id=1/part-0.parquet\n",
      "/kaggle/input/jane-street-real-time-market-data-forecasting/train.parquet/partition_id=8/part-0.parquet\n",
      "/kaggle/input/jane-street-real-time-market-data-forecasting/train.parquet/partition_id=2/part-0.parquet\n",
      "/kaggle/input/jane-street-real-time-market-data-forecasting/train.parquet/partition_id=0/part-0.parquet\n",
      "/kaggle/input/jane-street-real-time-market-data-forecasting/train.parquet/partition_id=7/part-0.parquet\n",
      "/kaggle/input/jane-street-real-time-market-data-forecasting/train.parquet/partition_id=9/part-0.parquet\n",
      "/kaggle/input/jane-street-real-time-market-data-forecasting/lags.parquet/date_id=0/part-0.parquet\n",
      "/kaggle/input/jane-street-real-time-market-data-forecasting/test.parquet/date_id=0/part-0.parquet\n",
      "/kaggle/input/jane-street-real-time-market-data-forecasting/kaggle_evaluation/jane_street_gateway.py\n",
      "/kaggle/input/jane-street-real-time-market-data-forecasting/kaggle_evaluation/jane_street_inference_server.py\n",
      "/kaggle/input/jane-street-real-time-market-data-forecasting/kaggle_evaluation/__init__.py\n",
      "/kaggle/input/jane-street-real-time-market-data-forecasting/kaggle_evaluation/core/templates.py\n",
      "/kaggle/input/jane-street-real-time-market-data-forecasting/kaggle_evaluation/core/base_gateway.py\n",
      "/kaggle/input/jane-street-real-time-market-data-forecasting/kaggle_evaluation/core/relay.py\n",
      "/kaggle/input/jane-street-real-time-market-data-forecasting/kaggle_evaluation/core/kaggle_evaluation.proto\n",
      "/kaggle/input/jane-street-real-time-market-data-forecasting/kaggle_evaluation/core/__init__.py\n",
      "/kaggle/input/jane-street-real-time-market-data-forecasting/kaggle_evaluation/core/generated/kaggle_evaluation_pb2.py\n",
      "/kaggle/input/jane-street-real-time-market-data-forecasting/kaggle_evaluation/core/generated/kaggle_evaluation_pb2_grpc.py\n",
      "/kaggle/input/jane-street-real-time-market-data-forecasting/kaggle_evaluation/core/generated/__init__.py\n",
      "/kaggle/input/xgboostnormal/other/default/1/saved_model_xgboost.pkl\n",
      "/kaggle/input/xgboost/other/default/1/saved_model_xgboost (2).pkl\n"
     ]
    }
   ],
   "source": [
    "# This Python 3 environment comes with many helpful analytics libraries installed\n",
    "# It is defined by the kaggle/python Docker image: https://github.com/kaggle/docker-python\n",
    "# For example, here's several helpful packages to load\n",
    "\n",
    "import numpy as np # linear algebra\n",
    "import pandas as pd # data processing, CSV file I/O (e.g. pd.read_csv)\n",
    "\n",
    "# Input data files are available in the read-only \"../input/\" directory\n",
    "# For example, running this (by clicking run or pressing Shift+Enter) will list all files under the input directory\n",
    "\n",
    "import os\n",
    "for dirname, _, filenames in os.walk('/kaggle/input'):\n",
    "    for filename in filenames:\n",
    "        print(os.path.join(dirname, filename))\n",
    "\n",
    "# You can write up to 20GB to the current directory (/kaggle/working/) that gets preserved as output when you create a version using \"Save & Run All\" \n",
    "# You can also write temporary files to /kaggle/temp/, but they won't be saved outside of the current session"
   ]
  },
  {
   "cell_type": "code",
   "execution_count": 2,
   "id": "30d66395",
   "metadata": {
    "execution": {
     "iopub.execute_input": "2024-11-26T21:53:39.840311Z",
     "iopub.status.busy": "2024-11-26T21:53:39.839996Z",
     "iopub.status.idle": "2024-11-26T21:53:40.378943Z",
     "shell.execute_reply": "2024-11-26T21:53:40.378232Z"
    },
    "papermill": {
     "duration": 0.543498,
     "end_time": "2024-11-26T21:53:40.380802",
     "exception": false,
     "start_time": "2024-11-26T21:53:39.837304",
     "status": "completed"
    },
    "tags": []
   },
   "outputs": [],
   "source": [
    "import os\n",
    "\n",
    "import pandas as pd\n",
    "import polars as pl\n",
    "\n",
    "import kaggle_evaluation.jane_street_inference_server"
   ]
  },
  {
   "cell_type": "code",
   "execution_count": 3,
   "id": "00730279",
   "metadata": {
    "execution": {
     "iopub.execute_input": "2024-11-26T21:53:40.386298Z",
     "iopub.status.busy": "2024-11-26T21:53:40.385982Z",
     "iopub.status.idle": "2024-11-26T21:53:49.161382Z",
     "shell.execute_reply": "2024-11-26T21:53:49.160461Z"
    },
    "papermill": {
     "duration": 8.780489,
     "end_time": "2024-11-26T21:53:49.163507",
     "exception": false,
     "start_time": "2024-11-26T21:53:40.383018",
     "status": "completed"
    },
    "tags": []
   },
   "outputs": [],
   "source": [
    "import pickle\n",
    "import polars as pl\n",
    "import pandas as pd\n",
    "from cuml.linear_model import LinearRegression as cuLinearRegression\n",
    "\n",
    "# Global variables to store lags and the loaded model\n",
    "lags_ = None\n",
    "loaded_model = None\n",
    "\n",
    "def predict(test: pl.DataFrame, lags: pl.DataFrame | None) -> pl.DataFrame | pd.DataFrame:\n",
    "    \"\"\"Make a prediction and update the model using online learning.\"\"\"\n",
    "    global lags_, loaded_model\n",
    "\n",
    "    # Initialize or update lags\n",
    "    if lags is not None:\n",
    "        lags_ = lags\n",
    "\n",
    "    # Load the saved model if not already loaded\n",
    "    if loaded_model is None:\n",
    "        with open(\"/kaggle/input/linregonlinelearn/other/default/1/saved_model_lr_ol_gpu.pkl\", \"rb\") as f:\n",
    "            loaded_model = pickle.load(f)\n",
    "\n",
    "    # Combine test features with lags\n",
    "    combined_data = test.join(lags_, on=[\"date_id\", \"time_id\", \"symbol_id\"], how=\"left\")\n",
    "    combined_data = combined_data.with_columns(\n",
    "        pl.all().fill_null(strategy=\"forward\")\n",
    "    )\n",
    "\n",
    "    # Define the features to use for prediction\n",
    "    feature_columns = [\n",
    "        'responder_3_lag_1', 'responder_8_lag_1', 'responder_7_lag_1', 'responder_4_lag_1', 'responder_5_lag_1',\n",
    "        'responder_0_lag_1', 'responder_2_lag_1', 'responder_1_lag_1', \n",
    "        'feature_06', 'feature_60', 'feature_49', 'feature_04', 'feature_07', \n",
    "        'feature_58', 'feature_59', 'feature_47', 'feature_51', 'feature_36', \n",
    "        'feature_52', 'feature_68', 'feature_13', 'feature_02', 'feature_05', \n",
    "        'feature_41', 'feature_01', 'time_id', 'feature_54', 'feature_40', \n",
    "        'feature_03', 'feature_55', 'feature_08', 'feature_19', 'feature_48', \n",
    "        'feature_00', 'feature_71', 'feature_66', 'feature_45'\n",
    "    ]\n",
    "\n",
    "    # Prepare the input features\n",
    "    X_pred = combined_data.select(feature_columns).to_pandas()\n",
    "    X_pred.fillna(0, inplace=True)\n",
    "\n",
    "    # Predict using the loaded model\n",
    "    predictions = loaded_model.predict(X_pred)\n",
    "\n",
    "    # Update the model using the current batch for online learning\n",
    "    if 'responder_6' in combined_data.columns:\n",
    "        X_train = X_pred  # The same features are used for training\n",
    "        y_train = combined_data['responder_6'].to_pandas()\n",
    "\n",
    "        # Incremental training (online learning)\n",
    "        loaded_model.fit(X_train, y_train)\n",
    "\n",
    "        # Save the updated model\n",
    "        with open(\"/kaggle/working/saved_model_lr_ol_gpu.pkl\", \"wb\") as f:\n",
    "            pickle.dump(loaded_model, f)\n",
    "\n",
    "    # Add predictions to the DataFrame\n",
    "    combined_data = combined_data.with_columns(pl.Series(name=\"responder_6\", values=predictions))\n",
    "\n",
    "    # Return only the row_id and predictions as required\n",
    "    predictions = combined_data.select(\n",
    "        'row_id', 'responder_6'\n",
    "    )\n",
    "\n",
    "    # Ensure the return format matches expectations\n",
    "    if isinstance(predictions, pl.DataFrame):\n",
    "        assert predictions.columns == ['row_id', 'responder_6']\n",
    "    elif isinstance(predictions, pd.DataFrame):\n",
    "        assert (predictions.columns == ['row_id', 'responder_6']).all()\n",
    "    else:\n",
    "        raise TypeError('The predict function must return a DataFrame')\n",
    "\n",
    "    # Ensure the number of predictions matches the input test data\n",
    "    assert len(predictions) == len(test)\n",
    "\n",
    "    return predictions\n"
   ]
  },
  {
   "cell_type": "code",
   "execution_count": 4,
   "id": "b29a00d9",
   "metadata": {
    "execution": {
     "iopub.execute_input": "2024-11-26T21:53:49.169626Z",
     "iopub.status.busy": "2024-11-26T21:53:49.168884Z",
     "iopub.status.idle": "2024-11-26T21:53:50.611438Z",
     "shell.execute_reply": "2024-11-26T21:53:50.610513Z"
    },
    "papermill": {
     "duration": 1.4477,
     "end_time": "2024-11-26T21:53:50.613446",
     "exception": false,
     "start_time": "2024-11-26T21:53:49.165746",
     "status": "completed"
    },
    "tags": []
   },
   "outputs": [],
   "source": [
    "inference_server = kaggle_evaluation.jane_street_inference_server.JSInferenceServer(predict)\n",
    "\n",
    "if os.getenv('KAGGLE_IS_COMPETITION_RERUN'):\n",
    "    inference_server.serve()\n",
    "else:\n",
    "    inference_server.run_local_gateway(\n",
    "        (\n",
    "            '/kaggle/input/jane-street-real-time-market-data-forecasting/test.parquet',\n",
    "            '/kaggle/input/jane-street-real-time-market-data-forecasting/lags.parquet',\n",
    "        )\n",
    "    )"
   ]
  },
  {
   "cell_type": "code",
   "execution_count": 5,
   "id": "b03dafbe",
   "metadata": {
    "execution": {
     "iopub.execute_input": "2024-11-26T21:53:50.619061Z",
     "iopub.status.busy": "2024-11-26T21:53:50.618787Z",
     "iopub.status.idle": "2024-11-26T21:53:50.630008Z",
     "shell.execute_reply": "2024-11-26T21:53:50.629124Z"
    },
    "papermill": {
     "duration": 0.016002,
     "end_time": "2024-11-26T21:53:50.631745",
     "exception": false,
     "start_time": "2024-11-26T21:53:50.615743",
     "status": "completed"
    },
    "tags": []
   },
   "outputs": [
    {
     "data": {
      "text/html": [
       "<div><style>\n",
       ".dataframe > thead > tr,\n",
       ".dataframe > tbody > tr {\n",
       "  text-align: right;\n",
       "  white-space: pre-wrap;\n",
       "}\n",
       "</style>\n",
       "<small>shape: (39, 2)</small><table border=\"1\" class=\"dataframe\"><thead><tr><th>row_id</th><th>responder_6</th></tr><tr><td>i64</td><td>f32</td></tr></thead><tbody><tr><td>0</td><td>0.003904</td></tr><tr><td>1</td><td>0.023779</td></tr><tr><td>2</td><td>0.002901</td></tr><tr><td>3</td><td>0.004011</td></tr><tr><td>4</td><td>0.011738</td></tr><tr><td>&hellip;</td><td>&hellip;</td></tr><tr><td>34</td><td>0.001894</td></tr><tr><td>35</td><td>0.010364</td></tr><tr><td>36</td><td>-0.004901</td></tr><tr><td>37</td><td>0.001235</td></tr><tr><td>38</td><td>0.006817</td></tr></tbody></table></div>"
      ],
      "text/plain": [
       "shape: (39, 2)\n",
       "┌────────┬─────────────┐\n",
       "│ row_id ┆ responder_6 │\n",
       "│ ---    ┆ ---         │\n",
       "│ i64    ┆ f32         │\n",
       "╞════════╪═════════════╡\n",
       "│ 0      ┆ 0.003904    │\n",
       "│ 1      ┆ 0.023779    │\n",
       "│ 2      ┆ 0.002901    │\n",
       "│ 3      ┆ 0.004011    │\n",
       "│ 4      ┆ 0.011738    │\n",
       "│ …      ┆ …           │\n",
       "│ 34     ┆ 0.001894    │\n",
       "│ 35     ┆ 0.010364    │\n",
       "│ 36     ┆ -0.004901   │\n",
       "│ 37     ┆ 0.001235    │\n",
       "│ 38     ┆ 0.006817    │\n",
       "└────────┴─────────────┘"
      ]
     },
     "metadata": {},
     "output_type": "display_data"
    }
   ],
   "source": [
    "import os\n",
    "if os.path.isfile('submission.parquet'):\n",
    "    pl_sub = pl.read_parquet('submission.parquet')\n",
    "    display(pl_sub)"
   ]
  },
  {
   "cell_type": "code",
   "execution_count": null,
   "id": "bde24f1f",
   "metadata": {
    "papermill": {
     "duration": 0.001836,
     "end_time": "2024-11-26T21:53:50.635700",
     "exception": false,
     "start_time": "2024-11-26T21:53:50.633864",
     "status": "completed"
    },
    "tags": []
   },
   "outputs": [],
   "source": []
  },
  {
   "cell_type": "code",
   "execution_count": null,
   "id": "e51af8df",
   "metadata": {
    "papermill": {
     "duration": 0.001815,
     "end_time": "2024-11-26T21:53:50.639528",
     "exception": false,
     "start_time": "2024-11-26T21:53:50.637713",
     "status": "completed"
    },
    "tags": []
   },
   "outputs": [],
   "source": []
  }
 ],
 "metadata": {
  "kaggle": {
   "accelerator": "nvidiaTeslaT4",
   "dataSources": [
    {
     "databundleVersionId": 9871156,
     "sourceId": 84493,
     "sourceType": "competition"
    },
    {
     "modelId": 174548,
     "modelInstanceId": 152095,
     "sourceId": 178546,
     "sourceType": "modelInstanceVersion"
    },
    {
     "isSourceIdPinned": true,
     "modelId": 174799,
     "modelInstanceId": 152342,
     "sourceId": 178834,
     "sourceType": "modelInstanceVersion"
    },
    {
     "isSourceIdPinned": true,
     "modelId": 175263,
     "modelInstanceId": 152824,
     "sourceId": 179375,
     "sourceType": "modelInstanceVersion"
    }
   ],
   "dockerImageVersionId": 30786,
   "isGpuEnabled": true,
   "isInternetEnabled": false,
   "language": "python",
   "sourceType": "notebook"
  },
  "kernelspec": {
   "display_name": "Python 3",
   "language": "python",
   "name": "python3"
  },
  "language_info": {
   "codemirror_mode": {
    "name": "ipython",
    "version": 3
   },
   "file_extension": ".py",
   "mimetype": "text/x-python",
   "name": "python",
   "nbconvert_exporter": "python",
   "pygments_lexer": "ipython3",
   "version": "3.10.14"
  },
  "papermill": {
   "default_parameters": {},
   "duration": 16.752137,
   "end_time": "2024-11-26T21:53:52.943014",
   "environment_variables": {},
   "exception": null,
   "input_path": "__notebook__.ipynb",
   "output_path": "__notebook__.ipynb",
   "parameters": {},
   "start_time": "2024-11-26T21:53:36.190877",
   "version": "2.6.0"
  }
 },
 "nbformat": 4,
 "nbformat_minor": 5
}
