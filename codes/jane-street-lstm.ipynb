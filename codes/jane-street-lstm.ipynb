{
 "cells": [
  {
   "cell_type": "code",
   "execution_count": 1,
   "id": "c40da210",
   "metadata": {
    "_cell_guid": "b1076dfc-b9ad-4769-8c92-a6c4dae69d19",
    "_uuid": "8f2839f25d086af736a60e9eeb907d3b93b6e0e5",
    "execution": {
     "iopub.execute_input": "2024-11-24T20:21:47.778203Z",
     "iopub.status.busy": "2024-11-24T20:21:47.777840Z",
     "iopub.status.idle": "2024-11-24T20:21:48.473288Z",
     "shell.execute_reply": "2024-11-24T20:21:48.472414Z"
    },
    "papermill": {
     "duration": 0.704345,
     "end_time": "2024-11-24T20:21:48.475273",
     "exception": false,
     "start_time": "2024-11-24T20:21:47.770928",
     "status": "completed"
    },
    "tags": []
   },
   "outputs": [
    {
     "name": "stdout",
     "output_type": "stream",
     "text": [
      "/kaggle/input/jane-street-real-time-market-data-forecasting/responders.csv\n",
      "/kaggle/input/jane-street-real-time-market-data-forecasting/sample_submission.csv\n",
      "/kaggle/input/jane-street-real-time-market-data-forecasting/features.csv\n",
      "/kaggle/input/jane-street-real-time-market-data-forecasting/train.parquet/partition_id=4/part-0.parquet\n",
      "/kaggle/input/jane-street-real-time-market-data-forecasting/train.parquet/partition_id=5/part-0.parquet\n",
      "/kaggle/input/jane-street-real-time-market-data-forecasting/train.parquet/partition_id=6/part-0.parquet\n",
      "/kaggle/input/jane-street-real-time-market-data-forecasting/train.parquet/partition_id=3/part-0.parquet\n",
      "/kaggle/input/jane-street-real-time-market-data-forecasting/train.parquet/partition_id=1/part-0.parquet\n",
      "/kaggle/input/jane-street-real-time-market-data-forecasting/train.parquet/partition_id=8/part-0.parquet\n",
      "/kaggle/input/jane-street-real-time-market-data-forecasting/train.parquet/partition_id=2/part-0.parquet\n",
      "/kaggle/input/jane-street-real-time-market-data-forecasting/train.parquet/partition_id=0/part-0.parquet\n",
      "/kaggle/input/jane-street-real-time-market-data-forecasting/train.parquet/partition_id=7/part-0.parquet\n",
      "/kaggle/input/jane-street-real-time-market-data-forecasting/train.parquet/partition_id=9/part-0.parquet\n",
      "/kaggle/input/jane-street-real-time-market-data-forecasting/lags.parquet/date_id=0/part-0.parquet\n",
      "/kaggle/input/jane-street-real-time-market-data-forecasting/test.parquet/date_id=0/part-0.parquet\n",
      "/kaggle/input/jane-street-real-time-market-data-forecasting/kaggle_evaluation/jane_street_gateway.py\n",
      "/kaggle/input/jane-street-real-time-market-data-forecasting/kaggle_evaluation/jane_street_inference_server.py\n",
      "/kaggle/input/jane-street-real-time-market-data-forecasting/kaggle_evaluation/__init__.py\n",
      "/kaggle/input/jane-street-real-time-market-data-forecasting/kaggle_evaluation/core/templates.py\n",
      "/kaggle/input/jane-street-real-time-market-data-forecasting/kaggle_evaluation/core/base_gateway.py\n",
      "/kaggle/input/jane-street-real-time-market-data-forecasting/kaggle_evaluation/core/relay.py\n",
      "/kaggle/input/jane-street-real-time-market-data-forecasting/kaggle_evaluation/core/kaggle_evaluation.proto\n",
      "/kaggle/input/jane-street-real-time-market-data-forecasting/kaggle_evaluation/core/__init__.py\n",
      "/kaggle/input/jane-street-real-time-market-data-forecasting/kaggle_evaluation/core/generated/kaggle_evaluation_pb2.py\n",
      "/kaggle/input/jane-street-real-time-market-data-forecasting/kaggle_evaluation/core/generated/kaggle_evaluation_pb2_grpc.py\n",
      "/kaggle/input/jane-street-real-time-market-data-forecasting/kaggle_evaluation/core/generated/__init__.py\n"
     ]
    }
   ],
   "source": [
    "# This Python 3 environment comes with many helpful analytics libraries installed\n",
    "# It is defined by the kaggle/python Docker image: https://github.com/kaggle/docker-python\n",
    "# For example, here's several helpful packages to load\n",
    "\n",
    "import numpy as np # linear algebra\n",
    "import pandas as pd # data processing, CSV file I/O (e.g. pd.read_csv)\n",
    "\n",
    "# Input data files are available in the read-only \"../input/\" directory\n",
    "# For example, running this (by clicking run or pressing Shift+Enter) will list all files under the input directory\n",
    "\n",
    "import os\n",
    "for dirname, _, filenames in os.walk('/kaggle/input'):\n",
    "    for filename in filenames:\n",
    "        print(os.path.join(dirname, filename))\n",
    "\n",
    "# You can write up to 20GB to the current directory (/kaggle/working/) that gets preserved as output when you create a version using \"Save & Run All\" \n",
    "# You can also write temporary files to /kaggle/temp/, but they won't be saved outside of the current session"
   ]
  },
  {
   "cell_type": "code",
   "execution_count": 2,
   "id": "7de2d14a",
   "metadata": {
    "execution": {
     "iopub.execute_input": "2024-11-24T20:21:48.487687Z",
     "iopub.status.busy": "2024-11-24T20:21:48.487284Z",
     "iopub.status.idle": "2024-11-24T20:21:53.203790Z",
     "shell.execute_reply": "2024-11-24T20:21:53.203013Z"
    },
    "papermill": {
     "duration": 4.724976,
     "end_time": "2024-11-24T20:21:53.206197",
     "exception": false,
     "start_time": "2024-11-24T20:21:48.481221",
     "status": "completed"
    },
    "tags": []
   },
   "outputs": [],
   "source": [
    "import cudf\n",
    "# Load the cudf.pandas extension for pandas-like GPU acceleration\n",
    "%load_ext cudf.pandas"
   ]
  },
  {
   "cell_type": "code",
   "execution_count": 3,
   "id": "7fd383e3",
   "metadata": {
    "execution": {
     "iopub.execute_input": "2024-11-24T20:21:53.219778Z",
     "iopub.status.busy": "2024-11-24T20:21:53.219326Z",
     "iopub.status.idle": "2024-11-24T20:21:56.674519Z",
     "shell.execute_reply": "2024-11-24T20:21:56.673421Z"
    },
    "papermill": {
     "duration": 3.463618,
     "end_time": "2024-11-24T20:21:56.676467",
     "exception": false,
     "start_time": "2024-11-24T20:21:53.212849",
     "status": "completed"
    },
    "tags": []
   },
   "outputs": [
    {
     "name": "stdout",
     "output_type": "stream",
     "text": [
      "Number of GPUs available: 2\n",
      "Processing file on GPU 1: /kaggle/input/jane-street-real-time-market-data-forecasting/train.parquet/partition_id=2/part-0.parquet\n",
      "File /kaggle/input/jane-street-real-time-market-data-forecasting/train.parquet/partition_id=2/part-0.parquet processed on GPU 1.\n",
      "Final DataFrame shape on GPU: (3036873, 92)\n"
     ]
    }
   ],
   "source": [
    "import polars as pl\n",
    "from glob import glob\n",
    "from numba import cuda\n",
    "\n",
    "# Directory containing the Parquet files\n",
    "data_path = \"/kaggle/input/jane-street-real-time-market-data-forecasting/train.parquet\"\n",
    "\n",
    "# Collect all Parquet file paths\n",
    "parquet_files = glob(f\"{data_path}/partition_id=2/part-0.parquet\")\n",
    "\n",
    "# partition_ids = [i for i in range(10)]\n",
    "# parquet_files = [\n",
    "#     f\"{data_path}/partition_id={partition_id}/part-0.parquet\"\n",
    "#     for partition_id in partition_ids\n",
    "# ]\n",
    "\n",
    "# Get the number of GPUs available\n",
    "available_gpus = cuda.gpus\n",
    "num_gpus = len(available_gpus)\n",
    "\n",
    "if num_gpus == 0:\n",
    "    raise RuntimeError(\"No GPUs available for processing.\")\n",
    "\n",
    "print(f\"Number of GPUs available: {num_gpus}\")\n",
    "\n",
    "# Split files evenly across available GPUs\n",
    "files_per_gpu = len(parquet_files) // num_gpus\n",
    "gpu_file_splits = [\n",
    "    parquet_files[i * files_per_gpu : (i + 1) * files_per_gpu]\n",
    "    for i in range(num_gpus)\n",
    "]\n",
    "\n",
    "# Adjust the last split to include any remaining files\n",
    "if len(parquet_files) % num_gpus != 0:\n",
    "    gpu_file_splits[-1].extend(parquet_files[num_gpus * files_per_gpu :])\n",
    "\n",
    "# Function to process files on a specific GPU\n",
    "def process_files_on_gpu(files, gpu_id):\n",
    "    # Select the GPU for processing\n",
    "    cuda.select_device(gpu_id)\n",
    "    gpu_batches = []\n",
    "    for file in files:\n",
    "        print(f\"Processing file on GPU {gpu_id}: {file}\")\n",
    "        \n",
    "        # Read the file into GPU memory using Polars\n",
    "        gpu_df = pl.read_parquet(file)\n",
    "        \n",
    "        # Keep all columns, no filtering\n",
    "        gpu_batches.append(gpu_df)\n",
    "        \n",
    "        print(f\"File {file} processed on GPU {gpu_id}.\")\n",
    "\n",
    "    # Concatenate all batches for this GPU into a single DataFrame\n",
    "    if gpu_batches:\n",
    "        return pl.concat(gpu_batches)\n",
    "    else:\n",
    "        return pl.DataFrame()\n",
    "\n",
    "# Process files on all available GPUs\n",
    "final_gpu_dfs = []\n",
    "for gpu_id, files in enumerate(gpu_file_splits):\n",
    "    gpu_df = process_files_on_gpu(files, gpu_id)\n",
    "    final_gpu_dfs.append(gpu_df)\n",
    "\n",
    "# Combine all processed batches across GPUs into a single DataFrame\n",
    "final_df = pl.concat(final_gpu_dfs)\n",
    "\n",
    "# Print summary\n",
    "print(f\"Final DataFrame shape on GPU: {final_df.shape}\")"
   ]
  },
  {
   "cell_type": "code",
   "execution_count": 4,
   "id": "6d0757b7",
   "metadata": {
    "execution": {
     "iopub.execute_input": "2024-11-24T20:21:56.688883Z",
     "iopub.status.busy": "2024-11-24T20:21:56.688559Z",
     "iopub.status.idle": "2024-11-24T20:21:56.707739Z",
     "shell.execute_reply": "2024-11-24T20:21:56.706814Z"
    },
    "papermill": {
     "duration": 0.027264,
     "end_time": "2024-11-24T20:21:56.709589",
     "exception": false,
     "start_time": "2024-11-24T20:21:56.682325",
     "status": "completed"
    },
    "tags": []
   },
   "outputs": [
    {
     "data": {
      "text/html": [
       "<div><style>\n",
       ".dataframe > thead > tr,\n",
       ".dataframe > tbody > tr {\n",
       "  text-align: right;\n",
       "  white-space: pre-wrap;\n",
       "}\n",
       "</style>\n",
       "<small>shape: (5, 92)</small><table border=\"1\" class=\"dataframe\"><thead><tr><th>date_id</th><th>time_id</th><th>symbol_id</th><th>weight</th><th>feature_00</th><th>feature_01</th><th>feature_02</th><th>feature_03</th><th>feature_04</th><th>feature_05</th><th>feature_06</th><th>feature_07</th><th>feature_08</th><th>feature_09</th><th>feature_10</th><th>feature_11</th><th>feature_12</th><th>feature_13</th><th>feature_14</th><th>feature_15</th><th>feature_16</th><th>feature_17</th><th>feature_18</th><th>feature_19</th><th>feature_20</th><th>feature_21</th><th>feature_22</th><th>feature_23</th><th>feature_24</th><th>feature_25</th><th>feature_26</th><th>feature_27</th><th>feature_28</th><th>feature_29</th><th>feature_30</th><th>feature_31</th><th>feature_32</th><th>&hellip;</th><th>feature_51</th><th>feature_52</th><th>feature_53</th><th>feature_54</th><th>feature_55</th><th>feature_56</th><th>feature_57</th><th>feature_58</th><th>feature_59</th><th>feature_60</th><th>feature_61</th><th>feature_62</th><th>feature_63</th><th>feature_64</th><th>feature_65</th><th>feature_66</th><th>feature_67</th><th>feature_68</th><th>feature_69</th><th>feature_70</th><th>feature_71</th><th>feature_72</th><th>feature_73</th><th>feature_74</th><th>feature_75</th><th>feature_76</th><th>feature_77</th><th>feature_78</th><th>responder_0</th><th>responder_1</th><th>responder_2</th><th>responder_3</th><th>responder_4</th><th>responder_5</th><th>responder_6</th><th>responder_7</th><th>responder_8</th></tr><tr><td>i16</td><td>i16</td><td>i8</td><td>f32</td><td>f32</td><td>f32</td><td>f32</td><td>f32</td><td>f32</td><td>f32</td><td>f32</td><td>f32</td><td>f32</td><td>i8</td><td>i8</td><td>i16</td><td>f32</td><td>f32</td><td>f32</td><td>f32</td><td>f32</td><td>f32</td><td>f32</td><td>f32</td><td>f32</td><td>f32</td><td>f32</td><td>f32</td><td>f32</td><td>f32</td><td>f32</td><td>f32</td><td>f32</td><td>f32</td><td>f32</td><td>f32</td><td>f32</td><td>&hellip;</td><td>f32</td><td>f32</td><td>f32</td><td>f32</td><td>f32</td><td>f32</td><td>f32</td><td>f32</td><td>f32</td><td>f32</td><td>f32</td><td>f32</td><td>f32</td><td>f32</td><td>f32</td><td>f32</td><td>f32</td><td>f32</td><td>f32</td><td>f32</td><td>f32</td><td>f32</td><td>f32</td><td>f32</td><td>f32</td><td>f32</td><td>f32</td><td>f32</td><td>f32</td><td>f32</td><td>f32</td><td>f32</td><td>f32</td><td>f32</td><td>f32</td><td>f32</td><td>f32</td></tr></thead><tbody><tr><td>340</td><td>0</td><td>0</td><td>1.902722</td><td>-0.52349</td><td>-0.131996</td><td>0.124154</td><td>-0.185518</td><td>2.011005</td><td>-0.665424</td><td>-1.030033</td><td>-1.52801</td><td>0.261375</td><td>11</td><td>7</td><td>76</td><td>-1.169775</td><td>-0.29928</td><td>-0.477456</td><td>null</td><td>-0.423311</td><td>null</td><td>-1.333162</td><td>-1.69736</td><td>0.204428</td><td>null</td><td>-0.089592</td><td>-0.207202</td><td>-0.697006</td><td>-0.771086</td><td>null</td><td>null</td><td>0.79118</td><td>-0.361479</td><td>-0.114389</td><td>null</td><td>null</td><td>&hellip;</td><td>-0.928921</td><td>null</td><td>null</td><td>-2.067725</td><td>null</td><td>-2.501255</td><td>1.346438</td><td>null</td><td>-0.946561</td><td>-0.337844</td><td>0.354287</td><td>null</td><td>null</td><td>null</td><td>null</td><td>null</td><td>-0.702601</td><td>-0.266509</td><td>-0.533959</td><td>-1.319765</td><td>-0.160904</td><td>-0.953981</td><td>null</td><td>null</td><td>0.210584</td><td>0.312869</td><td>-0.187011</td><td>-0.183416</td><td>0.251685</td><td>0.421458</td><td>0.771927</td><td>0.07199</td><td>1.426416</td><td>0.814566</td><td>-0.132949</td><td>1.183992</td><td>0.371725</td></tr><tr><td>340</td><td>0</td><td>1</td><td>4.090041</td><td>-0.156282</td><td>0.289095</td><td>0.193019</td><td>-0.070085</td><td>1.140459</td><td>-0.528798</td><td>-0.884754</td><td>-1.44379</td><td>0.22066</td><td>11</td><td>7</td><td>76</td><td>-0.837111</td><td>0.421702</td><td>-0.336571</td><td>null</td><td>-0.530792</td><td>null</td><td>-0.878517</td><td>-0.865011</td><td>0.83415</td><td>null</td><td>1.584139</td><td>1.088018</td><td>-0.088035</td><td>0.203477</td><td>null</td><td>null</td><td>1.462279</td><td>-0.296079</td><td>-0.364353</td><td>null</td><td>null</td><td>&hellip;</td><td>1.465106</td><td>null</td><td>null</td><td>0.999406</td><td>null</td><td>-1.427631</td><td>2.658593</td><td>null</td><td>1.788883</td><td>0.399241</td><td>0.354287</td><td>-0.232378</td><td>-0.293213</td><td>-0.304407</td><td>-1.098295</td><td>-1.787442</td><td>-0.965382</td><td>0.135424</td><td>-0.344909</td><td>-1.035528</td><td>1.161382</td><td>-0.308803</td><td>null</td><td>null</td><td>-0.240021</td><td>-0.312621</td><td>-0.338355</td><td>-0.29285</td><td>-0.199408</td><td>-0.148638</td><td>-0.796567</td><td>-0.929294</td><td>0.05538</td><td>-0.58574</td><td>-0.891481</td><td>0.184394</td><td>-0.402399</td></tr><tr><td>340</td><td>0</td><td>2</td><td>1.403712</td><td>-0.002521</td><td>-0.261839</td><td>-0.006259</td><td>0.041238</td><td>1.180197</td><td>-1.03497</td><td>-0.990703</td><td>-1.023218</td><td>0.242779</td><td>81</td><td>2</td><td>59</td><td>-1.094649</td><td>-0.381583</td><td>-0.515383</td><td>null</td><td>0.621933</td><td>null</td><td>-1.594152</td><td>-2.23439</td><td>-1.585274</td><td>null</td><td>-1.111434</td><td>-0.880511</td><td>-0.615049</td><td>-0.929672</td><td>null</td><td>null</td><td>0.668325</td><td>-0.378213</td><td>-0.514761</td><td>null</td><td>null</td><td>&hellip;</td><td>-1.394318</td><td>null</td><td>null</td><td>-2.148139</td><td>null</td><td>-2.872841</td><td>0.405369</td><td>null</td><td>-6.387812</td><td>-2.851222</td><td>0.354287</td><td>null</td><td>null</td><td>null</td><td>null</td><td>null</td><td>-0.934786</td><td>-0.180497</td><td>-0.628079</td><td>-0.357187</td><td>-0.363289</td><td>-0.860691</td><td>null</td><td>null</td><td>3.899125</td><td>4.003406</td><td>3.078561</td><td>2.798186</td><td>0.268406</td><td>-0.458026</td><td>-1.878922</td><td>4.185539</td><td>0.808422</td><td>0.217188</td><td>4.563775</td><td>0.802501</td><td>1.707263</td></tr><tr><td>340</td><td>0</td><td>3</td><td>0.904068</td><td>0.285563</td><td>0.159232</td><td>0.158522</td><td>-0.564407</td><td>1.300828</td><td>-0.625577</td><td>-0.515945</td><td>-0.97785</td><td>0.166003</td><td>4</td><td>3</td><td>11</td><td>-0.952348</td><td>0.03583</td><td>-0.6385</td><td>null</td><td>-0.386088</td><td>null</td><td>-1.722304</td><td>-1.366947</td><td>0.573252</td><td>null</td><td>-1.292146</td><td>-1.503999</td><td>0.018867</td><td>0.922218</td><td>null</td><td>null</td><td>-1.658296</td><td>-0.531493</td><td>-0.40409</td><td>null</td><td>null</td><td>&hellip;</td><td>0.575681</td><td>null</td><td>null</td><td>0.415187</td><td>null</td><td>-1.794518</td><td>2.370505</td><td>null</td><td>1.061412</td><td>0.518248</td><td>0.354287</td><td>null</td><td>null</td><td>null</td><td>null</td><td>null</td><td>-0.845495</td><td>-0.389196</td><td>-0.486743</td><td>-0.940938</td><td>0.477874</td><td>-0.355728</td><td>null</td><td>null</td><td>-0.242512</td><td>-0.122299</td><td>-1.381474</td><td>-1.028829</td><td>0.960588</td><td>0.610246</td><td>2.921769</td><td>-0.170994</td><td>1.217213</td><td>1.891398</td><td>-1.207013</td><td>0.868314</td><td>0.723984</td></tr><tr><td>340</td><td>0</td><td>7</td><td>1.308947</td><td>0.321869</td><td>0.21162</td><td>-0.195385</td><td>-0.358547</td><td>1.595914</td><td>-0.820045</td><td>-0.784618</td><td>-0.980539</td><td>0.141644</td><td>11</td><td>7</td><td>76</td><td>-0.616368</td><td>0.06837</td><td>-0.528482</td><td>null</td><td>0.456114</td><td>null</td><td>-1.364704</td><td>-1.394208</td><td>0.403004</td><td>null</td><td>-0.905881</td><td>0.426851</td><td>-0.080544</td><td>0.169472</td><td>null</td><td>null</td><td>-0.200466</td><td>0.608431</td><td>0.368937</td><td>null</td><td>null</td><td>&hellip;</td><td>0.264612</td><td>null</td><td>null</td><td>-1.777309</td><td>null</td><td>-1.912758</td><td>1.706022</td><td>null</td><td>-3.100237</td><td>-2.136816</td><td>0.354287</td><td>-0.399794</td><td>-0.245318</td><td>-0.427707</td><td>-1.135021</td><td>-2.254114</td><td>-0.830527</td><td>0.172057</td><td>-0.505734</td><td>-1.142089</td><td>-0.00505</td><td>-0.587971</td><td>null</td><td>null</td><td>-0.275009</td><td>-0.227588</td><td>-0.291639</td><td>-0.284915</td><td>2.084096</td><td>0.359311</td><td>0.511679</td><td>-0.377202</td><td>0.44148</td><td>-0.564688</td><td>-2.682818</td><td>0.118382</td><td>-1.58881</td></tr></tbody></table></div>"
      ],
      "text/plain": [
       "shape: (5, 92)\n",
       "┌─────────┬─────────┬───────────┬──────────┬───┬────────────┬────────────┬────────────┬────────────┐\n",
       "│ date_id ┆ time_id ┆ symbol_id ┆ weight   ┆ … ┆ responder_ ┆ responder_ ┆ responder_ ┆ responder_ │\n",
       "│ ---     ┆ ---     ┆ ---       ┆ ---      ┆   ┆ 5          ┆ 6          ┆ 7          ┆ 8          │\n",
       "│ i16     ┆ i16     ┆ i8        ┆ f32      ┆   ┆ ---        ┆ ---        ┆ ---        ┆ ---        │\n",
       "│         ┆         ┆           ┆          ┆   ┆ f32        ┆ f32        ┆ f32        ┆ f32        │\n",
       "╞═════════╪═════════╪═══════════╪══════════╪═══╪════════════╪════════════╪════════════╪════════════╡\n",
       "│ 340     ┆ 0       ┆ 0         ┆ 1.902722 ┆ … ┆ 0.814566   ┆ -0.132949  ┆ 1.183992   ┆ 0.371725   │\n",
       "│ 340     ┆ 0       ┆ 1         ┆ 4.090041 ┆ … ┆ -0.58574   ┆ -0.891481  ┆ 0.184394   ┆ -0.402399  │\n",
       "│ 340     ┆ 0       ┆ 2         ┆ 1.403712 ┆ … ┆ 0.217188   ┆ 4.563775   ┆ 0.802501   ┆ 1.707263   │\n",
       "│ 340     ┆ 0       ┆ 3         ┆ 0.904068 ┆ … ┆ 1.891398   ┆ -1.207013  ┆ 0.868314   ┆ 0.723984   │\n",
       "│ 340     ┆ 0       ┆ 7         ┆ 1.308947 ┆ … ┆ -0.564688  ┆ -2.682818  ┆ 0.118382   ┆ -1.58881   │\n",
       "└─────────┴─────────┴───────────┴──────────┴───┴────────────┴────────────┴────────────┴────────────┘"
      ]
     },
     "execution_count": 4,
     "metadata": {},
     "output_type": "execute_result"
    }
   ],
   "source": [
    "final_df.head()"
   ]
  },
  {
   "cell_type": "markdown",
   "id": "4e76ed20",
   "metadata": {
    "papermill": {
     "duration": 0.005676,
     "end_time": "2024-11-24T20:21:56.721169",
     "exception": false,
     "start_time": "2024-11-24T20:21:56.715493",
     "status": "completed"
    },
    "tags": []
   },
   "source": [
    "### Checking NaNs"
   ]
  },
  {
   "cell_type": "code",
   "execution_count": 5,
   "id": "4788e460",
   "metadata": {
    "execution": {
     "iopub.execute_input": "2024-11-24T20:21:56.734797Z",
     "iopub.status.busy": "2024-11-24T20:21:56.734526Z",
     "iopub.status.idle": "2024-11-24T20:21:56.742573Z",
     "shell.execute_reply": "2024-11-24T20:21:56.741662Z"
    },
    "papermill": {
     "duration": 0.017289,
     "end_time": "2024-11-24T20:21:56.744099",
     "exception": false,
     "start_time": "2024-11-24T20:21:56.726810",
     "status": "completed"
    },
    "tags": []
   },
   "outputs": [
    {
     "data": {
      "text/html": [
       "<div><style>\n",
       ".dataframe > thead > tr,\n",
       ".dataframe > tbody > tr {\n",
       "  text-align: right;\n",
       "  white-space: pre-wrap;\n",
       "}\n",
       "</style>\n",
       "<small>shape: (1, 92)</small><table border=\"1\" class=\"dataframe\"><thead><tr><th>date_id</th><th>time_id</th><th>symbol_id</th><th>weight</th><th>feature_00</th><th>feature_01</th><th>feature_02</th><th>feature_03</th><th>feature_04</th><th>feature_05</th><th>feature_06</th><th>feature_07</th><th>feature_08</th><th>feature_09</th><th>feature_10</th><th>feature_11</th><th>feature_12</th><th>feature_13</th><th>feature_14</th><th>feature_15</th><th>feature_16</th><th>feature_17</th><th>feature_18</th><th>feature_19</th><th>feature_20</th><th>feature_21</th><th>feature_22</th><th>feature_23</th><th>feature_24</th><th>feature_25</th><th>feature_26</th><th>feature_27</th><th>feature_28</th><th>feature_29</th><th>feature_30</th><th>feature_31</th><th>feature_32</th><th>&hellip;</th><th>feature_51</th><th>feature_52</th><th>feature_53</th><th>feature_54</th><th>feature_55</th><th>feature_56</th><th>feature_57</th><th>feature_58</th><th>feature_59</th><th>feature_60</th><th>feature_61</th><th>feature_62</th><th>feature_63</th><th>feature_64</th><th>feature_65</th><th>feature_66</th><th>feature_67</th><th>feature_68</th><th>feature_69</th><th>feature_70</th><th>feature_71</th><th>feature_72</th><th>feature_73</th><th>feature_74</th><th>feature_75</th><th>feature_76</th><th>feature_77</th><th>feature_78</th><th>responder_0</th><th>responder_1</th><th>responder_2</th><th>responder_3</th><th>responder_4</th><th>responder_5</th><th>responder_6</th><th>responder_7</th><th>responder_8</th></tr><tr><td>u32</td><td>u32</td><td>u32</td><td>u32</td><td>u32</td><td>u32</td><td>u32</td><td>u32</td><td>u32</td><td>u32</td><td>u32</td><td>u32</td><td>u32</td><td>u32</td><td>u32</td><td>u32</td><td>u32</td><td>u32</td><td>u32</td><td>u32</td><td>u32</td><td>u32</td><td>u32</td><td>u32</td><td>u32</td><td>u32</td><td>u32</td><td>u32</td><td>u32</td><td>u32</td><td>u32</td><td>u32</td><td>u32</td><td>u32</td><td>u32</td><td>u32</td><td>u32</td><td>&hellip;</td><td>u32</td><td>u32</td><td>u32</td><td>u32</td><td>u32</td><td>u32</td><td>u32</td><td>u32</td><td>u32</td><td>u32</td><td>u32</td><td>u32</td><td>u32</td><td>u32</td><td>u32</td><td>u32</td><td>u32</td><td>u32</td><td>u32</td><td>u32</td><td>u32</td><td>u32</td><td>u32</td><td>u32</td><td>u32</td><td>u32</td><td>u32</td><td>u32</td><td>u32</td><td>u32</td><td>u32</td><td>u32</td><td>u32</td><td>u32</td><td>u32</td><td>u32</td><td>u32</td></tr></thead><tbody><tr><td>0</td><td>0</td><td>0</td><td>0</td><td>0</td><td>0</td><td>0</td><td>0</td><td>0</td><td>0</td><td>0</td><td>0</td><td>0</td><td>0</td><td>0</td><td>0</td><td>0</td><td>0</td><td>0</td><td>85860</td><td>23</td><td>14336</td><td>20</td><td>20</td><td>0</td><td>3036873</td><td>0</td><td>0</td><td>0</td><td>0</td><td>3036873</td><td>3036873</td><td>0</td><td>0</td><td>0</td><td>3036873</td><td>33752</td><td>&hellip;</td><td>3577</td><td>100156</td><td>457856</td><td>3577</td><td>100156</td><td>20</td><td>20</td><td>33752</td><td>0</td><td>0</td><td>0</td><td>30070</td><td>18714</td><td>20499</td><td>29348</td><td>29348</td><td>0</td><td>0</td><td>0</td><td>0</td><td>0</td><td>0</td><td>33752</td><td>33752</td><td>192</td><td>192</td><td>0</td><td>0</td><td>0</td><td>0</td><td>0</td><td>0</td><td>0</td><td>0</td><td>0</td><td>0</td><td>0</td></tr></tbody></table></div>"
      ],
      "text/plain": [
       "shape: (1, 92)\n",
       "┌─────────┬─────────┬───────────┬────────┬───┬─────────────┬─────────────┬────────────┬────────────┐\n",
       "│ date_id ┆ time_id ┆ symbol_id ┆ weight ┆ … ┆ responder_5 ┆ responder_6 ┆ responder_ ┆ responder_ │\n",
       "│ ---     ┆ ---     ┆ ---       ┆ ---    ┆   ┆ ---         ┆ ---         ┆ 7          ┆ 8          │\n",
       "│ u32     ┆ u32     ┆ u32       ┆ u32    ┆   ┆ u32         ┆ u32         ┆ ---        ┆ ---        │\n",
       "│         ┆         ┆           ┆        ┆   ┆             ┆             ┆ u32        ┆ u32        │\n",
       "╞═════════╪═════════╪═══════════╪════════╪═══╪═════════════╪═════════════╪════════════╪════════════╡\n",
       "│ 0       ┆ 0       ┆ 0         ┆ 0      ┆ … ┆ 0           ┆ 0           ┆ 0          ┆ 0          │\n",
       "└─────────┴─────────┴───────────┴────────┴───┴─────────────┴─────────────┴────────────┴────────────┘"
      ]
     },
     "execution_count": 5,
     "metadata": {},
     "output_type": "execute_result"
    }
   ],
   "source": [
    "# Check for NaN (or null) values in Polars DataFrame\n",
    "null_counts = final_df.null_count()\n",
    "\n",
    "null_counts"
   ]
  },
  {
   "cell_type": "code",
   "execution_count": 6,
   "id": "99d09260",
   "metadata": {
    "execution": {
     "iopub.execute_input": "2024-11-24T20:21:56.756976Z",
     "iopub.status.busy": "2024-11-24T20:21:56.756675Z",
     "iopub.status.idle": "2024-11-24T20:21:56.770464Z",
     "shell.execute_reply": "2024-11-24T20:21:56.769534Z"
    },
    "papermill": {
     "duration": 0.022154,
     "end_time": "2024-11-24T20:21:56.772101",
     "exception": false,
     "start_time": "2024-11-24T20:21:56.749947",
     "status": "completed"
    },
    "tags": []
   },
   "outputs": [
    {
     "data": {
      "text/html": [
       "<div><style>\n",
       ".dataframe > thead > tr,\n",
       ".dataframe > tbody > tr {\n",
       "  text-align: right;\n",
       "  white-space: pre-wrap;\n",
       "}\n",
       "</style>\n",
       "<small>shape: (5, 73)</small><table border=\"1\" class=\"dataframe\"><thead><tr><th>date_id</th><th>time_id</th><th>symbol_id</th><th>weight</th><th>feature_05</th><th>feature_06</th><th>feature_07</th><th>feature_08</th><th>feature_09</th><th>feature_10</th><th>feature_11</th><th>feature_12</th><th>feature_13</th><th>feature_14</th><th>feature_16</th><th>feature_17</th><th>feature_18</th><th>feature_19</th><th>feature_20</th><th>feature_22</th><th>feature_23</th><th>feature_24</th><th>feature_25</th><th>feature_28</th><th>feature_29</th><th>feature_30</th><th>feature_32</th><th>feature_33</th><th>feature_34</th><th>feature_35</th><th>feature_36</th><th>feature_37</th><th>feature_38</th><th>feature_40</th><th>feature_43</th><th>feature_44</th><th>feature_45</th><th>feature_46</th><th>feature_47</th><th>feature_48</th><th>feature_49</th><th>feature_51</th><th>feature_54</th><th>feature_56</th><th>feature_57</th><th>feature_58</th><th>feature_59</th><th>feature_60</th><th>feature_61</th><th>feature_62</th><th>feature_63</th><th>feature_64</th><th>feature_65</th><th>feature_66</th><th>feature_67</th><th>feature_68</th><th>feature_69</th><th>feature_70</th><th>feature_71</th><th>feature_72</th><th>feature_75</th><th>feature_76</th><th>feature_77</th><th>feature_78</th><th>responder_0</th><th>responder_1</th><th>responder_2</th><th>responder_3</th><th>responder_4</th><th>responder_5</th><th>responder_6</th><th>responder_7</th><th>responder_8</th></tr><tr><td>i16</td><td>i16</td><td>i8</td><td>f32</td><td>f32</td><td>f32</td><td>f32</td><td>f32</td><td>i8</td><td>i8</td><td>i16</td><td>f32</td><td>f32</td><td>f32</td><td>f32</td><td>f32</td><td>f32</td><td>f32</td><td>f32</td><td>f32</td><td>f32</td><td>f32</td><td>f32</td><td>f32</td><td>f32</td><td>f32</td><td>f32</td><td>f32</td><td>f32</td><td>f32</td><td>f32</td><td>f32</td><td>f32</td><td>f32</td><td>f32</td><td>f32</td><td>f32</td><td>f32</td><td>f32</td><td>f32</td><td>f32</td><td>f32</td><td>f32</td><td>f32</td><td>f32</td><td>f32</td><td>f32</td><td>f32</td><td>f32</td><td>f32</td><td>f32</td><td>f32</td><td>f32</td><td>f32</td><td>f32</td><td>f32</td><td>f32</td><td>f32</td><td>f32</td><td>f32</td><td>f32</td><td>f32</td><td>f32</td><td>f32</td><td>f32</td><td>f32</td><td>f32</td><td>f32</td><td>f32</td><td>f32</td><td>f32</td><td>f32</td><td>f32</td></tr></thead><tbody><tr><td>340</td><td>0</td><td>0</td><td>1.902722</td><td>-0.665424</td><td>-1.030033</td><td>-1.52801</td><td>0.261375</td><td>11</td><td>7</td><td>76</td><td>-1.169775</td><td>-0.29928</td><td>-0.477456</td><td>-0.423311</td><td>null</td><td>-1.333162</td><td>-1.69736</td><td>0.204428</td><td>-0.089592</td><td>-0.207202</td><td>-0.697006</td><td>-0.771086</td><td>0.79118</td><td>-0.361479</td><td>-0.114389</td><td>null</td><td>null</td><td>-0.175443</td><td>-0.080401</td><td>1.368903</td><td>0.198668</td><td>0.0459</td><td>-2.47452</td><td>-2.898822</td><td>null</td><td>null</td><td>null</td><td>0.296719</td><td>-0.7349</td><td>-0.130546</td><td>-0.928921</td><td>-2.067725</td><td>-2.501255</td><td>1.346438</td><td>null</td><td>-0.946561</td><td>-0.337844</td><td>0.354287</td><td>null</td><td>null</td><td>null</td><td>null</td><td>null</td><td>-0.702601</td><td>-0.266509</td><td>-0.533959</td><td>-1.319765</td><td>-0.160904</td><td>-0.953981</td><td>0.210584</td><td>0.312869</td><td>-0.187011</td><td>-0.183416</td><td>0.251685</td><td>0.421458</td><td>0.771927</td><td>0.07199</td><td>1.426416</td><td>0.814566</td><td>-0.132949</td><td>1.183992</td><td>0.371725</td></tr><tr><td>340</td><td>0</td><td>1</td><td>4.090041</td><td>-0.528798</td><td>-0.884754</td><td>-1.44379</td><td>0.22066</td><td>11</td><td>7</td><td>76</td><td>-0.837111</td><td>0.421702</td><td>-0.336571</td><td>-0.530792</td><td>null</td><td>-0.878517</td><td>-0.865011</td><td>0.83415</td><td>1.584139</td><td>1.088018</td><td>-0.088035</td><td>0.203477</td><td>1.462279</td><td>-0.296079</td><td>-0.364353</td><td>null</td><td>null</td><td>-0.041622</td><td>-0.062732</td><td>-0.881672</td><td>0.00925</td><td>0.16369</td><td>0.819656</td><td>0.873064</td><td>null</td><td>-1.479233</td><td>2.186059</td><td>-0.092519</td><td>1.206873</td><td>0.350423</td><td>1.465106</td><td>0.999406</td><td>-1.427631</td><td>2.658593</td><td>null</td><td>1.788883</td><td>0.399241</td><td>0.354287</td><td>-0.232378</td><td>-0.293213</td><td>-0.304407</td><td>-1.098295</td><td>-1.787442</td><td>-0.965382</td><td>0.135424</td><td>-0.344909</td><td>-1.035528</td><td>1.161382</td><td>-0.308803</td><td>-0.240021</td><td>-0.312621</td><td>-0.338355</td><td>-0.29285</td><td>-0.199408</td><td>-0.148638</td><td>-0.796567</td><td>-0.929294</td><td>0.05538</td><td>-0.58574</td><td>-0.891481</td><td>0.184394</td><td>-0.402399</td></tr><tr><td>340</td><td>0</td><td>2</td><td>1.403712</td><td>-1.03497</td><td>-0.990703</td><td>-1.023218</td><td>0.242779</td><td>81</td><td>2</td><td>59</td><td>-1.094649</td><td>-0.381583</td><td>-0.515383</td><td>0.621933</td><td>null</td><td>-1.594152</td><td>-2.23439</td><td>-1.585274</td><td>-1.111434</td><td>-0.880511</td><td>-0.615049</td><td>-0.929672</td><td>0.668325</td><td>-0.378213</td><td>-0.514761</td><td>null</td><td>null</td><td>-0.313938</td><td>0.633901</td><td>2.461723</td><td>0.308924</td><td>-0.110976</td><td>0.281677</td><td>1.256042</td><td>null</td><td>null</td><td>null</td><td>-0.184656</td><td>-4.855862</td><td>-0.116942</td><td>-1.394318</td><td>-2.148139</td><td>-2.872841</td><td>0.405369</td><td>null</td><td>-6.387812</td><td>-2.851222</td><td>0.354287</td><td>null</td><td>null</td><td>null</td><td>null</td><td>null</td><td>-0.934786</td><td>-0.180497</td><td>-0.628079</td><td>-0.357187</td><td>-0.363289</td><td>-0.860691</td><td>3.899125</td><td>4.003406</td><td>3.078561</td><td>2.798186</td><td>0.268406</td><td>-0.458026</td><td>-1.878922</td><td>4.185539</td><td>0.808422</td><td>0.217188</td><td>4.563775</td><td>0.802501</td><td>1.707263</td></tr><tr><td>340</td><td>0</td><td>3</td><td>0.904068</td><td>-0.625577</td><td>-0.515945</td><td>-0.97785</td><td>0.166003</td><td>4</td><td>3</td><td>11</td><td>-0.952348</td><td>0.03583</td><td>-0.6385</td><td>-0.386088</td><td>null</td><td>-1.722304</td><td>-1.366947</td><td>0.573252</td><td>-1.292146</td><td>-1.503999</td><td>0.018867</td><td>0.922218</td><td>-1.658296</td><td>-0.531493</td><td>-0.40409</td><td>null</td><td>null</td><td>-1.022619</td><td>0.139672</td><td>2.735279</td><td>-0.045127</td><td>-0.041756</td><td>0.784627</td><td>0.986058</td><td>null</td><td>null</td><td>null</td><td>1.101612</td><td>4.273861</td><td>2.538638</td><td>0.575681</td><td>0.415187</td><td>-1.794518</td><td>2.370505</td><td>null</td><td>1.061412</td><td>0.518248</td><td>0.354287</td><td>null</td><td>null</td><td>null</td><td>null</td><td>null</td><td>-0.845495</td><td>-0.389196</td><td>-0.486743</td><td>-0.940938</td><td>0.477874</td><td>-0.355728</td><td>-0.242512</td><td>-0.122299</td><td>-1.381474</td><td>-1.028829</td><td>0.960588</td><td>0.610246</td><td>2.921769</td><td>-0.170994</td><td>1.217213</td><td>1.891398</td><td>-1.207013</td><td>0.868314</td><td>0.723984</td></tr><tr><td>340</td><td>0</td><td>7</td><td>1.308947</td><td>-0.820045</td><td>-0.784618</td><td>-0.980539</td><td>0.141644</td><td>11</td><td>7</td><td>76</td><td>-0.616368</td><td>0.06837</td><td>-0.528482</td><td>0.456114</td><td>null</td><td>-1.364704</td><td>-1.394208</td><td>0.403004</td><td>-0.905881</td><td>0.426851</td><td>-0.080544</td><td>0.169472</td><td>-0.200466</td><td>0.608431</td><td>0.368937</td><td>null</td><td>null</td><td>0.285615</td><td>0.605041</td><td>2.507432</td><td>0.126652</td><td>0.102229</td><td>0.897112</td><td>0.1843</td><td>null</td><td>-1.201433</td><td>2.674997</td><td>0.778638</td><td>0.520687</td><td>1.136911</td><td>0.264612</td><td>-1.777309</td><td>-1.912758</td><td>1.706022</td><td>null</td><td>-3.100237</td><td>-2.136816</td><td>0.354287</td><td>-0.399794</td><td>-0.245318</td><td>-0.427707</td><td>-1.135021</td><td>-2.254114</td><td>-0.830527</td><td>0.172057</td><td>-0.505734</td><td>-1.142089</td><td>-0.00505</td><td>-0.587971</td><td>-0.275009</td><td>-0.227588</td><td>-0.291639</td><td>-0.284915</td><td>2.084096</td><td>0.359311</td><td>0.511679</td><td>-0.377202</td><td>0.44148</td><td>-0.564688</td><td>-2.682818</td><td>0.118382</td><td>-1.58881</td></tr></tbody></table></div>"
      ],
      "text/plain": [
       "shape: (5, 73)\n",
       "┌─────────┬─────────┬───────────┬──────────┬───┬────────────┬────────────┬────────────┬────────────┐\n",
       "│ date_id ┆ time_id ┆ symbol_id ┆ weight   ┆ … ┆ responder_ ┆ responder_ ┆ responder_ ┆ responder_ │\n",
       "│ ---     ┆ ---     ┆ ---       ┆ ---      ┆   ┆ 5          ┆ 6          ┆ 7          ┆ 8          │\n",
       "│ i16     ┆ i16     ┆ i8        ┆ f32      ┆   ┆ ---        ┆ ---        ┆ ---        ┆ ---        │\n",
       "│         ┆         ┆           ┆          ┆   ┆ f32        ┆ f32        ┆ f32        ┆ f32        │\n",
       "╞═════════╪═════════╪═══════════╪══════════╪═══╪════════════╪════════════╪════════════╪════════════╡\n",
       "│ 340     ┆ 0       ┆ 0         ┆ 1.902722 ┆ … ┆ 0.814566   ┆ -0.132949  ┆ 1.183992   ┆ 0.371725   │\n",
       "│ 340     ┆ 0       ┆ 1         ┆ 4.090041 ┆ … ┆ -0.58574   ┆ -0.891481  ┆ 0.184394   ┆ -0.402399  │\n",
       "│ 340     ┆ 0       ┆ 2         ┆ 1.403712 ┆ … ┆ 0.217188   ┆ 4.563775   ┆ 0.802501   ┆ 1.707263   │\n",
       "│ 340     ┆ 0       ┆ 3         ┆ 0.904068 ┆ … ┆ 1.891398   ┆ -1.207013  ┆ 0.868314   ┆ 0.723984   │\n",
       "│ 340     ┆ 0       ┆ 7         ┆ 1.308947 ┆ … ┆ -0.564688  ┆ -2.682818  ┆ 0.118382   ┆ -1.58881   │\n",
       "└─────────┴─────────┴───────────┴──────────┴───┴────────────┴────────────┴────────────┴────────────┘"
      ]
     },
     "execution_count": 6,
     "metadata": {},
     "output_type": "execute_result"
    }
   ],
   "source": [
    "# List of high NaN features (> 1 million NaNs out of 47 million rows)\n",
    "high_nan_features = [15, 21, 26, 27, 31, 52, 53, 55, 73, 74, 0, 1, 2, 3, 4, 39, 42, 41, 50]\n",
    "\n",
    "# Create zero-padded feature names\n",
    "drop_feats = [f\"feature_{str(i).zfill(2)}\" for i in high_nan_features]\n",
    "\n",
    "# Drop the features from the DataFrame\n",
    "filtered_df = final_df.drop(drop_feats)\n",
    "filtered_df.head()"
   ]
  },
  {
   "cell_type": "code",
   "execution_count": 7,
   "id": "08be6dd4",
   "metadata": {
    "execution": {
     "iopub.execute_input": "2024-11-24T20:21:56.785720Z",
     "iopub.status.busy": "2024-11-24T20:21:56.785033Z",
     "iopub.status.idle": "2024-11-24T20:21:56.791216Z",
     "shell.execute_reply": "2024-11-24T20:21:56.790396Z"
    },
    "papermill": {
     "duration": 0.014851,
     "end_time": "2024-11-24T20:21:56.792952",
     "exception": false,
     "start_time": "2024-11-24T20:21:56.778101",
     "status": "completed"
    },
    "tags": []
   },
   "outputs": [
    {
     "data": {
      "text/html": [
       "<div><style>\n",
       ".dataframe > thead > tr,\n",
       ".dataframe > tbody > tr {\n",
       "  text-align: right;\n",
       "  white-space: pre-wrap;\n",
       "}\n",
       "</style>\n",
       "<small>shape: (1, 73)</small><table border=\"1\" class=\"dataframe\"><thead><tr><th>date_id</th><th>time_id</th><th>symbol_id</th><th>weight</th><th>feature_05</th><th>feature_06</th><th>feature_07</th><th>feature_08</th><th>feature_09</th><th>feature_10</th><th>feature_11</th><th>feature_12</th><th>feature_13</th><th>feature_14</th><th>feature_16</th><th>feature_17</th><th>feature_18</th><th>feature_19</th><th>feature_20</th><th>feature_22</th><th>feature_23</th><th>feature_24</th><th>feature_25</th><th>feature_28</th><th>feature_29</th><th>feature_30</th><th>feature_32</th><th>feature_33</th><th>feature_34</th><th>feature_35</th><th>feature_36</th><th>feature_37</th><th>feature_38</th><th>feature_40</th><th>feature_43</th><th>feature_44</th><th>feature_45</th><th>feature_46</th><th>feature_47</th><th>feature_48</th><th>feature_49</th><th>feature_51</th><th>feature_54</th><th>feature_56</th><th>feature_57</th><th>feature_58</th><th>feature_59</th><th>feature_60</th><th>feature_61</th><th>feature_62</th><th>feature_63</th><th>feature_64</th><th>feature_65</th><th>feature_66</th><th>feature_67</th><th>feature_68</th><th>feature_69</th><th>feature_70</th><th>feature_71</th><th>feature_72</th><th>feature_75</th><th>feature_76</th><th>feature_77</th><th>feature_78</th><th>responder_0</th><th>responder_1</th><th>responder_2</th><th>responder_3</th><th>responder_4</th><th>responder_5</th><th>responder_6</th><th>responder_7</th><th>responder_8</th></tr><tr><td>u32</td><td>u32</td><td>u32</td><td>u32</td><td>u32</td><td>u32</td><td>u32</td><td>u32</td><td>u32</td><td>u32</td><td>u32</td><td>u32</td><td>u32</td><td>u32</td><td>u32</td><td>u32</td><td>u32</td><td>u32</td><td>u32</td><td>u32</td><td>u32</td><td>u32</td><td>u32</td><td>u32</td><td>u32</td><td>u32</td><td>u32</td><td>u32</td><td>u32</td><td>u32</td><td>u32</td><td>u32</td><td>u32</td><td>u32</td><td>u32</td><td>u32</td><td>u32</td><td>u32</td><td>u32</td><td>u32</td><td>u32</td><td>u32</td><td>u32</td><td>u32</td><td>u32</td><td>u32</td><td>u32</td><td>u32</td><td>u32</td><td>u32</td><td>u32</td><td>u32</td><td>u32</td><td>u32</td><td>u32</td><td>u32</td><td>u32</td><td>u32</td><td>u32</td><td>u32</td><td>u32</td><td>u32</td><td>u32</td><td>u32</td><td>u32</td><td>u32</td><td>u32</td><td>u32</td><td>u32</td><td>u32</td><td>u32</td><td>u32</td><td>u32</td></tr></thead><tbody><tr><td>0</td><td>0</td><td>0</td><td>0</td><td>0</td><td>0</td><td>0</td><td>0</td><td>0</td><td>0</td><td>0</td><td>0</td><td>0</td><td>0</td><td>23</td><td>14336</td><td>20</td><td>20</td><td>0</td><td>0</td><td>0</td><td>0</td><td>0</td><td>0</td><td>0</td><td>0</td><td>33752</td><td>33752</td><td>0</td><td>0</td><td>0</td><td>0</td><td>0</td><td>7346</td><td>7346</td><td>103254</td><td>29348</td><td>29348</td><td>0</td><td>0</td><td>0</td><td>3577</td><td>3577</td><td>20</td><td>20</td><td>33752</td><td>0</td><td>0</td><td>0</td><td>30070</td><td>18714</td><td>20499</td><td>29348</td><td>29348</td><td>0</td><td>0</td><td>0</td><td>0</td><td>0</td><td>0</td><td>192</td><td>192</td><td>0</td><td>0</td><td>0</td><td>0</td><td>0</td><td>0</td><td>0</td><td>0</td><td>0</td><td>0</td><td>0</td></tr></tbody></table></div>"
      ],
      "text/plain": [
       "shape: (1, 73)\n",
       "┌─────────┬─────────┬───────────┬────────┬───┬─────────────┬─────────────┬────────────┬────────────┐\n",
       "│ date_id ┆ time_id ┆ symbol_id ┆ weight ┆ … ┆ responder_5 ┆ responder_6 ┆ responder_ ┆ responder_ │\n",
       "│ ---     ┆ ---     ┆ ---       ┆ ---    ┆   ┆ ---         ┆ ---         ┆ 7          ┆ 8          │\n",
       "│ u32     ┆ u32     ┆ u32       ┆ u32    ┆   ┆ u32         ┆ u32         ┆ ---        ┆ ---        │\n",
       "│         ┆         ┆           ┆        ┆   ┆             ┆             ┆ u32        ┆ u32        │\n",
       "╞═════════╪═════════╪═══════════╪════════╪═══╪═════════════╪═════════════╪════════════╪════════════╡\n",
       "│ 0       ┆ 0       ┆ 0         ┆ 0      ┆ … ┆ 0           ┆ 0           ┆ 0          ┆ 0          │\n",
       "└─────────┴─────────┴───────────┴────────┴───┴─────────────┴─────────────┴────────────┴────────────┘"
      ]
     },
     "execution_count": 7,
     "metadata": {},
     "output_type": "execute_result"
    }
   ],
   "source": [
    "filtered_df.null_count()"
   ]
  },
  {
   "cell_type": "code",
   "execution_count": 8,
   "id": "60ba9641",
   "metadata": {
    "execution": {
     "iopub.execute_input": "2024-11-24T20:21:56.806680Z",
     "iopub.status.busy": "2024-11-24T20:21:56.806448Z",
     "iopub.status.idle": "2024-11-24T20:21:57.271533Z",
     "shell.execute_reply": "2024-11-24T20:21:57.270431Z"
    },
    "papermill": {
     "duration": 0.473931,
     "end_time": "2024-11-24T20:21:57.273259",
     "exception": false,
     "start_time": "2024-11-24T20:21:56.799328",
     "status": "completed"
    },
    "tags": []
   },
   "outputs": [
    {
     "data": {
      "text/html": [
       "<div><style>\n",
       ".dataframe > thead > tr,\n",
       ".dataframe > tbody > tr {\n",
       "  text-align: right;\n",
       "  white-space: pre-wrap;\n",
       "}\n",
       "</style>\n",
       "<small>shape: (5, 73)</small><table border=\"1\" class=\"dataframe\"><thead><tr><th>date_id</th><th>time_id</th><th>symbol_id</th><th>weight</th><th>feature_05</th><th>feature_06</th><th>feature_07</th><th>feature_08</th><th>feature_09</th><th>feature_10</th><th>feature_11</th><th>feature_12</th><th>feature_13</th><th>feature_14</th><th>feature_16</th><th>feature_17</th><th>feature_18</th><th>feature_19</th><th>feature_20</th><th>feature_22</th><th>feature_23</th><th>feature_24</th><th>feature_25</th><th>feature_28</th><th>feature_29</th><th>feature_30</th><th>feature_32</th><th>feature_33</th><th>feature_34</th><th>feature_35</th><th>feature_36</th><th>feature_37</th><th>feature_38</th><th>feature_40</th><th>feature_43</th><th>feature_44</th><th>feature_45</th><th>feature_46</th><th>feature_47</th><th>feature_48</th><th>feature_49</th><th>feature_51</th><th>feature_54</th><th>feature_56</th><th>feature_57</th><th>feature_58</th><th>feature_59</th><th>feature_60</th><th>feature_61</th><th>feature_62</th><th>feature_63</th><th>feature_64</th><th>feature_65</th><th>feature_66</th><th>feature_67</th><th>feature_68</th><th>feature_69</th><th>feature_70</th><th>feature_71</th><th>feature_72</th><th>feature_75</th><th>feature_76</th><th>feature_77</th><th>feature_78</th><th>responder_0</th><th>responder_1</th><th>responder_2</th><th>responder_3</th><th>responder_4</th><th>responder_5</th><th>responder_6</th><th>responder_7</th><th>responder_8</th></tr><tr><td>i16</td><td>i16</td><td>i8</td><td>f32</td><td>f32</td><td>f32</td><td>f32</td><td>f32</td><td>i8</td><td>i8</td><td>i16</td><td>f32</td><td>f32</td><td>f32</td><td>f32</td><td>f32</td><td>f32</td><td>f32</td><td>f32</td><td>f32</td><td>f32</td><td>f32</td><td>f32</td><td>f32</td><td>f32</td><td>f32</td><td>f32</td><td>f32</td><td>f32</td><td>f32</td><td>f32</td><td>f32</td><td>f32</td><td>f32</td><td>f32</td><td>f32</td><td>f32</td><td>f32</td><td>f32</td><td>f32</td><td>f32</td><td>f32</td><td>f32</td><td>f32</td><td>f32</td><td>f32</td><td>f32</td><td>f32</td><td>f32</td><td>f32</td><td>f32</td><td>f32</td><td>f32</td><td>f32</td><td>f32</td><td>f32</td><td>f32</td><td>f32</td><td>f32</td><td>f32</td><td>f32</td><td>f32</td><td>f32</td><td>f32</td><td>f32</td><td>f32</td><td>f32</td><td>f32</td><td>f32</td><td>f32</td><td>f32</td><td>f32</td><td>f32</td></tr></thead><tbody><tr><td>340</td><td>0</td><td>0</td><td>1.902722</td><td>-0.665424</td><td>-1.030033</td><td>-1.52801</td><td>0.261375</td><td>11</td><td>7</td><td>76</td><td>-1.169775</td><td>-0.29928</td><td>-0.477456</td><td>-0.423311</td><td>-0.384091</td><td>-1.333162</td><td>-1.69736</td><td>0.204428</td><td>-0.089592</td><td>-0.207202</td><td>-0.697006</td><td>-0.771086</td><td>0.79118</td><td>-0.361479</td><td>-0.114389</td><td>0.459056</td><td>1.68</td><td>-0.175443</td><td>-0.080401</td><td>1.368903</td><td>0.198668</td><td>0.0459</td><td>-2.47452</td><td>-2.898822</td><td>-3.075416</td><td>-1.479233</td><td>2.186059</td><td>0.296719</td><td>-0.7349</td><td>-0.130546</td><td>-0.928921</td><td>-2.067725</td><td>-2.501255</td><td>1.346438</td><td>-0.851455</td><td>-0.946561</td><td>-0.337844</td><td>0.354287</td><td>-0.232378</td><td>-0.293213</td><td>-0.304407</td><td>-1.098295</td><td>-1.787442</td><td>-0.702601</td><td>-0.266509</td><td>-0.533959</td><td>-1.319765</td><td>-0.160904</td><td>-0.953981</td><td>0.210584</td><td>0.312869</td><td>-0.187011</td><td>-0.183416</td><td>0.251685</td><td>0.421458</td><td>0.771927</td><td>0.07199</td><td>1.426416</td><td>0.814566</td><td>-0.132949</td><td>1.183992</td><td>0.371725</td></tr><tr><td>340</td><td>0</td><td>1</td><td>4.090041</td><td>-0.528798</td><td>-0.884754</td><td>-1.44379</td><td>0.22066</td><td>11</td><td>7</td><td>76</td><td>-0.837111</td><td>0.421702</td><td>-0.336571</td><td>-0.530792</td><td>-0.384091</td><td>-0.878517</td><td>-0.865011</td><td>0.83415</td><td>1.584139</td><td>1.088018</td><td>-0.088035</td><td>0.203477</td><td>1.462279</td><td>-0.296079</td><td>-0.364353</td><td>0.459056</td><td>1.68</td><td>-0.041622</td><td>-0.062732</td><td>-0.881672</td><td>0.00925</td><td>0.16369</td><td>0.819656</td><td>0.873064</td><td>-3.075416</td><td>-1.479233</td><td>2.186059</td><td>-0.092519</td><td>1.206873</td><td>0.350423</td><td>1.465106</td><td>0.999406</td><td>-1.427631</td><td>2.658593</td><td>-0.851455</td><td>1.788883</td><td>0.399241</td><td>0.354287</td><td>-0.232378</td><td>-0.293213</td><td>-0.304407</td><td>-1.098295</td><td>-1.787442</td><td>-0.965382</td><td>0.135424</td><td>-0.344909</td><td>-1.035528</td><td>1.161382</td><td>-0.308803</td><td>-0.240021</td><td>-0.312621</td><td>-0.338355</td><td>-0.29285</td><td>-0.199408</td><td>-0.148638</td><td>-0.796567</td><td>-0.929294</td><td>0.05538</td><td>-0.58574</td><td>-0.891481</td><td>0.184394</td><td>-0.402399</td></tr><tr><td>340</td><td>0</td><td>2</td><td>1.403712</td><td>-1.03497</td><td>-0.990703</td><td>-1.023218</td><td>0.242779</td><td>81</td><td>2</td><td>59</td><td>-1.094649</td><td>-0.381583</td><td>-0.515383</td><td>0.621933</td><td>-0.384091</td><td>-1.594152</td><td>-2.23439</td><td>-1.585274</td><td>-1.111434</td><td>-0.880511</td><td>-0.615049</td><td>-0.929672</td><td>0.668325</td><td>-0.378213</td><td>-0.514761</td><td>0.459056</td><td>1.68</td><td>-0.313938</td><td>0.633901</td><td>2.461723</td><td>0.308924</td><td>-0.110976</td><td>0.281677</td><td>1.256042</td><td>-3.075416</td><td>-1.479233</td><td>2.186059</td><td>-0.184656</td><td>-4.855862</td><td>-0.116942</td><td>-1.394318</td><td>-2.148139</td><td>-2.872841</td><td>0.405369</td><td>-0.851455</td><td>-6.387812</td><td>-2.851222</td><td>0.354287</td><td>-0.232378</td><td>-0.293213</td><td>-0.304407</td><td>-1.098295</td><td>-1.787442</td><td>-0.934786</td><td>-0.180497</td><td>-0.628079</td><td>-0.357187</td><td>-0.363289</td><td>-0.860691</td><td>3.899125</td><td>4.003406</td><td>3.078561</td><td>2.798186</td><td>0.268406</td><td>-0.458026</td><td>-1.878922</td><td>4.185539</td><td>0.808422</td><td>0.217188</td><td>4.563775</td><td>0.802501</td><td>1.707263</td></tr><tr><td>340</td><td>0</td><td>3</td><td>0.904068</td><td>-0.625577</td><td>-0.515945</td><td>-0.97785</td><td>0.166003</td><td>4</td><td>3</td><td>11</td><td>-0.952348</td><td>0.03583</td><td>-0.6385</td><td>-0.386088</td><td>-0.384091</td><td>-1.722304</td><td>-1.366947</td><td>0.573252</td><td>-1.292146</td><td>-1.503999</td><td>0.018867</td><td>0.922218</td><td>-1.658296</td><td>-0.531493</td><td>-0.40409</td><td>0.459056</td><td>1.68</td><td>-1.022619</td><td>0.139672</td><td>2.735279</td><td>-0.045127</td><td>-0.041756</td><td>0.784627</td><td>0.986058</td><td>-3.075416</td><td>-1.479233</td><td>2.186059</td><td>1.101612</td><td>4.273861</td><td>2.538638</td><td>0.575681</td><td>0.415187</td><td>-1.794518</td><td>2.370505</td><td>-0.851455</td><td>1.061412</td><td>0.518248</td><td>0.354287</td><td>-0.232378</td><td>-0.293213</td><td>-0.304407</td><td>-1.098295</td><td>-1.787442</td><td>-0.845495</td><td>-0.389196</td><td>-0.486743</td><td>-0.940938</td><td>0.477874</td><td>-0.355728</td><td>-0.242512</td><td>-0.122299</td><td>-1.381474</td><td>-1.028829</td><td>0.960588</td><td>0.610246</td><td>2.921769</td><td>-0.170994</td><td>1.217213</td><td>1.891398</td><td>-1.207013</td><td>0.868314</td><td>0.723984</td></tr><tr><td>340</td><td>0</td><td>7</td><td>1.308947</td><td>-0.820045</td><td>-0.784618</td><td>-0.980539</td><td>0.141644</td><td>11</td><td>7</td><td>76</td><td>-0.616368</td><td>0.06837</td><td>-0.528482</td><td>0.456114</td><td>-0.384091</td><td>-1.364704</td><td>-1.394208</td><td>0.403004</td><td>-0.905881</td><td>0.426851</td><td>-0.080544</td><td>0.169472</td><td>-0.200466</td><td>0.608431</td><td>0.368937</td><td>0.459056</td><td>1.68</td><td>0.285615</td><td>0.605041</td><td>2.507432</td><td>0.126652</td><td>0.102229</td><td>0.897112</td><td>0.1843</td><td>-3.075416</td><td>-1.201433</td><td>2.674997</td><td>0.778638</td><td>0.520687</td><td>1.136911</td><td>0.264612</td><td>-1.777309</td><td>-1.912758</td><td>1.706022</td><td>-0.851455</td><td>-3.100237</td><td>-2.136816</td><td>0.354287</td><td>-0.399794</td><td>-0.245318</td><td>-0.427707</td><td>-1.135021</td><td>-2.254114</td><td>-0.830527</td><td>0.172057</td><td>-0.505734</td><td>-1.142089</td><td>-0.00505</td><td>-0.587971</td><td>-0.275009</td><td>-0.227588</td><td>-0.291639</td><td>-0.284915</td><td>2.084096</td><td>0.359311</td><td>0.511679</td><td>-0.377202</td><td>0.44148</td><td>-0.564688</td><td>-2.682818</td><td>0.118382</td><td>-1.58881</td></tr></tbody></table></div>"
      ],
      "text/plain": [
       "shape: (5, 73)\n",
       "┌─────────┬─────────┬───────────┬──────────┬───┬────────────┬────────────┬────────────┬────────────┐\n",
       "│ date_id ┆ time_id ┆ symbol_id ┆ weight   ┆ … ┆ responder_ ┆ responder_ ┆ responder_ ┆ responder_ │\n",
       "│ ---     ┆ ---     ┆ ---       ┆ ---      ┆   ┆ 5          ┆ 6          ┆ 7          ┆ 8          │\n",
       "│ i16     ┆ i16     ┆ i8        ┆ f32      ┆   ┆ ---        ┆ ---        ┆ ---        ┆ ---        │\n",
       "│         ┆         ┆           ┆          ┆   ┆ f32        ┆ f32        ┆ f32        ┆ f32        │\n",
       "╞═════════╪═════════╪═══════════╪══════════╪═══╪════════════╪════════════╪════════════╪════════════╡\n",
       "│ 340     ┆ 0       ┆ 0         ┆ 1.902722 ┆ … ┆ 0.814566   ┆ -0.132949  ┆ 1.183992   ┆ 0.371725   │\n",
       "│ 340     ┆ 0       ┆ 1         ┆ 4.090041 ┆ … ┆ -0.58574   ┆ -0.891481  ┆ 0.184394   ┆ -0.402399  │\n",
       "│ 340     ┆ 0       ┆ 2         ┆ 1.403712 ┆ … ┆ 0.217188   ┆ 4.563775   ┆ 0.802501   ┆ 1.707263   │\n",
       "│ 340     ┆ 0       ┆ 3         ┆ 0.904068 ┆ … ┆ 1.891398   ┆ -1.207013  ┆ 0.868314   ┆ 0.723984   │\n",
       "│ 340     ┆ 0       ┆ 7         ┆ 1.308947 ┆ … ┆ -0.564688  ┆ -2.682818  ┆ 0.118382   ┆ -1.58881   │\n",
       "└─────────┴─────────┴───────────┴──────────┴───┴────────────┴────────────┴────────────┴────────────┘"
      ]
     },
     "execution_count": 8,
     "metadata": {},
     "output_type": "execute_result"
    }
   ],
   "source": [
    "# Fill NaNs with forward fill\n",
    "filled_df = filtered_df.fill_null(strategy=\"forward\")\n",
    "filled_df = filled_df.fill_null(strategy=\"backward\")\n",
    "filled_df.head()"
   ]
  },
  {
   "cell_type": "code",
   "execution_count": 9,
   "id": "6598c89c",
   "metadata": {
    "execution": {
     "iopub.execute_input": "2024-11-24T20:21:57.287768Z",
     "iopub.status.busy": "2024-11-24T20:21:57.287218Z",
     "iopub.status.idle": "2024-11-24T20:21:57.293562Z",
     "shell.execute_reply": "2024-11-24T20:21:57.292729Z"
    },
    "papermill": {
     "duration": 0.015356,
     "end_time": "2024-11-24T20:21:57.295380",
     "exception": false,
     "start_time": "2024-11-24T20:21:57.280024",
     "status": "completed"
    },
    "tags": []
   },
   "outputs": [
    {
     "data": {
      "text/html": [
       "<div><style>\n",
       ".dataframe > thead > tr,\n",
       ".dataframe > tbody > tr {\n",
       "  text-align: right;\n",
       "  white-space: pre-wrap;\n",
       "}\n",
       "</style>\n",
       "<small>shape: (1, 73)</small><table border=\"1\" class=\"dataframe\"><thead><tr><th>date_id</th><th>time_id</th><th>symbol_id</th><th>weight</th><th>feature_05</th><th>feature_06</th><th>feature_07</th><th>feature_08</th><th>feature_09</th><th>feature_10</th><th>feature_11</th><th>feature_12</th><th>feature_13</th><th>feature_14</th><th>feature_16</th><th>feature_17</th><th>feature_18</th><th>feature_19</th><th>feature_20</th><th>feature_22</th><th>feature_23</th><th>feature_24</th><th>feature_25</th><th>feature_28</th><th>feature_29</th><th>feature_30</th><th>feature_32</th><th>feature_33</th><th>feature_34</th><th>feature_35</th><th>feature_36</th><th>feature_37</th><th>feature_38</th><th>feature_40</th><th>feature_43</th><th>feature_44</th><th>feature_45</th><th>feature_46</th><th>feature_47</th><th>feature_48</th><th>feature_49</th><th>feature_51</th><th>feature_54</th><th>feature_56</th><th>feature_57</th><th>feature_58</th><th>feature_59</th><th>feature_60</th><th>feature_61</th><th>feature_62</th><th>feature_63</th><th>feature_64</th><th>feature_65</th><th>feature_66</th><th>feature_67</th><th>feature_68</th><th>feature_69</th><th>feature_70</th><th>feature_71</th><th>feature_72</th><th>feature_75</th><th>feature_76</th><th>feature_77</th><th>feature_78</th><th>responder_0</th><th>responder_1</th><th>responder_2</th><th>responder_3</th><th>responder_4</th><th>responder_5</th><th>responder_6</th><th>responder_7</th><th>responder_8</th></tr><tr><td>u32</td><td>u32</td><td>u32</td><td>u32</td><td>u32</td><td>u32</td><td>u32</td><td>u32</td><td>u32</td><td>u32</td><td>u32</td><td>u32</td><td>u32</td><td>u32</td><td>u32</td><td>u32</td><td>u32</td><td>u32</td><td>u32</td><td>u32</td><td>u32</td><td>u32</td><td>u32</td><td>u32</td><td>u32</td><td>u32</td><td>u32</td><td>u32</td><td>u32</td><td>u32</td><td>u32</td><td>u32</td><td>u32</td><td>u32</td><td>u32</td><td>u32</td><td>u32</td><td>u32</td><td>u32</td><td>u32</td><td>u32</td><td>u32</td><td>u32</td><td>u32</td><td>u32</td><td>u32</td><td>u32</td><td>u32</td><td>u32</td><td>u32</td><td>u32</td><td>u32</td><td>u32</td><td>u32</td><td>u32</td><td>u32</td><td>u32</td><td>u32</td><td>u32</td><td>u32</td><td>u32</td><td>u32</td><td>u32</td><td>u32</td><td>u32</td><td>u32</td><td>u32</td><td>u32</td><td>u32</td><td>u32</td><td>u32</td><td>u32</td><td>u32</td></tr></thead><tbody><tr><td>0</td><td>0</td><td>0</td><td>0</td><td>0</td><td>0</td><td>0</td><td>0</td><td>0</td><td>0</td><td>0</td><td>0</td><td>0</td><td>0</td><td>0</td><td>0</td><td>0</td><td>0</td><td>0</td><td>0</td><td>0</td><td>0</td><td>0</td><td>0</td><td>0</td><td>0</td><td>0</td><td>0</td><td>0</td><td>0</td><td>0</td><td>0</td><td>0</td><td>0</td><td>0</td><td>0</td><td>0</td><td>0</td><td>0</td><td>0</td><td>0</td><td>0</td><td>0</td><td>0</td><td>0</td><td>0</td><td>0</td><td>0</td><td>0</td><td>0</td><td>0</td><td>0</td><td>0</td><td>0</td><td>0</td><td>0</td><td>0</td><td>0</td><td>0</td><td>0</td><td>0</td><td>0</td><td>0</td><td>0</td><td>0</td><td>0</td><td>0</td><td>0</td><td>0</td><td>0</td><td>0</td><td>0</td><td>0</td></tr></tbody></table></div>"
      ],
      "text/plain": [
       "shape: (1, 73)\n",
       "┌─────────┬─────────┬───────────┬────────┬───┬─────────────┬─────────────┬────────────┬────────────┐\n",
       "│ date_id ┆ time_id ┆ symbol_id ┆ weight ┆ … ┆ responder_5 ┆ responder_6 ┆ responder_ ┆ responder_ │\n",
       "│ ---     ┆ ---     ┆ ---       ┆ ---    ┆   ┆ ---         ┆ ---         ┆ 7          ┆ 8          │\n",
       "│ u32     ┆ u32     ┆ u32       ┆ u32    ┆   ┆ u32         ┆ u32         ┆ ---        ┆ ---        │\n",
       "│         ┆         ┆           ┆        ┆   ┆             ┆             ┆ u32        ┆ u32        │\n",
       "╞═════════╪═════════╪═══════════╪════════╪═══╪═════════════╪═════════════╪════════════╪════════════╡\n",
       "│ 0       ┆ 0       ┆ 0         ┆ 0      ┆ … ┆ 0           ┆ 0           ┆ 0          ┆ 0          │\n",
       "└─────────┴─────────┴───────────┴────────┴───┴─────────────┴─────────────┴────────────┴────────────┘"
      ]
     },
     "execution_count": 9,
     "metadata": {},
     "output_type": "execute_result"
    }
   ],
   "source": [
    "filled_df.null_count()"
   ]
  },
  {
   "cell_type": "markdown",
   "id": "844aa6fd",
   "metadata": {
    "papermill": {
     "duration": 0.006385,
     "end_time": "2024-11-24T20:21:57.308580",
     "exception": false,
     "start_time": "2024-11-24T20:21:57.302195",
     "status": "completed"
    },
    "tags": []
   },
   "source": [
    "Using ffill to fill missing values for time series data"
   ]
  },
  {
   "cell_type": "code",
   "execution_count": 10,
   "id": "fe191d20",
   "metadata": {
    "execution": {
     "iopub.execute_input": "2024-11-24T20:21:57.322794Z",
     "iopub.status.busy": "2024-11-24T20:21:57.322543Z",
     "iopub.status.idle": "2024-11-24T20:21:57.326230Z",
     "shell.execute_reply": "2024-11-24T20:21:57.325491Z"
    },
    "papermill": {
     "duration": 0.012837,
     "end_time": "2024-11-24T20:21:57.327926",
     "exception": false,
     "start_time": "2024-11-24T20:21:57.315089",
     "status": "completed"
    },
    "tags": []
   },
   "outputs": [],
   "source": [
    "final_df = filled_df"
   ]
  },
  {
   "cell_type": "markdown",
   "id": "d9a9bc5b",
   "metadata": {
    "papermill": {
     "duration": 0.006383,
     "end_time": "2024-11-24T20:21:57.340767",
     "exception": false,
     "start_time": "2024-11-24T20:21:57.334384",
     "status": "completed"
    },
    "tags": []
   },
   "source": [
    "Preparing lagged responder values. For a given date_id and time_id, the lagged value corresponds to the same time_id but (date_id-1).\n",
    "\n",
    "**Example:**\n",
    "\n",
    "Current Entry (date_id = 2, time_id = 4)\n",
    "\n",
    "Lagged Values (date_id = 1, time_id = 4)\n"
   ]
  },
  {
   "cell_type": "markdown",
   "id": "ca87e702",
   "metadata": {
    "papermill": {
     "duration": 0.00624,
     "end_time": "2024-11-24T20:21:57.353371",
     "exception": false,
     "start_time": "2024-11-24T20:21:57.347131",
     "status": "completed"
    },
    "tags": []
   },
   "source": [
    "# Creating Lagged Responders"
   ]
  },
  {
   "cell_type": "code",
   "execution_count": 11,
   "id": "3f67a1c8",
   "metadata": {
    "execution": {
     "iopub.execute_input": "2024-11-24T20:21:57.367669Z",
     "iopub.status.busy": "2024-11-24T20:21:57.367435Z",
     "iopub.status.idle": "2024-11-24T20:21:59.860985Z",
     "shell.execute_reply": "2024-11-24T20:21:59.860004Z"
    },
    "papermill": {
     "duration": 2.502835,
     "end_time": "2024-11-24T20:21:59.862848",
     "exception": false,
     "start_time": "2024-11-24T20:21:57.360013",
     "status": "completed"
    },
    "tags": []
   },
   "outputs": [
    {
     "data": {
      "text/html": [
       "<div><style>\n",
       ".dataframe > thead > tr,\n",
       ".dataframe > tbody > tr {\n",
       "  text-align: right;\n",
       "  white-space: pre-wrap;\n",
       "}\n",
       "</style>\n",
       "<small>shape: (5, 82)</small><table border=\"1\" class=\"dataframe\"><thead><tr><th>date_id</th><th>time_id</th><th>symbol_id</th><th>weight</th><th>feature_05</th><th>feature_06</th><th>feature_07</th><th>feature_08</th><th>feature_09</th><th>feature_10</th><th>feature_11</th><th>feature_12</th><th>feature_13</th><th>feature_14</th><th>feature_16</th><th>feature_17</th><th>feature_18</th><th>feature_19</th><th>feature_20</th><th>feature_22</th><th>feature_23</th><th>feature_24</th><th>feature_25</th><th>feature_28</th><th>feature_29</th><th>feature_30</th><th>feature_32</th><th>feature_33</th><th>feature_34</th><th>feature_35</th><th>feature_36</th><th>feature_37</th><th>feature_38</th><th>feature_40</th><th>feature_43</th><th>feature_44</th><th>feature_45</th><th>&hellip;</th><th>feature_58</th><th>feature_59</th><th>feature_60</th><th>feature_61</th><th>feature_62</th><th>feature_63</th><th>feature_64</th><th>feature_65</th><th>feature_66</th><th>feature_67</th><th>feature_68</th><th>feature_69</th><th>feature_70</th><th>feature_71</th><th>feature_72</th><th>feature_75</th><th>feature_76</th><th>feature_77</th><th>feature_78</th><th>responder_0</th><th>responder_1</th><th>responder_2</th><th>responder_3</th><th>responder_4</th><th>responder_5</th><th>responder_6</th><th>responder_7</th><th>responder_8</th><th>responder_0_lag_1</th><th>responder_1_lag_1</th><th>responder_2_lag_1</th><th>responder_3_lag_1</th><th>responder_4_lag_1</th><th>responder_5_lag_1</th><th>responder_6_lag_1</th><th>responder_7_lag_1</th><th>responder_8_lag_1</th></tr><tr><td>i16</td><td>i16</td><td>i8</td><td>f32</td><td>f32</td><td>f32</td><td>f32</td><td>f32</td><td>i8</td><td>i8</td><td>i16</td><td>f32</td><td>f32</td><td>f32</td><td>f32</td><td>f32</td><td>f32</td><td>f32</td><td>f32</td><td>f32</td><td>f32</td><td>f32</td><td>f32</td><td>f32</td><td>f32</td><td>f32</td><td>f32</td><td>f32</td><td>f32</td><td>f32</td><td>f32</td><td>f32</td><td>f32</td><td>f32</td><td>f32</td><td>f32</td><td>f32</td><td>&hellip;</td><td>f32</td><td>f32</td><td>f32</td><td>f32</td><td>f32</td><td>f32</td><td>f32</td><td>f32</td><td>f32</td><td>f32</td><td>f32</td><td>f32</td><td>f32</td><td>f32</td><td>f32</td><td>f32</td><td>f32</td><td>f32</td><td>f32</td><td>f32</td><td>f32</td><td>f32</td><td>f32</td><td>f32</td><td>f32</td><td>f32</td><td>f32</td><td>f32</td><td>f32</td><td>f32</td><td>f32</td><td>f32</td><td>f32</td><td>f32</td><td>f32</td><td>f32</td><td>f32</td></tr></thead><tbody><tr><td>340</td><td>0</td><td>0</td><td>1.902722</td><td>-0.665424</td><td>-1.030033</td><td>-1.52801</td><td>0.261375</td><td>11</td><td>7</td><td>76</td><td>-1.169775</td><td>-0.29928</td><td>-0.477456</td><td>-0.423311</td><td>-0.384091</td><td>-1.333162</td><td>-1.69736</td><td>0.204428</td><td>-0.089592</td><td>-0.207202</td><td>-0.697006</td><td>-0.771086</td><td>0.79118</td><td>-0.361479</td><td>-0.114389</td><td>0.459056</td><td>1.68</td><td>-0.175443</td><td>-0.080401</td><td>1.368903</td><td>0.198668</td><td>0.0459</td><td>-2.47452</td><td>-2.898822</td><td>-3.075416</td><td>-1.479233</td><td>&hellip;</td><td>-0.851455</td><td>-0.946561</td><td>-0.337844</td><td>0.354287</td><td>-0.232378</td><td>-0.293213</td><td>-0.304407</td><td>-1.098295</td><td>-1.787442</td><td>-0.702601</td><td>-0.266509</td><td>-0.533959</td><td>-1.319765</td><td>-0.160904</td><td>-0.953981</td><td>0.210584</td><td>0.312869</td><td>-0.187011</td><td>-0.183416</td><td>0.251685</td><td>0.421458</td><td>0.771927</td><td>0.07199</td><td>1.426416</td><td>0.814566</td><td>-0.132949</td><td>1.183992</td><td>0.371725</td><td>null</td><td>null</td><td>null</td><td>null</td><td>null</td><td>null</td><td>null</td><td>null</td><td>null</td></tr><tr><td>340</td><td>0</td><td>1</td><td>4.090041</td><td>-0.528798</td><td>-0.884754</td><td>-1.44379</td><td>0.22066</td><td>11</td><td>7</td><td>76</td><td>-0.837111</td><td>0.421702</td><td>-0.336571</td><td>-0.530792</td><td>-0.384091</td><td>-0.878517</td><td>-0.865011</td><td>0.83415</td><td>1.584139</td><td>1.088018</td><td>-0.088035</td><td>0.203477</td><td>1.462279</td><td>-0.296079</td><td>-0.364353</td><td>0.459056</td><td>1.68</td><td>-0.041622</td><td>-0.062732</td><td>-0.881672</td><td>0.00925</td><td>0.16369</td><td>0.819656</td><td>0.873064</td><td>-3.075416</td><td>-1.479233</td><td>&hellip;</td><td>-0.851455</td><td>1.788883</td><td>0.399241</td><td>0.354287</td><td>-0.232378</td><td>-0.293213</td><td>-0.304407</td><td>-1.098295</td><td>-1.787442</td><td>-0.965382</td><td>0.135424</td><td>-0.344909</td><td>-1.035528</td><td>1.161382</td><td>-0.308803</td><td>-0.240021</td><td>-0.312621</td><td>-0.338355</td><td>-0.29285</td><td>-0.199408</td><td>-0.148638</td><td>-0.796567</td><td>-0.929294</td><td>0.05538</td><td>-0.58574</td><td>-0.891481</td><td>0.184394</td><td>-0.402399</td><td>null</td><td>null</td><td>null</td><td>null</td><td>null</td><td>null</td><td>null</td><td>null</td><td>null</td></tr><tr><td>340</td><td>0</td><td>2</td><td>1.403712</td><td>-1.03497</td><td>-0.990703</td><td>-1.023218</td><td>0.242779</td><td>81</td><td>2</td><td>59</td><td>-1.094649</td><td>-0.381583</td><td>-0.515383</td><td>0.621933</td><td>-0.384091</td><td>-1.594152</td><td>-2.23439</td><td>-1.585274</td><td>-1.111434</td><td>-0.880511</td><td>-0.615049</td><td>-0.929672</td><td>0.668325</td><td>-0.378213</td><td>-0.514761</td><td>0.459056</td><td>1.68</td><td>-0.313938</td><td>0.633901</td><td>2.461723</td><td>0.308924</td><td>-0.110976</td><td>0.281677</td><td>1.256042</td><td>-3.075416</td><td>-1.479233</td><td>&hellip;</td><td>-0.851455</td><td>-6.387812</td><td>-2.851222</td><td>0.354287</td><td>-0.232378</td><td>-0.293213</td><td>-0.304407</td><td>-1.098295</td><td>-1.787442</td><td>-0.934786</td><td>-0.180497</td><td>-0.628079</td><td>-0.357187</td><td>-0.363289</td><td>-0.860691</td><td>3.899125</td><td>4.003406</td><td>3.078561</td><td>2.798186</td><td>0.268406</td><td>-0.458026</td><td>-1.878922</td><td>4.185539</td><td>0.808422</td><td>0.217188</td><td>4.563775</td><td>0.802501</td><td>1.707263</td><td>null</td><td>null</td><td>null</td><td>null</td><td>null</td><td>null</td><td>null</td><td>null</td><td>null</td></tr><tr><td>340</td><td>0</td><td>3</td><td>0.904068</td><td>-0.625577</td><td>-0.515945</td><td>-0.97785</td><td>0.166003</td><td>4</td><td>3</td><td>11</td><td>-0.952348</td><td>0.03583</td><td>-0.6385</td><td>-0.386088</td><td>-0.384091</td><td>-1.722304</td><td>-1.366947</td><td>0.573252</td><td>-1.292146</td><td>-1.503999</td><td>0.018867</td><td>0.922218</td><td>-1.658296</td><td>-0.531493</td><td>-0.40409</td><td>0.459056</td><td>1.68</td><td>-1.022619</td><td>0.139672</td><td>2.735279</td><td>-0.045127</td><td>-0.041756</td><td>0.784627</td><td>0.986058</td><td>-3.075416</td><td>-1.479233</td><td>&hellip;</td><td>-0.851455</td><td>1.061412</td><td>0.518248</td><td>0.354287</td><td>-0.232378</td><td>-0.293213</td><td>-0.304407</td><td>-1.098295</td><td>-1.787442</td><td>-0.845495</td><td>-0.389196</td><td>-0.486743</td><td>-0.940938</td><td>0.477874</td><td>-0.355728</td><td>-0.242512</td><td>-0.122299</td><td>-1.381474</td><td>-1.028829</td><td>0.960588</td><td>0.610246</td><td>2.921769</td><td>-0.170994</td><td>1.217213</td><td>1.891398</td><td>-1.207013</td><td>0.868314</td><td>0.723984</td><td>null</td><td>null</td><td>null</td><td>null</td><td>null</td><td>null</td><td>null</td><td>null</td><td>null</td></tr><tr><td>340</td><td>0</td><td>7</td><td>1.308947</td><td>-0.820045</td><td>-0.784618</td><td>-0.980539</td><td>0.141644</td><td>11</td><td>7</td><td>76</td><td>-0.616368</td><td>0.06837</td><td>-0.528482</td><td>0.456114</td><td>-0.384091</td><td>-1.364704</td><td>-1.394208</td><td>0.403004</td><td>-0.905881</td><td>0.426851</td><td>-0.080544</td><td>0.169472</td><td>-0.200466</td><td>0.608431</td><td>0.368937</td><td>0.459056</td><td>1.68</td><td>0.285615</td><td>0.605041</td><td>2.507432</td><td>0.126652</td><td>0.102229</td><td>0.897112</td><td>0.1843</td><td>-3.075416</td><td>-1.201433</td><td>&hellip;</td><td>-0.851455</td><td>-3.100237</td><td>-2.136816</td><td>0.354287</td><td>-0.399794</td><td>-0.245318</td><td>-0.427707</td><td>-1.135021</td><td>-2.254114</td><td>-0.830527</td><td>0.172057</td><td>-0.505734</td><td>-1.142089</td><td>-0.00505</td><td>-0.587971</td><td>-0.275009</td><td>-0.227588</td><td>-0.291639</td><td>-0.284915</td><td>2.084096</td><td>0.359311</td><td>0.511679</td><td>-0.377202</td><td>0.44148</td><td>-0.564688</td><td>-2.682818</td><td>0.118382</td><td>-1.58881</td><td>null</td><td>null</td><td>null</td><td>null</td><td>null</td><td>null</td><td>null</td><td>null</td><td>null</td></tr></tbody></table></div>"
      ],
      "text/plain": [
       "shape: (5, 82)\n",
       "┌─────────┬─────────┬───────────┬──────────┬───┬────────────┬────────────┬────────────┬────────────┐\n",
       "│ date_id ┆ time_id ┆ symbol_id ┆ weight   ┆ … ┆ responder_ ┆ responder_ ┆ responder_ ┆ responder_ │\n",
       "│ ---     ┆ ---     ┆ ---       ┆ ---      ┆   ┆ 5_lag_1    ┆ 6_lag_1    ┆ 7_lag_1    ┆ 8_lag_1    │\n",
       "│ i16     ┆ i16     ┆ i8        ┆ f32      ┆   ┆ ---        ┆ ---        ┆ ---        ┆ ---        │\n",
       "│         ┆         ┆           ┆          ┆   ┆ f32        ┆ f32        ┆ f32        ┆ f32        │\n",
       "╞═════════╪═════════╪═══════════╪══════════╪═══╪════════════╪════════════╪════════════╪════════════╡\n",
       "│ 340     ┆ 0       ┆ 0         ┆ 1.902722 ┆ … ┆ null       ┆ null       ┆ null       ┆ null       │\n",
       "│ 340     ┆ 0       ┆ 1         ┆ 4.090041 ┆ … ┆ null       ┆ null       ┆ null       ┆ null       │\n",
       "│ 340     ┆ 0       ┆ 2         ┆ 1.403712 ┆ … ┆ null       ┆ null       ┆ null       ┆ null       │\n",
       "│ 340     ┆ 0       ┆ 3         ┆ 0.904068 ┆ … ┆ null       ┆ null       ┆ null       ┆ null       │\n",
       "│ 340     ┆ 0       ┆ 7         ┆ 1.308947 ┆ … ┆ null       ┆ null       ┆ null       ┆ null       │\n",
       "└─────────┴─────────┴───────────┴──────────┴───┴────────────┴────────────┴────────────┴────────────┘"
      ]
     },
     "execution_count": 11,
     "metadata": {},
     "output_type": "execute_result"
    }
   ],
   "source": [
    "import polars as pl\n",
    "\n",
    "# List of responder columns\n",
    "responder_columns = [f\"responder_{i}\" for i in range(9)]\n",
    "\n",
    "# Apply the lagging for each responder column\n",
    "for responder in responder_columns:\n",
    "    lagged_column_name = f\"{responder}_lag_1\"\n",
    "    final_df = final_df.with_columns(\n",
    "        pl.col(responder)\n",
    "        .shift(1)\n",
    "        .over([\"time_id\", \"symbol_id\"])\n",
    "        .alias(lagged_column_name)\n",
    "    )\n",
    "\n",
    "# Display the first few rows to verify\n",
    "final_df.head()"
   ]
  },
  {
   "cell_type": "code",
   "execution_count": 12,
   "id": "fb72fdfc",
   "metadata": {
    "execution": {
     "iopub.execute_input": "2024-11-24T20:21:59.878549Z",
     "iopub.status.busy": "2024-11-24T20:21:59.878243Z",
     "iopub.status.idle": "2024-11-24T20:22:00.448823Z",
     "shell.execute_reply": "2024-11-24T20:22:00.447871Z"
    },
    "papermill": {
     "duration": 0.580493,
     "end_time": "2024-11-24T20:22:00.450687",
     "exception": false,
     "start_time": "2024-11-24T20:21:59.870194",
     "status": "completed"
    },
    "tags": []
   },
   "outputs": [
    {
     "data": {
      "text/html": [
       "<div><style>\n",
       ".dataframe > thead > tr,\n",
       ".dataframe > tbody > tr {\n",
       "  text-align: right;\n",
       "  white-space: pre-wrap;\n",
       "}\n",
       "</style>\n",
       "<small>shape: (145, 82)</small><table border=\"1\" class=\"dataframe\"><thead><tr><th>symbol_id</th><th>date_id</th><th>time_id</th><th>weight</th><th>feature_05</th><th>feature_06</th><th>feature_07</th><th>feature_08</th><th>feature_09</th><th>feature_10</th><th>feature_11</th><th>feature_12</th><th>feature_13</th><th>feature_14</th><th>feature_16</th><th>feature_17</th><th>feature_18</th><th>feature_19</th><th>feature_20</th><th>feature_22</th><th>feature_23</th><th>feature_24</th><th>feature_25</th><th>feature_28</th><th>feature_29</th><th>feature_30</th><th>feature_32</th><th>feature_33</th><th>feature_34</th><th>feature_35</th><th>feature_36</th><th>feature_37</th><th>feature_38</th><th>feature_40</th><th>feature_43</th><th>feature_44</th><th>feature_45</th><th>&hellip;</th><th>feature_58</th><th>feature_59</th><th>feature_60</th><th>feature_61</th><th>feature_62</th><th>feature_63</th><th>feature_64</th><th>feature_65</th><th>feature_66</th><th>feature_67</th><th>feature_68</th><th>feature_69</th><th>feature_70</th><th>feature_71</th><th>feature_72</th><th>feature_75</th><th>feature_76</th><th>feature_77</th><th>feature_78</th><th>responder_0</th><th>responder_1</th><th>responder_2</th><th>responder_3</th><th>responder_4</th><th>responder_5</th><th>responder_6</th><th>responder_7</th><th>responder_8</th><th>responder_0_lag_1</th><th>responder_1_lag_1</th><th>responder_2_lag_1</th><th>responder_3_lag_1</th><th>responder_4_lag_1</th><th>responder_5_lag_1</th><th>responder_6_lag_1</th><th>responder_7_lag_1</th><th>responder_8_lag_1</th></tr><tr><td>i8</td><td>i16</td><td>i16</td><td>f32</td><td>f32</td><td>f32</td><td>f32</td><td>f32</td><td>i8</td><td>i8</td><td>i16</td><td>f32</td><td>f32</td><td>f32</td><td>f32</td><td>f32</td><td>f32</td><td>f32</td><td>f32</td><td>f32</td><td>f32</td><td>f32</td><td>f32</td><td>f32</td><td>f32</td><td>f32</td><td>f32</td><td>f32</td><td>f32</td><td>f32</td><td>f32</td><td>f32</td><td>f32</td><td>f32</td><td>f32</td><td>f32</td><td>f32</td><td>&hellip;</td><td>f32</td><td>f32</td><td>f32</td><td>f32</td><td>f32</td><td>f32</td><td>f32</td><td>f32</td><td>f32</td><td>f32</td><td>f32</td><td>f32</td><td>f32</td><td>f32</td><td>f32</td><td>f32</td><td>f32</td><td>f32</td><td>f32</td><td>f32</td><td>f32</td><td>f32</td><td>f32</td><td>f32</td><td>f32</td><td>f32</td><td>f32</td><td>f32</td><td>f32</td><td>f32</td><td>f32</td><td>f32</td><td>f32</td><td>f32</td><td>f32</td><td>f32</td><td>f32</td></tr></thead><tbody><tr><td>33</td><td>340</td><td>0</td><td>1.209916</td><td>-0.633212</td><td>-0.884987</td><td>-1.116516</td><td>0.189347</td><td>11</td><td>7</td><td>76</td><td>-0.779126</td><td>3.005078</td><td>0.121433</td><td>-0.376651</td><td>-0.384091</td><td>-1.355217</td><td>-1.392789</td><td>-0.147454</td><td>-0.844224</td><td>-0.423783</td><td>-0.376668</td><td>-0.677355</td><td>-0.329561</td><td>0.004143</td><td>0.087418</td><td>0.459056</td><td>1.68</td><td>0.519162</td><td>0.885484</td><td>2.21786</td><td>0.073624</td><td>0.624836</td><td>2.513932</td><td>2.639838</td><td>-3.075416</td><td>-1.578972</td><td>&hellip;</td><td>-0.851455</td><td>-2.071329</td><td>-0.909654</td><td>0.354287</td><td>2.190872</td><td>2.202627</td><td>2.875723</td><td>-0.806243</td><td>-2.773866</td><td>-0.804561</td><td>1.363996</td><td>-0.048135</td><td>-1.040329</td><td>2.154983</td><td>0.331248</td><td>-0.332838</td><td>-0.27433</td><td>-0.116619</td><td>-0.22243</td><td>0.736711</td><td>-0.358837</td><td>-0.486845</td><td>-2.067479</td><td>-1.650616</td><td>-2.829594</td><td>-3.497808</td><td>-1.021689</td><td>-3.592558</td><td>null</td><td>null</td><td>null</td><td>null</td><td>null</td><td>null</td><td>null</td><td>null</td><td>null</td></tr><tr><td>33</td><td>340</td><td>1</td><td>1.209916</td><td>-0.928491</td><td>-0.811134</td><td>-0.891363</td><td>0.186566</td><td>11</td><td>7</td><td>76</td><td>-0.876049</td><td>2.253162</td><td>0.235059</td><td>-0.214921</td><td>-0.384091</td><td>-1.032542</td><td>-1.565001</td><td>-0.147454</td><td>-0.844224</td><td>-0.423783</td><td>-0.376668</td><td>-0.677355</td><td>-0.329561</td><td>0.004143</td><td>0.087418</td><td>0.459056</td><td>1.68</td><td>0.954073</td><td>1.347442</td><td>2.640027</td><td>0.095026</td><td>0.560791</td><td>2.127937</td><td>3.31816</td><td>-3.075416</td><td>-1.455334</td><td>&hellip;</td><td>-0.851455</td><td>-2.024183</td><td>-0.927673</td><td>0.354287</td><td>3.348456</td><td>3.270369</td><td>5.423163</td><td>-1.198284</td><td>-2.833378</td><td>-0.718414</td><td>1.625088</td><td>-0.055529</td><td>-0.499456</td><td>3.980979</td><td>0.504056</td><td>-0.285996</td><td>-0.330385</td><td>-0.350686</td><td>-0.300951</td><td>0.696611</td><td>-0.375397</td><td>-0.992645</td><td>-2.482374</td><td>-0.914895</td><td>-2.341006</td><td>-2.612484</td><td>-1.41632</td><td>-1.9654</td><td>null</td><td>null</td><td>null</td><td>null</td><td>null</td><td>null</td><td>null</td><td>null</td><td>null</td></tr><tr><td>33</td><td>340</td><td>2</td><td>1.209916</td><td>-0.526804</td><td>-1.707661</td><td>-0.86526</td><td>0.223197</td><td>11</td><td>7</td><td>76</td><td>-0.819109</td><td>2.98305</td><td>0.400843</td><td>-0.363771</td><td>-0.384091</td><td>-0.748228</td><td>-1.986952</td><td>-0.147454</td><td>-0.844224</td><td>-0.423783</td><td>-0.376668</td><td>-0.677355</td><td>-0.329561</td><td>0.004143</td><td>0.087418</td><td>0.459056</td><td>1.68</td><td>0.384331</td><td>1.127436</td><td>2.877585</td><td>0.103427</td><td>0.445859</td><td>2.871034</td><td>2.475787</td><td>-3.075416</td><td>-1.431164</td><td>&hellip;</td><td>-0.851455</td><td>-1.362841</td><td>-0.746805</td><td>0.354287</td><td>3.263024</td><td>3.09965</td><td>3.809963</td><td>-1.543409</td><td>-2.321668</td><td>-0.754108</td><td>0.727702</td><td>-0.08326</td><td>-0.485889</td><td>3.026576</td><td>0.53509</td><td>-0.234009</td><td>-0.314316</td><td>-0.34721</td><td>-0.45925</td><td>-0.600935</td><td>-0.372636</td><td>-1.051412</td><td>-3.22115</td><td>-1.251491</td><td>-1.880291</td><td>-2.952119</td><td>-1.074989</td><td>-3.164197</td><td>null</td><td>null</td><td>null</td><td>null</td><td>null</td><td>null</td><td>null</td><td>null</td><td>null</td></tr><tr><td>33</td><td>340</td><td>3</td><td>1.209916</td><td>-1.115988</td><td>-2.494015</td><td>-1.845924</td><td>0.285933</td><td>11</td><td>7</td><td>76</td><td>-0.981894</td><td>2.322372</td><td>0.264518</td><td>0.043621</td><td>-0.384091</td><td>-1.484597</td><td>-1.883957</td><td>-0.147454</td><td>-0.844224</td><td>-0.423783</td><td>-0.376668</td><td>-0.677355</td><td>-0.329561</td><td>0.004143</td><td>0.087418</td><td>0.459056</td><td>1.68</td><td>0.758504</td><td>1.097801</td><td>2.764683</td><td>0.089916</td><td>0.635799</td><td>2.796961</td><td>2.746741</td><td>-3.075416</td><td>-1.684831</td><td>&hellip;</td><td>-0.851455</td><td>-0.646315</td><td>-0.724432</td><td>0.354287</td><td>2.678848</td><td>2.31313</td><td>4.379071</td><td>-0.777459</td><td>-3.184853</td><td>-0.560313</td><td>0.438118</td><td>-0.089353</td><td>-0.673566</td><td>2.980289</td><td>0.96689</td><td>-0.252009</td><td>-0.324874</td><td>-0.274305</td><td>-0.3503</td><td>0.551703</td><td>-0.393916</td><td>-1.478412</td><td>-2.101955</td><td>-0.987392</td><td>-2.494569</td><td>-2.566582</td><td>-0.65504</td><td>-1.973171</td><td>null</td><td>null</td><td>null</td><td>null</td><td>null</td><td>null</td><td>null</td><td>null</td><td>null</td></tr><tr><td>33</td><td>340</td><td>4</td><td>1.209916</td><td>-1.63925</td><td>-6.254496</td><td>-3.339686</td><td>0.510945</td><td>11</td><td>7</td><td>76</td><td>-0.746035</td><td>1.054909</td><td>0.3233</td><td>0.141133</td><td>-0.088859</td><td>-1.091728</td><td>-0.947196</td><td>-0.147454</td><td>-0.844224</td><td>-0.423783</td><td>-0.376668</td><td>-0.677355</td><td>-0.329561</td><td>0.004143</td><td>0.087418</td><td>0.459056</td><td>1.68</td><td>0.349196</td><td>1.043039</td><td>2.836419</td><td>0.086625</td><td>0.550129</td><td>2.804078</td><td>2.327321</td><td>-3.075416</td><td>-1.97688</td><td>&hellip;</td><td>-0.851455</td><td>-0.526363</td><td>-0.823287</td><td>0.354287</td><td>3.896185</td><td>4.643169</td><td>3.420906</td><td>-0.921135</td><td>-3.062628</td><td>-0.651266</td><td>0.399069</td><td>-0.099211</td><td>-0.638874</td><td>2.278261</td><td>0.97179</td><td>-0.245145</td><td>-0.331301</td><td>-0.248375</td><td>-0.258981</td><td>-0.94415</td><td>-0.512146</td><td>-1.522717</td><td>-2.527765</td><td>-1.032277</td><td>-1.160749</td><td>-1.958507</td><td>-0.798383</td><td>-0.70285</td><td>null</td><td>null</td><td>null</td><td>null</td><td>null</td><td>null</td><td>null</td><td>null</td><td>null</td></tr><tr><td>&hellip;</td><td>&hellip;</td><td>&hellip;</td><td>&hellip;</td><td>&hellip;</td><td>&hellip;</td><td>&hellip;</td><td>&hellip;</td><td>&hellip;</td><td>&hellip;</td><td>&hellip;</td><td>&hellip;</td><td>&hellip;</td><td>&hellip;</td><td>&hellip;</td><td>&hellip;</td><td>&hellip;</td><td>&hellip;</td><td>&hellip;</td><td>&hellip;</td><td>&hellip;</td><td>&hellip;</td><td>&hellip;</td><td>&hellip;</td><td>&hellip;</td><td>&hellip;</td><td>&hellip;</td><td>&hellip;</td><td>&hellip;</td><td>&hellip;</td><td>&hellip;</td><td>&hellip;</td><td>&hellip;</td><td>&hellip;</td><td>&hellip;</td><td>&hellip;</td><td>&hellip;</td><td>&hellip;</td><td>&hellip;</td><td>&hellip;</td><td>&hellip;</td><td>&hellip;</td><td>&hellip;</td><td>&hellip;</td><td>&hellip;</td><td>&hellip;</td><td>&hellip;</td><td>&hellip;</td><td>&hellip;</td><td>&hellip;</td><td>&hellip;</td><td>&hellip;</td><td>&hellip;</td><td>&hellip;</td><td>&hellip;</td><td>&hellip;</td><td>&hellip;</td><td>&hellip;</td><td>&hellip;</td><td>&hellip;</td><td>&hellip;</td><td>&hellip;</td><td>&hellip;</td><td>&hellip;</td><td>&hellip;</td><td>&hellip;</td><td>&hellip;</td><td>&hellip;</td><td>&hellip;</td><td>&hellip;</td><td>&hellip;</td><td>&hellip;</td><td>&hellip;</td><td>&hellip;</td><td>&hellip;</td></tr><tr><td>38</td><td>340</td><td>0</td><td>1.808921</td><td>-0.314684</td><td>-0.800917</td><td>-1.047206</td><td>0.176728</td><td>50</td><td>1</td><td>522</td><td>-0.955578</td><td>-0.276825</td><td>-0.901295</td><td>0.710903</td><td>-0.384091</td><td>-2.573464</td><td>-1.978775</td><td>0.712867</td><td>-0.183119</td><td>-0.423537</td><td>0.480646</td><td>0.923267</td><td>1.104699</td><td>-0.477305</td><td>-0.589025</td><td>0.459056</td><td>1.68</td><td>-2.847772</td><td>-2.234415</td><td>2.364612</td><td>0.421701</td><td>0.201059</td><td>-0.547837</td><td>-1.497549</td><td>-3.075416</td><td>-1.876754</td><td>&hellip;</td><td>-0.851455</td><td>-6.301699</td><td>-3.895851</td><td>0.354287</td><td>-0.17498</td><td>0.06165</td><td>-0.082139</td><td>-2.073892</td><td>-2.179659</td><td>-0.903737</td><td>-0.095518</td><td>-0.518761</td><td>-0.887819</td><td>-0.228961</td><td>-0.870084</td><td>3.308059</td><td>3.668519</td><td>0.518839</td><td>0.496257</td><td>1.523548</td><td>0.299715</td><td>0.336418</td><td>3.501899</td><td>0.985119</td><td>3.712065</td><td>2.297708</td><td>0.541016</td><td>5.0</td><td>null</td><td>null</td><td>null</td><td>null</td><td>null</td><td>null</td><td>null</td><td>null</td><td>null</td></tr><tr><td>38</td><td>340</td><td>1</td><td>1.808921</td><td>-0.592065</td><td>-0.586834</td><td>-0.651449</td><td>0.13467</td><td>50</td><td>1</td><td>522</td><td>-1.442546</td><td>-0.277988</td><td>-0.787507</td><td>1.179636</td><td>-0.384091</td><td>-2.509347</td><td>-2.05554</td><td>0.712867</td><td>-0.183119</td><td>-0.423537</td><td>0.480646</td><td>0.923267</td><td>1.104699</td><td>-0.477305</td><td>-0.589025</td><td>0.459056</td><td>1.68</td><td>-2.014427</td><td>-2.914196</td><td>2.973192</td><td>0.227597</td><td>0.160025</td><td>-1.195096</td><td>-1.376842</td><td>-3.075416</td><td>-2.000515</td><td>&hellip;</td><td>-0.851455</td><td>-4.905274</td><td>-2.680722</td><td>0.354287</td><td>-0.159193</td><td>0.146502</td><td>-0.066129</td><td>-1.900013</td><td>-1.566662</td><td>-0.98259</td><td>-0.183614</td><td>-0.657656</td><td>-0.997957</td><td>-0.435778</td><td>-0.696815</td><td>3.650665</td><td>3.403995</td><td>1.012718</td><td>1.088123</td><td>-0.217341</td><td>0.163971</td><td>-0.468983</td><td>3.061464</td><td>0.810924</td><td>4.345126</td><td>3.509456</td><td>1.147107</td><td>5.0</td><td>null</td><td>null</td><td>null</td><td>null</td><td>null</td><td>null</td><td>null</td><td>null</td><td>null</td></tr><tr><td>38</td><td>340</td><td>2</td><td>1.808921</td><td>-0.672241</td><td>-0.976723</td><td>-1.352189</td><td>0.147332</td><td>50</td><td>1</td><td>522</td><td>-0.778406</td><td>-0.315854</td><td>-0.54846</td><td>1.499138</td><td>-0.384091</td><td>-2.79944</td><td>-2.275067</td><td>0.712867</td><td>-0.183119</td><td>-0.423537</td><td>0.480646</td><td>0.923267</td><td>1.104699</td><td>-0.477305</td><td>-0.589025</td><td>0.459056</td><td>1.68</td><td>-2.911768</td><td>-2.785728</td><td>2.259543</td><td>0.326744</td><td>0.178039</td><td>-0.205012</td><td>-0.621411</td><td>-3.075416</td><td>-1.944726</td><td>&hellip;</td><td>-0.851455</td><td>-3.101132</td><td>-2.370976</td><td>0.354287</td><td>-0.111302</td><td>0.145898</td><td>-0.038772</td><td>-1.6968</td><td>-1.879303</td><td>-0.943638</td><td>-0.134149</td><td>-0.374654</td><td>-1.103267</td><td>-0.251788</td><td>-0.878679</td><td>4.503596</td><td>4.410648</td><td>1.410908</td><td>1.412032</td><td>0.316251</td><td>-0.024005</td><td>-1.028761</td><td>1.633206</td><td>0.882842</td><td>4.014152</td><td>4.907846</td><td>1.253139</td><td>5.0</td><td>null</td><td>null</td><td>null</td><td>null</td><td>null</td><td>null</td><td>null</td><td>null</td><td>null</td></tr><tr><td>38</td><td>340</td><td>3</td><td>1.808921</td><td>-0.735994</td><td>-1.338706</td><td>-0.796709</td><td>0.224668</td><td>50</td><td>1</td><td>522</td><td>-0.788111</td><td>-0.186085</td><td>-0.459372</td><td>0.921078</td><td>-0.384091</td><td>-2.127483</td><td>-1.936447</td><td>0.712867</td><td>-0.183119</td><td>-0.423537</td><td>0.480646</td><td>0.923267</td><td>1.104699</td><td>-0.477305</td><td>-0.589025</td><td>0.459056</td><td>1.68</td><td>-2.684045</td><td>-2.933465</td><td>2.456165</td><td>0.317544</td><td>0.170602</td><td>0.79489</td><td>-0.049314</td><td>-3.075416</td><td>-1.425279</td><td>&hellip;</td><td>-0.851455</td><td>-1.882485</td><td>-2.01775</td><td>0.354287</td><td>-0.119897</td><td>0.117411</td><td>-0.050454</td><td>-1.312896</td><td>-1.779938</td><td>-0.930905</td><td>-0.233343</td><td>-0.744505</td><td>-1.220984</td><td>-0.064464</td><td>-0.521686</td><td>2.698455</td><td>3.073953</td><td>1.396236</td><td>0.878517</td><td>1.048654</td><td>0.120399</td><td>0.568209</td><td>3.028337</td><td>1.303815</td><td>5.0</td><td>3.140371</td><td>1.044479</td><td>5.0</td><td>null</td><td>null</td><td>null</td><td>null</td><td>null</td><td>null</td><td>null</td><td>null</td><td>null</td></tr><tr><td>38</td><td>340</td><td>4</td><td>1.808921</td><td>-1.379356</td><td>-4.250616</td><td>-2.221165</td><td>0.354901</td><td>50</td><td>1</td><td>522</td><td>-0.657825</td><td>-0.155892</td><td>-0.47639</td><td>0.459563</td><td>0.792838</td><td>-2.153546</td><td>-2.352243</td><td>0.712867</td><td>-0.183119</td><td>-0.423537</td><td>0.480646</td><td>0.923267</td><td>1.104699</td><td>-0.477305</td><td>-0.589025</td><td>0.459056</td><td>1.68</td><td>-2.51057</td><td>-3.046269</td><td>1.786848</td><td>0.310163</td><td>0.203059</td><td>-0.255949</td><td>-0.115438</td><td>-3.075416</td><td>-1.535253</td><td>&hellip;</td><td>-0.851455</td><td>-1.886546</td><td>-2.41312</td><td>0.354287</td><td>-0.134408</td><td>0.083138</td><td>-0.044781</td><td>-0.999612</td><td>-1.551388</td><td>-0.727768</td><td>-0.091197</td><td>-0.687981</td><td>-0.948592</td><td>-0.164376</td><td>-0.740229</td><td>2.006484</td><td>2.491136</td><td>1.342514</td><td>1.214482</td><td>-0.045073</td><td>-0.06058</td><td>0.085478</td><td>3.991961</td><td>1.039008</td><td>5.0</td><td>5.0</td><td>2.001856</td><td>5.0</td><td>null</td><td>null</td><td>null</td><td>null</td><td>null</td><td>null</td><td>null</td><td>null</td><td>null</td></tr></tbody></table></div>"
      ],
      "text/plain": [
       "shape: (145, 82)\n",
       "┌───────────┬─────────┬─────────┬──────────┬───┬────────────┬────────────┬────────────┬────────────┐\n",
       "│ symbol_id ┆ date_id ┆ time_id ┆ weight   ┆ … ┆ responder_ ┆ responder_ ┆ responder_ ┆ responder_ │\n",
       "│ ---       ┆ ---     ┆ ---     ┆ ---      ┆   ┆ 5_lag_1    ┆ 6_lag_1    ┆ 7_lag_1    ┆ 8_lag_1    │\n",
       "│ i8        ┆ i16     ┆ i16     ┆ f32      ┆   ┆ ---        ┆ ---        ┆ ---        ┆ ---        │\n",
       "│           ┆         ┆         ┆          ┆   ┆ f32        ┆ f32        ┆ f32        ┆ f32        │\n",
       "╞═══════════╪═════════╪═════════╪══════════╪═══╪════════════╪════════════╪════════════╪════════════╡\n",
       "│ 33        ┆ 340     ┆ 0       ┆ 1.209916 ┆ … ┆ null       ┆ null       ┆ null       ┆ null       │\n",
       "│ 33        ┆ 340     ┆ 1       ┆ 1.209916 ┆ … ┆ null       ┆ null       ┆ null       ┆ null       │\n",
       "│ 33        ┆ 340     ┆ 2       ┆ 1.209916 ┆ … ┆ null       ┆ null       ┆ null       ┆ null       │\n",
       "│ 33        ┆ 340     ┆ 3       ┆ 1.209916 ┆ … ┆ null       ┆ null       ┆ null       ┆ null       │\n",
       "│ 33        ┆ 340     ┆ 4       ┆ 1.209916 ┆ … ┆ null       ┆ null       ┆ null       ┆ null       │\n",
       "│ …         ┆ …       ┆ …       ┆ …        ┆ … ┆ …          ┆ …          ┆ …          ┆ …          │\n",
       "│ 38        ┆ 340     ┆ 0       ┆ 1.808921 ┆ … ┆ null       ┆ null       ┆ null       ┆ null       │\n",
       "│ 38        ┆ 340     ┆ 1       ┆ 1.808921 ┆ … ┆ null       ┆ null       ┆ null       ┆ null       │\n",
       "│ 38        ┆ 340     ┆ 2       ┆ 1.808921 ┆ … ┆ null       ┆ null       ┆ null       ┆ null       │\n",
       "│ 38        ┆ 340     ┆ 3       ┆ 1.808921 ┆ … ┆ null       ┆ null       ┆ null       ┆ null       │\n",
       "│ 38        ┆ 340     ┆ 4       ┆ 1.808921 ┆ … ┆ null       ┆ null       ┆ null       ┆ null       │\n",
       "└───────────┴─────────┴─────────┴──────────┴───┴────────────┴────────────┴────────────┴────────────┘"
      ]
     },
     "execution_count": 12,
     "metadata": {},
     "output_type": "execute_result"
    }
   ],
   "source": [
    "symbol_grouped = final_df.group_by([\"symbol_id\"])\n",
    "symbol_grouped.head()"
   ]
  },
  {
   "cell_type": "markdown",
   "id": "fab2cdd5",
   "metadata": {
    "execution": {
     "iopub.execute_input": "2024-11-22T23:23:13.059877Z",
     "iopub.status.busy": "2024-11-22T23:23:13.059516Z",
     "iopub.status.idle": "2024-11-22T23:23:13.065668Z",
     "shell.execute_reply": "2024-11-22T23:23:13.064625Z",
     "shell.execute_reply.started": "2024-11-22T23:23:13.059846Z"
    },
    "papermill": {
     "duration": 0.006994,
     "end_time": "2024-11-24T20:22:00.464884",
     "exception": false,
     "start_time": "2024-11-24T20:22:00.457890",
     "status": "completed"
    },
    "tags": []
   },
   "source": [
    "# Validating lags\n",
    "- Plotting original responder vs lagged values"
   ]
  },
  {
   "cell_type": "code",
   "execution_count": 13,
   "id": "d858095a",
   "metadata": {
    "execution": {
     "iopub.execute_input": "2024-11-24T20:22:00.480123Z",
     "iopub.status.busy": "2024-11-24T20:22:00.479781Z",
     "iopub.status.idle": "2024-11-24T20:22:00.483631Z",
     "shell.execute_reply": "2024-11-24T20:22:00.482984Z"
    },
    "papermill": {
     "duration": 0.013474,
     "end_time": "2024-11-24T20:22:00.485259",
     "exception": false,
     "start_time": "2024-11-24T20:22:00.471785",
     "status": "completed"
    },
    "tags": []
   },
   "outputs": [],
   "source": [
    "plot_data = final_df.group_by([\"symbol_id\"])"
   ]
  },
  {
   "cell_type": "code",
   "execution_count": 14,
   "id": "9892d3e8",
   "metadata": {
    "execution": {
     "iopub.execute_input": "2024-11-24T20:22:00.500017Z",
     "iopub.status.busy": "2024-11-24T20:22:00.499702Z",
     "iopub.status.idle": "2024-11-24T20:22:02.732634Z",
     "shell.execute_reply": "2024-11-24T20:22:02.731755Z"
    },
    "papermill": {
     "duration": 2.242647,
     "end_time": "2024-11-24T20:22:02.734853",
     "exception": false,
     "start_time": "2024-11-24T20:22:00.492206",
     "status": "completed"
    },
    "tags": []
   },
   "outputs": [
    {
     "data": {
      "image/png": "[encoded data removed]",
      "text/plain": [
       "<Figure size 1000x600 with 1 Axes>"
      ]
     },
     "metadata": {},
     "output_type": "display_data"
    }
   ],
   "source": [
    "import matplotlib.pyplot as plt\n",
    "\n",
    "# Assuming `plot_data` is a list of tuples (column_name, Polars DataFrame)\n",
    "for c, i in plot_data:\n",
    "    # Convert the Polars DataFrame to a pandas DataFrame for plotting\n",
    "    i_pandas = i.to_pandas()\n",
    "    \n",
    "    # Plot the columns\n",
    "    plt.figure(figsize=(10, 6))\n",
    "    i_pandas[\"responder_6\"].plot(label=\"Responder 6\", legend=True)\n",
    "    i_pandas[\"responder_6_lag_1\"].plot(label=\"Responder 6 Lag\", legend=True)\n",
    "    plt.title(f\"Plot for {c}\")\n",
    "    plt.xlabel(\"Index\")\n",
    "    plt.ylabel(\"Value\")\n",
    "    plt.legend()\n",
    "    plt.show()\n",
    "    break\n",
    "    \n"
   ]
  },
  {
   "cell_type": "markdown",
   "id": "49bc0885",
   "metadata": {
    "papermill": {
     "duration": 0.011314,
     "end_time": "2024-11-24T20:22:02.755086",
     "exception": false,
     "start_time": "2024-11-24T20:22:02.743772",
     "status": "completed"
    },
    "tags": []
   },
   "source": [
    "# Training"
   ]
  },
  {
   "cell_type": "markdown",
   "id": "480c9d5d",
   "metadata": {
    "execution": {
     "iopub.execute_input": "2024-11-22T23:28:53.540985Z",
     "iopub.status.busy": "2024-11-22T23:28:53.540101Z",
     "iopub.status.idle": "2024-11-22T23:28:53.544881Z",
     "shell.execute_reply": "2024-11-22T23:28:53.543792Z",
     "shell.execute_reply.started": "2024-11-22T23:28:53.540933Z"
    },
    "papermill": {
     "duration": 0.009755,
     "end_time": "2024-11-24T20:22:02.774551",
     "exception": false,
     "start_time": "2024-11-24T20:22:02.764796",
     "status": "completed"
    },
    "tags": []
   },
   "source": [
    "## LSTM Model\n",
    "- Use past 10 entries to predict the 11th value\n",
    "- Separate time series for each symbol"
   ]
  },
  {
   "cell_type": "code",
   "execution_count": 15,
   "id": "5eb3a613",
   "metadata": {
    "execution": {
     "iopub.execute_input": "2024-11-24T20:22:02.799587Z",
     "iopub.status.busy": "2024-11-24T20:22:02.799214Z",
     "iopub.status.idle": "2024-11-24T20:22:03.691558Z",
     "shell.execute_reply": "2024-11-24T20:22:03.690712Z"
    },
    "papermill": {
     "duration": 0.905672,
     "end_time": "2024-11-24T20:22:03.693797",
     "exception": false,
     "start_time": "2024-11-24T20:22:02.788125",
     "status": "completed"
    },
    "tags": []
   },
   "outputs": [],
   "source": [
    "# Assume `final_df` is a polars DataFrame\n",
    "df = final_df.clone()\n",
    "\n",
    "df = df.drop_nulls()"
   ]
  },
  {
   "cell_type": "code",
   "execution_count": 16,
   "id": "724a9418",
   "metadata": {
    "execution": {
     "iopub.execute_input": "2024-11-24T20:22:03.712227Z",
     "iopub.status.busy": "2024-11-24T20:22:03.711738Z",
     "iopub.status.idle": "2024-11-24T20:22:03.718538Z",
     "shell.execute_reply": "2024-11-24T20:22:03.717660Z"
    },
    "papermill": {
     "duration": 0.017537,
     "end_time": "2024-11-24T20:22:03.720353",
     "exception": false,
     "start_time": "2024-11-24T20:22:03.702816",
     "status": "completed"
    },
    "tags": []
   },
   "outputs": [
    {
     "data": {
      "text/html": [
       "<div><style>\n",
       ".dataframe > thead > tr,\n",
       ".dataframe > tbody > tr {\n",
       "  text-align: right;\n",
       "  white-space: pre-wrap;\n",
       "}\n",
       "</style>\n",
       "<small>shape: (1, 82)</small><table border=\"1\" class=\"dataframe\"><thead><tr><th>date_id</th><th>time_id</th><th>symbol_id</th><th>weight</th><th>feature_05</th><th>feature_06</th><th>feature_07</th><th>feature_08</th><th>feature_09</th><th>feature_10</th><th>feature_11</th><th>feature_12</th><th>feature_13</th><th>feature_14</th><th>feature_16</th><th>feature_17</th><th>feature_18</th><th>feature_19</th><th>feature_20</th><th>feature_22</th><th>feature_23</th><th>feature_24</th><th>feature_25</th><th>feature_28</th><th>feature_29</th><th>feature_30</th><th>feature_32</th><th>feature_33</th><th>feature_34</th><th>feature_35</th><th>feature_36</th><th>feature_37</th><th>feature_38</th><th>feature_40</th><th>feature_43</th><th>feature_44</th><th>feature_45</th><th>&hellip;</th><th>feature_58</th><th>feature_59</th><th>feature_60</th><th>feature_61</th><th>feature_62</th><th>feature_63</th><th>feature_64</th><th>feature_65</th><th>feature_66</th><th>feature_67</th><th>feature_68</th><th>feature_69</th><th>feature_70</th><th>feature_71</th><th>feature_72</th><th>feature_75</th><th>feature_76</th><th>feature_77</th><th>feature_78</th><th>responder_0</th><th>responder_1</th><th>responder_2</th><th>responder_3</th><th>responder_4</th><th>responder_5</th><th>responder_6</th><th>responder_7</th><th>responder_8</th><th>responder_0_lag_1</th><th>responder_1_lag_1</th><th>responder_2_lag_1</th><th>responder_3_lag_1</th><th>responder_4_lag_1</th><th>responder_5_lag_1</th><th>responder_6_lag_1</th><th>responder_7_lag_1</th><th>responder_8_lag_1</th></tr><tr><td>u32</td><td>u32</td><td>u32</td><td>u32</td><td>u32</td><td>u32</td><td>u32</td><td>u32</td><td>u32</td><td>u32</td><td>u32</td><td>u32</td><td>u32</td><td>u32</td><td>u32</td><td>u32</td><td>u32</td><td>u32</td><td>u32</td><td>u32</td><td>u32</td><td>u32</td><td>u32</td><td>u32</td><td>u32</td><td>u32</td><td>u32</td><td>u32</td><td>u32</td><td>u32</td><td>u32</td><td>u32</td><td>u32</td><td>u32</td><td>u32</td><td>u32</td><td>u32</td><td>&hellip;</td><td>u32</td><td>u32</td><td>u32</td><td>u32</td><td>u32</td><td>u32</td><td>u32</td><td>u32</td><td>u32</td><td>u32</td><td>u32</td><td>u32</td><td>u32</td><td>u32</td><td>u32</td><td>u32</td><td>u32</td><td>u32</td><td>u32</td><td>u32</td><td>u32</td><td>u32</td><td>u32</td><td>u32</td><td>u32</td><td>u32</td><td>u32</td><td>u32</td><td>u32</td><td>u32</td><td>u32</td><td>u32</td><td>u32</td><td>u32</td><td>u32</td><td>u32</td><td>u32</td></tr></thead><tbody><tr><td>0</td><td>0</td><td>0</td><td>0</td><td>0</td><td>0</td><td>0</td><td>0</td><td>0</td><td>0</td><td>0</td><td>0</td><td>0</td><td>0</td><td>0</td><td>0</td><td>0</td><td>0</td><td>0</td><td>0</td><td>0</td><td>0</td><td>0</td><td>0</td><td>0</td><td>0</td><td>0</td><td>0</td><td>0</td><td>0</td><td>0</td><td>0</td><td>0</td><td>0</td><td>0</td><td>0</td><td>0</td><td>&hellip;</td><td>0</td><td>0</td><td>0</td><td>0</td><td>0</td><td>0</td><td>0</td><td>0</td><td>0</td><td>0</td><td>0</td><td>0</td><td>0</td><td>0</td><td>0</td><td>0</td><td>0</td><td>0</td><td>0</td><td>0</td><td>0</td><td>0</td><td>0</td><td>0</td><td>0</td><td>0</td><td>0</td><td>0</td><td>0</td><td>0</td><td>0</td><td>0</td><td>0</td><td>0</td><td>0</td><td>0</td><td>0</td></tr></tbody></table></div>"
      ],
      "text/plain": [
       "shape: (1, 82)\n",
       "┌─────────┬─────────┬───────────┬────────┬───┬─────────────┬─────────────┬────────────┬────────────┐\n",
       "│ date_id ┆ time_id ┆ symbol_id ┆ weight ┆ … ┆ responder_5 ┆ responder_6 ┆ responder_ ┆ responder_ │\n",
       "│ ---     ┆ ---     ┆ ---       ┆ ---    ┆   ┆ _lag_1      ┆ _lag_1      ┆ 7_lag_1    ┆ 8_lag_1    │\n",
       "│ u32     ┆ u32     ┆ u32       ┆ u32    ┆   ┆ ---         ┆ ---         ┆ ---        ┆ ---        │\n",
       "│         ┆         ┆           ┆        ┆   ┆ u32         ┆ u32         ┆ u32        ┆ u32        │\n",
       "╞═════════╪═════════╪═══════════╪════════╪═══╪═════════════╪═════════════╪════════════╪════════════╡\n",
       "│ 0       ┆ 0       ┆ 0         ┆ 0      ┆ … ┆ 0           ┆ 0           ┆ 0          ┆ 0          │\n",
       "└─────────┴─────────┴───────────┴────────┴───┴─────────────┴─────────────┴────────────┴────────────┘"
      ]
     },
     "execution_count": 16,
     "metadata": {},
     "output_type": "execute_result"
    }
   ],
   "source": [
    "df.null_count()"
   ]
  },
  {
   "cell_type": "code",
   "execution_count": 17,
   "id": "eb46f0b6",
   "metadata": {
    "execution": {
     "iopub.execute_input": "2024-11-24T20:22:03.737955Z",
     "iopub.status.busy": "2024-11-24T20:22:03.737490Z",
     "iopub.status.idle": "2024-11-24T20:22:03.846005Z",
     "shell.execute_reply": "2024-11-24T20:22:03.845066Z"
    },
    "papermill": {
     "duration": 0.119512,
     "end_time": "2024-11-24T20:22:03.848004",
     "exception": false,
     "start_time": "2024-11-24T20:22:03.728492",
     "status": "completed"
    },
    "tags": []
   },
   "outputs": [],
   "source": [
    "df = df.filter(\n",
    "    pl.col(\"symbol_id\") == 21\n",
    ")"
   ]
  },
  {
   "cell_type": "code",
   "execution_count": 18,
   "id": "1f732091",
   "metadata": {
    "execution": {
     "iopub.execute_input": "2024-11-24T20:22:03.866637Z",
     "iopub.status.busy": "2024-11-24T20:22:03.866109Z",
     "iopub.status.idle": "2024-11-24T20:22:07.865802Z",
     "shell.execute_reply": "2024-11-24T20:22:07.864794Z"
    },
    "papermill": {
     "duration": 4.011301,
     "end_time": "2024-11-24T20:22:07.867877",
     "exception": false,
     "start_time": "2024-11-24T20:22:03.856576",
     "status": "completed"
    },
    "tags": []
   },
   "outputs": [
    {
     "name": "stderr",
     "output_type": "stream",
     "text": [
      "Creating Sequences on GPU: 100%|██████████| 19517/19517 [00:00<00:00, 246811.54it/s]\n"
     ]
    }
   ],
   "source": [
    "import numpy as np\n",
    "import pandas as pd\n",
    "import torch\n",
    "import torch.nn as nn\n",
    "from torch.utils.data import DataLoader, Dataset\n",
    "from sklearn.metrics import mean_squared_error, r2_score\n",
    "from sklearn.model_selection import KFold\n",
    "from sklearn.preprocessing import StandardScaler\n",
    "\n",
    "\n",
    "# Define features and target\n",
    "feature_columns = [col for col in df.columns if col.startswith('feature_') or col.endswith(\"lag_1\")]\n",
    "target_column = 'responder_6'\n",
    "\n",
    "# Extract features and target\n",
    "X = df[feature_columns].to_numpy()\n",
    "y = df[target_column].to_numpy().flatten()\n",
    "\n",
    "# # Normalize features and target\n",
    "# scaler_X = StandardScaler()\n",
    "# X = scaler_X.fit_transform(X)\n",
    "\n",
    "# scaler_y = StandardScaler()\n",
    "# y = scaler_y.fit_transform(y.reshape(-1, 1)).flatten()\n",
    "\n",
    "from tqdm import tqdm\n",
    "\n",
    "def create_sequences_gpu(X, y, time_steps=10, device=\"cuda:1\"):\n",
    "    \"\"\"\n",
    "    Creates sequences using GPU for faster processing.\n",
    "    Args:\n",
    "        X (numpy.ndarray): Feature array.\n",
    "        y (numpy.ndarray): Target array.\n",
    "        time_steps (int): Number of timesteps for sequence.\n",
    "        device (str): Device to use (\"cuda\" for GPU, \"cpu\" for CPU).\n",
    "    Returns:\n",
    "        torch.Tensor, torch.Tensor: Feature sequences and corresponding targets.\n",
    "    \"\"\"\n",
    "    # Convert data to PyTorch tensors and move to the specified device\n",
    "    X_tensor = torch.tensor(X, dtype=torch.float16, device=device)\n",
    "    y_tensor = torch.tensor(y, dtype=torch.float16, device=device)\n",
    "    \n",
    "    # Number of sequences\n",
    "    n_sequences = len(X) - time_steps\n",
    "    \n",
    "    # Create sequences using tensor slicing\n",
    "    X_seq = torch.stack([X_tensor[i:i+time_steps] for i in tqdm(range(n_sequences), desc=\"Creating Sequences on GPU\")])\n",
    "    y_seq = y_tensor[time_steps:]  # Corresponding targets start after the first time_steps\n",
    "    \n",
    "    return X_seq, y_seq\n",
    "\n",
    "# Create sequences\n",
    "time_steps = 10\n",
    "X_seq, y_seq = create_sequences_gpu(X, y, time_steps)"
   ]
  },
  {
   "cell_type": "code",
   "execution_count": 19,
   "id": "85813af1",
   "metadata": {
    "execution": {
     "iopub.execute_input": "2024-11-24T20:22:07.888281Z",
     "iopub.status.busy": "2024-11-24T20:22:07.887600Z",
     "iopub.status.idle": "2024-11-24T20:23:34.362337Z",
     "shell.execute_reply": "2024-11-24T20:23:34.361223Z"
    },
    "papermill": {
     "duration": 86.487095,
     "end_time": "2024-11-24T20:23:34.364293",
     "exception": false,
     "start_time": "2024-11-24T20:22:07.877198",
     "status": "completed"
    },
    "tags": []
   },
   "outputs": [
    {
     "name": "stderr",
     "output_type": "stream",
     "text": [
      "/tmp/ipykernel_23/1473430177.py:4: FutureWarning: `torch.cuda.amp.GradScaler(args...)` is deprecated. Please use `torch.amp.GradScaler('cuda', args...)` instead.\n",
      "  scaler = GradScaler()\n"
     ]
    },
    {
     "name": "stdout",
     "output_type": "stream",
     "text": [
      "\n",
      "Starting Fold 1/5\n"
     ]
    },
    {
     "name": "stderr",
     "output_type": "stream",
     "text": [
      "Fold 1 Epoch 1/15:   0%|          | 0/122 [00:00<?, ?batch/s]/tmp/ipykernel_23/1473430177.py:90: FutureWarning: `torch.cuda.amp.autocast(args...)` is deprecated. Please use `torch.amp.autocast('cuda', args...)` instead.\n",
      "  with autocast():\n",
      "Fold 1 Epoch 1/15: 100%|██████████| 122/122 [00:01<00:00, 67.86batch/s, Loss=0.2871] \n"
     ]
    },
    {
     "name": "stdout",
     "output_type": "stream",
     "text": [
      "Epoch [1/15], Average Loss: 1.2972\n"
     ]
    },
    {
     "name": "stderr",
     "output_type": "stream",
     "text": [
      "Fold 1 Epoch 2/15: 100%|██████████| 122/122 [00:01<00:00, 111.70batch/s, Loss=0.2888]\n"
     ]
    },
    {
     "name": "stdout",
     "output_type": "stream",
     "text": [
      "Epoch [2/15], Average Loss: 0.8595\n"
     ]
    },
    {
     "name": "stderr",
     "output_type": "stream",
     "text": [
      "Fold 1 Epoch 3/15: 100%|██████████| 122/122 [00:01<00:00, 104.86batch/s, Loss=0.2911]\n"
     ]
    },
    {
     "name": "stdout",
     "output_type": "stream",
     "text": [
      "Epoch [3/15], Average Loss: 0.8545\n"
     ]
    },
    {
     "name": "stderr",
     "output_type": "stream",
     "text": [
      "Fold 1 Epoch 4/15: 100%|██████████| 122/122 [00:01<00:00, 96.02batch/s, Loss=0.2894]\n"
     ]
    },
    {
     "name": "stdout",
     "output_type": "stream",
     "text": [
      "Epoch [4/15], Average Loss: 0.8536\n"
     ]
    },
    {
     "name": "stderr",
     "output_type": "stream",
     "text": [
      "Fold 1 Epoch 5/15: 100%|██████████| 122/122 [00:01<00:00, 108.77batch/s, Loss=0.2998]\n"
     ]
    },
    {
     "name": "stdout",
     "output_type": "stream",
     "text": [
      "Epoch [5/15], Average Loss: 0.8621\n"
     ]
    },
    {
     "name": "stderr",
     "output_type": "stream",
     "text": [
      "Fold 1 Epoch 6/15: 100%|██████████| 122/122 [00:01<00:00, 111.73batch/s, Loss=0.2901]\n"
     ]
    },
    {
     "name": "stdout",
     "output_type": "stream",
     "text": [
      "Epoch [6/15], Average Loss: 0.8621\n"
     ]
    },
    {
     "name": "stderr",
     "output_type": "stream",
     "text": [
      "Fold 1 Epoch 7/15: 100%|██████████| 122/122 [00:01<00:00, 110.31batch/s, Loss=0.2902]\n"
     ]
    },
    {
     "name": "stdout",
     "output_type": "stream",
     "text": [
      "Epoch [7/15], Average Loss: 0.8540\n"
     ]
    },
    {
     "name": "stderr",
     "output_type": "stream",
     "text": [
      "Fold 1 Epoch 8/15: 100%|██████████| 122/122 [00:01<00:00, 110.85batch/s, Loss=0.2894]\n"
     ]
    },
    {
     "name": "stdout",
     "output_type": "stream",
     "text": [
      "Epoch [8/15], Average Loss: 0.8543\n"
     ]
    },
    {
     "name": "stderr",
     "output_type": "stream",
     "text": [
      "Fold 1 Epoch 9/15: 100%|██████████| 122/122 [00:01<00:00, 108.69batch/s, Loss=0.2890]\n"
     ]
    },
    {
     "name": "stdout",
     "output_type": "stream",
     "text": [
      "Epoch [9/15], Average Loss: 0.8550\n"
     ]
    },
    {
     "name": "stderr",
     "output_type": "stream",
     "text": [
      "Fold 1 Epoch 10/15: 100%|██████████| 122/122 [00:01<00:00, 111.06batch/s, Loss=0.2879]\n"
     ]
    },
    {
     "name": "stdout",
     "output_type": "stream",
     "text": [
      "Epoch [10/15], Average Loss: 0.8557\n"
     ]
    },
    {
     "name": "stderr",
     "output_type": "stream",
     "text": [
      "Fold 1 Epoch 11/15: 100%|██████████| 122/122 [00:01<00:00, 110.09batch/s, Loss=0.2882]\n"
     ]
    },
    {
     "name": "stdout",
     "output_type": "stream",
     "text": [
      "Epoch [11/15], Average Loss: 0.8569\n"
     ]
    },
    {
     "name": "stderr",
     "output_type": "stream",
     "text": [
      "Fold 1 Epoch 12/15: 100%|██████████| 122/122 [00:01<00:00, 108.11batch/s, Loss=0.2883]\n"
     ]
    },
    {
     "name": "stdout",
     "output_type": "stream",
     "text": [
      "Epoch [12/15], Average Loss: 0.8566\n"
     ]
    },
    {
     "name": "stderr",
     "output_type": "stream",
     "text": [
      "Fold 1 Epoch 13/15: 100%|██████████| 122/122 [00:01<00:00, 111.13batch/s, Loss=0.2885]\n"
     ]
    },
    {
     "name": "stdout",
     "output_type": "stream",
     "text": [
      "Epoch [13/15], Average Loss: 0.8568\n"
     ]
    },
    {
     "name": "stderr",
     "output_type": "stream",
     "text": [
      "Fold 1 Epoch 14/15: 100%|██████████| 122/122 [00:01<00:00, 111.63batch/s, Loss=0.2892]\n"
     ]
    },
    {
     "name": "stdout",
     "output_type": "stream",
     "text": [
      "Epoch [14/15], Average Loss: 0.8577\n"
     ]
    },
    {
     "name": "stderr",
     "output_type": "stream",
     "text": [
      "Fold 1 Epoch 15/15: 100%|██████████| 122/122 [00:01<00:00, 112.72batch/s, Loss=0.2884]\n",
      "/tmp/ipykernel_23/1473430177.py:115: FutureWarning: `torch.cuda.amp.autocast(args...)` is deprecated. Please use `torch.amp.autocast('cuda', args...)` instead.\n",
      "  with autocast():\n"
     ]
    },
    {
     "name": "stdout",
     "output_type": "stream",
     "text": [
      "Epoch [15/15], Average Loss: 0.8572\n",
      "Fold 1 Mean Squared Error: 0.9619\n",
      "Fold 1 R-squared: -0.5336\n",
      "\n",
      "Starting Fold 2/5\n"
     ]
    },
    {
     "name": "stderr",
     "output_type": "stream",
     "text": [
      "Fold 2 Epoch 1/15:   0%|          | 0/122 [00:00<?, ?batch/s]/tmp/ipykernel_23/1473430177.py:90: FutureWarning: `torch.cuda.amp.autocast(args...)` is deprecated. Please use `torch.amp.autocast('cuda', args...)` instead.\n",
      "  with autocast():\n",
      "Fold 2 Epoch 1/15: 100%|██████████| 122/122 [00:01<00:00, 112.85batch/s, Loss=0.2868]\n"
     ]
    },
    {
     "name": "stdout",
     "output_type": "stream",
     "text": [
      "Epoch [1/15], Average Loss: 0.9564\n"
     ]
    },
    {
     "name": "stderr",
     "output_type": "stream",
     "text": [
      "Fold 2 Epoch 2/15: 100%|██████████| 122/122 [00:01<00:00, 109.44batch/s, Loss=0.2880]\n"
     ]
    },
    {
     "name": "stdout",
     "output_type": "stream",
     "text": [
      "Epoch [2/15], Average Loss: 0.7035\n"
     ]
    },
    {
     "name": "stderr",
     "output_type": "stream",
     "text": [
      "Fold 2 Epoch 3/15: 100%|██████████| 122/122 [00:01<00:00, 112.21batch/s, Loss=0.2893]\n"
     ]
    },
    {
     "name": "stdout",
     "output_type": "stream",
     "text": [
      "Epoch [3/15], Average Loss: 0.6999\n"
     ]
    },
    {
     "name": "stderr",
     "output_type": "stream",
     "text": [
      "Fold 2 Epoch 4/15: 100%|██████████| 122/122 [00:01<00:00, 110.84batch/s, Loss=0.2896]\n"
     ]
    },
    {
     "name": "stdout",
     "output_type": "stream",
     "text": [
      "Epoch [4/15], Average Loss: 0.6990\n"
     ]
    },
    {
     "name": "stderr",
     "output_type": "stream",
     "text": [
      "Fold 2 Epoch 5/15: 100%|██████████| 122/122 [00:01<00:00, 111.34batch/s, Loss=0.2895]\n"
     ]
    },
    {
     "name": "stdout",
     "output_type": "stream",
     "text": [
      "Epoch [5/15], Average Loss: 0.6989\n"
     ]
    },
    {
     "name": "stderr",
     "output_type": "stream",
     "text": [
      "Fold 2 Epoch 6/15: 100%|██████████| 122/122 [00:01<00:00, 107.70batch/s, Loss=0.2893]\n"
     ]
    },
    {
     "name": "stdout",
     "output_type": "stream",
     "text": [
      "Epoch [6/15], Average Loss: 0.6990\n"
     ]
    },
    {
     "name": "stderr",
     "output_type": "stream",
     "text": [
      "Fold 2 Epoch 7/15: 100%|██████████| 122/122 [00:01<00:00, 109.46batch/s, Loss=0.2889]\n"
     ]
    },
    {
     "name": "stdout",
     "output_type": "stream",
     "text": [
      "Epoch [7/15], Average Loss: 0.6992\n"
     ]
    },
    {
     "name": "stderr",
     "output_type": "stream",
     "text": [
      "Fold 2 Epoch 8/15: 100%|██████████| 122/122 [00:01<00:00, 111.51batch/s, Loss=0.2886]\n"
     ]
    },
    {
     "name": "stdout",
     "output_type": "stream",
     "text": [
      "Epoch [8/15], Average Loss: 0.6995\n"
     ]
    },
    {
     "name": "stderr",
     "output_type": "stream",
     "text": [
      "Fold 2 Epoch 9/15: 100%|██████████| 122/122 [00:01<00:00, 110.21batch/s, Loss=0.2882]\n"
     ]
    },
    {
     "name": "stdout",
     "output_type": "stream",
     "text": [
      "Epoch [9/15], Average Loss: 0.6998\n"
     ]
    },
    {
     "name": "stderr",
     "output_type": "stream",
     "text": [
      "Fold 2 Epoch 10/15: 100%|██████████| 122/122 [00:01<00:00, 108.31batch/s, Loss=0.2879]\n"
     ]
    },
    {
     "name": "stdout",
     "output_type": "stream",
     "text": [
      "Epoch [10/15], Average Loss: 0.7002\n"
     ]
    },
    {
     "name": "stderr",
     "output_type": "stream",
     "text": [
      "Fold 2 Epoch 11/15: 100%|██████████| 122/122 [00:01<00:00, 108.31batch/s, Loss=0.2878]\n"
     ]
    },
    {
     "name": "stdout",
     "output_type": "stream",
     "text": [
      "Epoch [11/15], Average Loss: 0.7007\n"
     ]
    },
    {
     "name": "stderr",
     "output_type": "stream",
     "text": [
      "Fold 2 Epoch 12/15: 100%|██████████| 122/122 [00:01<00:00, 110.24batch/s, Loss=0.2877]\n"
     ]
    },
    {
     "name": "stdout",
     "output_type": "stream",
     "text": [
      "Epoch [12/15], Average Loss: 0.7009\n"
     ]
    },
    {
     "name": "stderr",
     "output_type": "stream",
     "text": [
      "Fold 2 Epoch 13/15: 100%|██████████| 122/122 [00:01<00:00, 110.47batch/s, Loss=0.2881]\n"
     ]
    },
    {
     "name": "stdout",
     "output_type": "stream",
     "text": [
      "Epoch [13/15], Average Loss: 0.7015\n"
     ]
    },
    {
     "name": "stderr",
     "output_type": "stream",
     "text": [
      "Fold 2 Epoch 14/15: 100%|██████████| 122/122 [00:01<00:00, 111.03batch/s, Loss=0.2890]\n"
     ]
    },
    {
     "name": "stdout",
     "output_type": "stream",
     "text": [
      "Epoch [14/15], Average Loss: 0.7018\n"
     ]
    },
    {
     "name": "stderr",
     "output_type": "stream",
     "text": [
      "Fold 2 Epoch 15/15: 100%|██████████| 122/122 [00:01<00:00, 105.98batch/s, Loss=0.2892]\n",
      "/tmp/ipykernel_23/1473430177.py:115: FutureWarning: `torch.cuda.amp.autocast(args...)` is deprecated. Please use `torch.amp.autocast('cuda', args...)` instead.\n",
      "  with autocast():\n"
     ]
    },
    {
     "name": "stdout",
     "output_type": "stream",
     "text": [
      "Epoch [15/15], Average Loss: 0.7013\n",
      "Fold 2 Mean Squared Error: 18.9375\n",
      "Fold 2 R-squared: -14.4349\n",
      "\n",
      "Starting Fold 3/5\n"
     ]
    },
    {
     "name": "stderr",
     "output_type": "stream",
     "text": [
      "Fold 3 Epoch 1/15:   0%|          | 0/122 [00:00<?, ?batch/s]/tmp/ipykernel_23/1473430177.py:90: FutureWarning: `torch.cuda.amp.autocast(args...)` is deprecated. Please use `torch.amp.autocast('cuda', args...)` instead.\n",
      "  with autocast():\n",
      "Fold 3 Epoch 1/15: 100%|██████████| 122/122 [00:01<00:00, 110.96batch/s, Loss=0.2882]\n"
     ]
    },
    {
     "name": "stdout",
     "output_type": "stream",
     "text": [
      "Epoch [1/15], Average Loss: 1.1433\n"
     ]
    },
    {
     "name": "stderr",
     "output_type": "stream",
     "text": [
      "Fold 3 Epoch 2/15: 100%|██████████| 122/122 [00:01<00:00, 98.37batch/s, Loss=0.2905]\n"
     ]
    },
    {
     "name": "stdout",
     "output_type": "stream",
     "text": [
      "Epoch [2/15], Average Loss: 0.8680\n"
     ]
    },
    {
     "name": "stderr",
     "output_type": "stream",
     "text": [
      "Fold 3 Epoch 3/15: 100%|██████████| 122/122 [00:01<00:00, 108.10batch/s, Loss=0.2924]\n"
     ]
    },
    {
     "name": "stdout",
     "output_type": "stream",
     "text": [
      "Epoch [3/15], Average Loss: 0.8643\n"
     ]
    },
    {
     "name": "stderr",
     "output_type": "stream",
     "text": [
      "Fold 3 Epoch 4/15: 100%|██████████| 122/122 [00:01<00:00, 112.04batch/s, Loss=0.2912]\n"
     ]
    },
    {
     "name": "stdout",
     "output_type": "stream",
     "text": [
      "Epoch [4/15], Average Loss: 0.8635\n"
     ]
    },
    {
     "name": "stderr",
     "output_type": "stream",
     "text": [
      "Fold 3 Epoch 5/15: 100%|██████████| 122/122 [00:01<00:00, 111.98batch/s, Loss=0.2902]\n"
     ]
    },
    {
     "name": "stdout",
     "output_type": "stream",
     "text": [
      "Epoch [5/15], Average Loss: 0.8641\n"
     ]
    },
    {
     "name": "stderr",
     "output_type": "stream",
     "text": [
      "Fold 3 Epoch 6/15: 100%|██████████| 122/122 [00:01<00:00, 112.01batch/s, Loss=0.2905]\n"
     ]
    },
    {
     "name": "stdout",
     "output_type": "stream",
     "text": [
      "Epoch [6/15], Average Loss: 0.8640\n"
     ]
    },
    {
     "name": "stderr",
     "output_type": "stream",
     "text": [
      "Fold 3 Epoch 7/15: 100%|██████████| 122/122 [00:01<00:00, 110.26batch/s, Loss=0.2916]\n"
     ]
    },
    {
     "name": "stdout",
     "output_type": "stream",
     "text": [
      "Epoch [7/15], Average Loss: 0.8646\n"
     ]
    },
    {
     "name": "stderr",
     "output_type": "stream",
     "text": [
      "Fold 3 Epoch 8/15: 100%|██████████| 122/122 [00:01<00:00, 110.84batch/s, Loss=0.2917]\n"
     ]
    },
    {
     "name": "stdout",
     "output_type": "stream",
     "text": [
      "Epoch [8/15], Average Loss: 0.8640\n"
     ]
    },
    {
     "name": "stderr",
     "output_type": "stream",
     "text": [
      "Fold 3 Epoch 9/15: 100%|██████████| 122/122 [00:01<00:00, 107.09batch/s, Loss=0.2904]\n"
     ]
    },
    {
     "name": "stdout",
     "output_type": "stream",
     "text": [
      "Epoch [9/15], Average Loss: 0.8643\n"
     ]
    },
    {
     "name": "stderr",
     "output_type": "stream",
     "text": [
      "Fold 3 Epoch 10/15: 100%|██████████| 122/122 [00:01<00:00, 109.84batch/s, Loss=0.3481]\n"
     ]
    },
    {
     "name": "stdout",
     "output_type": "stream",
     "text": [
      "Epoch [10/15], Average Loss: 0.9048\n"
     ]
    },
    {
     "name": "stderr",
     "output_type": "stream",
     "text": [
      "Fold 3 Epoch 11/15: 100%|██████████| 122/122 [00:01<00:00, 110.54batch/s, Loss=0.2862]\n"
     ]
    },
    {
     "name": "stdout",
     "output_type": "stream",
     "text": [
      "Epoch [11/15], Average Loss: 0.8923\n"
     ]
    },
    {
     "name": "stderr",
     "output_type": "stream",
     "text": [
      "Fold 3 Epoch 12/15: 100%|██████████| 122/122 [00:01<00:00, 111.18batch/s, Loss=0.2897]\n"
     ]
    },
    {
     "name": "stdout",
     "output_type": "stream",
     "text": [
      "Epoch [12/15], Average Loss: 0.8676\n"
     ]
    },
    {
     "name": "stderr",
     "output_type": "stream",
     "text": [
      "Fold 3 Epoch 13/15: 100%|██████████| 122/122 [00:01<00:00, 110.73batch/s, Loss=0.2908]\n"
     ]
    },
    {
     "name": "stdout",
     "output_type": "stream",
     "text": [
      "Epoch [13/15], Average Loss: 0.8640\n"
     ]
    },
    {
     "name": "stderr",
     "output_type": "stream",
     "text": [
      "Fold 3 Epoch 14/15: 100%|██████████| 122/122 [00:01<00:00, 110.55batch/s, Loss=0.2913]\n"
     ]
    },
    {
     "name": "stdout",
     "output_type": "stream",
     "text": [
      "Epoch [14/15], Average Loss: 0.8638\n"
     ]
    },
    {
     "name": "stderr",
     "output_type": "stream",
     "text": [
      "Fold 3 Epoch 15/15: 100%|██████████| 122/122 [00:01<00:00, 110.13batch/s, Loss=0.2911]\n",
      "/tmp/ipykernel_23/1473430177.py:115: FutureWarning: `torch.cuda.amp.autocast(args...)` is deprecated. Please use `torch.amp.autocast('cuda', args...)` instead.\n",
      "  with autocast():\n"
     ]
    },
    {
     "name": "stdout",
     "output_type": "stream",
     "text": [
      "Epoch [15/15], Average Loss: 0.8637\n",
      "Fold 3 Mean Squared Error: 1.0664\n",
      "Fold 3 R-squared: -0.8194\n",
      "\n",
      "Starting Fold 4/5\n"
     ]
    },
    {
     "name": "stderr",
     "output_type": "stream",
     "text": [
      "Fold 4 Epoch 1/15:   0%|          | 0/122 [00:00<?, ?batch/s]/tmp/ipykernel_23/1473430177.py:90: FutureWarning: `torch.cuda.amp.autocast(args...)` is deprecated. Please use `torch.amp.autocast('cuda', args...)` instead.\n",
      "  with autocast():\n",
      "Fold 4 Epoch 1/15: 100%|██████████| 122/122 [00:01<00:00, 112.68batch/s, Loss=0.2853]\n"
     ]
    },
    {
     "name": "stdout",
     "output_type": "stream",
     "text": [
      "Epoch [1/15], Average Loss: 1.1033\n"
     ]
    },
    {
     "name": "stderr",
     "output_type": "stream",
     "text": [
      "Fold 4 Epoch 2/15: 100%|██████████| 122/122 [00:01<00:00, 108.26batch/s, Loss=0.2882]\n"
     ]
    },
    {
     "name": "stdout",
     "output_type": "stream",
     "text": [
      "Epoch [2/15], Average Loss: 0.8712\n"
     ]
    },
    {
     "name": "stderr",
     "output_type": "stream",
     "text": [
      "Fold 4 Epoch 3/15: 100%|██████████| 122/122 [00:01<00:00, 108.92batch/s, Loss=0.2926]\n"
     ]
    },
    {
     "name": "stdout",
     "output_type": "stream",
     "text": [
      "Epoch [3/15], Average Loss: 0.8666\n"
     ]
    },
    {
     "name": "stderr",
     "output_type": "stream",
     "text": [
      "Fold 4 Epoch 4/15: 100%|██████████| 122/122 [00:01<00:00, 110.57batch/s, Loss=0.2920]\n"
     ]
    },
    {
     "name": "stdout",
     "output_type": "stream",
     "text": [
      "Epoch [4/15], Average Loss: 0.8649\n"
     ]
    },
    {
     "name": "stderr",
     "output_type": "stream",
     "text": [
      "Fold 4 Epoch 5/15: 100%|██████████| 122/122 [00:01<00:00, 112.54batch/s, Loss=0.2856]\n"
     ]
    },
    {
     "name": "stdout",
     "output_type": "stream",
     "text": [
      "Epoch [5/15], Average Loss: 0.8667\n"
     ]
    },
    {
     "name": "stderr",
     "output_type": "stream",
     "text": [
      "Fold 4 Epoch 6/15: 100%|██████████| 122/122 [00:01<00:00, 112.57batch/s, Loss=0.2853]\n"
     ]
    },
    {
     "name": "stdout",
     "output_type": "stream",
     "text": [
      "Epoch [6/15], Average Loss: 0.8695\n"
     ]
    },
    {
     "name": "stderr",
     "output_type": "stream",
     "text": [
      "Fold 4 Epoch 7/15: 100%|██████████| 122/122 [00:01<00:00, 109.05batch/s, Loss=0.2853]\n"
     ]
    },
    {
     "name": "stdout",
     "output_type": "stream",
     "text": [
      "Epoch [7/15], Average Loss: 0.8701\n"
     ]
    },
    {
     "name": "stderr",
     "output_type": "stream",
     "text": [
      "Fold 4 Epoch 8/15: 100%|██████████| 122/122 [00:01<00:00, 108.43batch/s, Loss=0.2854]\n"
     ]
    },
    {
     "name": "stdout",
     "output_type": "stream",
     "text": [
      "Epoch [8/15], Average Loss: 0.8712\n"
     ]
    },
    {
     "name": "stderr",
     "output_type": "stream",
     "text": [
      "Fold 4 Epoch 9/15: 100%|██████████| 122/122 [00:01<00:00, 111.03batch/s, Loss=0.2868]\n"
     ]
    },
    {
     "name": "stdout",
     "output_type": "stream",
     "text": [
      "Epoch [9/15], Average Loss: 0.8738\n"
     ]
    },
    {
     "name": "stderr",
     "output_type": "stream",
     "text": [
      "Fold 4 Epoch 10/15: 100%|██████████| 122/122 [00:01<00:00, 110.99batch/s, Loss=0.2859]\n"
     ]
    },
    {
     "name": "stdout",
     "output_type": "stream",
     "text": [
      "Epoch [10/15], Average Loss: 0.8742\n"
     ]
    },
    {
     "name": "stderr",
     "output_type": "stream",
     "text": [
      "Fold 4 Epoch 11/15: 100%|██████████| 122/122 [00:01<00:00, 109.51batch/s, Loss=0.2871]\n"
     ]
    },
    {
     "name": "stdout",
     "output_type": "stream",
     "text": [
      "Epoch [11/15], Average Loss: 0.8750\n"
     ]
    },
    {
     "name": "stderr",
     "output_type": "stream",
     "text": [
      "Fold 4 Epoch 12/15: 100%|██████████| 122/122 [00:01<00:00, 109.17batch/s, Loss=0.2867]\n"
     ]
    },
    {
     "name": "stdout",
     "output_type": "stream",
     "text": [
      "Epoch [12/15], Average Loss: 0.8757\n"
     ]
    },
    {
     "name": "stderr",
     "output_type": "stream",
     "text": [
      "Fold 4 Epoch 13/15: 100%|██████████| 122/122 [00:01<00:00, 110.16batch/s, Loss=0.2870]\n"
     ]
    },
    {
     "name": "stdout",
     "output_type": "stream",
     "text": [
      "Epoch [13/15], Average Loss: 0.8754\n"
     ]
    },
    {
     "name": "stderr",
     "output_type": "stream",
     "text": [
      "Fold 4 Epoch 14/15: 100%|██████████| 122/122 [00:01<00:00, 109.45batch/s, Loss=0.2880]\n"
     ]
    },
    {
     "name": "stdout",
     "output_type": "stream",
     "text": [
      "Epoch [14/15], Average Loss: 0.8757\n"
     ]
    },
    {
     "name": "stderr",
     "output_type": "stream",
     "text": [
      "Fold 4 Epoch 15/15: 100%|██████████| 122/122 [00:01<00:00, 100.91batch/s, Loss=0.2876]\n",
      "/tmp/ipykernel_23/1473430177.py:115: FutureWarning: `torch.cuda.amp.autocast(args...)` is deprecated. Please use `torch.amp.autocast('cuda', args...)` instead.\n",
      "  with autocast():\n"
     ]
    },
    {
     "name": "stdout",
     "output_type": "stream",
     "text": [
      "Epoch [15/15], Average Loss: 0.8756\n",
      "Fold 4 Mean Squared Error: 21.7656\n",
      "Fold 4 R-squared: -36.6904\n",
      "\n",
      "Starting Fold 5/5\n"
     ]
    },
    {
     "name": "stderr",
     "output_type": "stream",
     "text": [
      "Fold 5 Epoch 1/15:   0%|          | 0/122 [00:00<?, ?batch/s]/tmp/ipykernel_23/1473430177.py:90: FutureWarning: `torch.cuda.amp.autocast(args...)` is deprecated. Please use `torch.amp.autocast('cuda', args...)` instead.\n",
      "  with autocast():\n",
      "Fold 5 Epoch 1/15: 100%|██████████| 122/122 [00:01<00:00, 100.30batch/s, Loss=0.2641]\n"
     ]
    },
    {
     "name": "stdout",
     "output_type": "stream",
     "text": [
      "Epoch [1/15], Average Loss: 1.1260\n"
     ]
    },
    {
     "name": "stderr",
     "output_type": "stream",
     "text": [
      "Fold 5 Epoch 2/15: 100%|██████████| 122/122 [00:01<00:00, 111.21batch/s, Loss=0.2657]\n"
     ]
    },
    {
     "name": "stdout",
     "output_type": "stream",
     "text": [
      "Epoch [2/15], Average Loss: 0.7678\n"
     ]
    },
    {
     "name": "stderr",
     "output_type": "stream",
     "text": [
      "Fold 5 Epoch 3/15: 100%|██████████| 122/122 [00:01<00:00, 109.68batch/s, Loss=0.2637]\n"
     ]
    },
    {
     "name": "stdout",
     "output_type": "stream",
     "text": [
      "Epoch [3/15], Average Loss: 0.7641\n"
     ]
    },
    {
     "name": "stderr",
     "output_type": "stream",
     "text": [
      "Fold 5 Epoch 4/15: 100%|██████████| 122/122 [00:01<00:00, 112.48batch/s, Loss=0.2634]\n"
     ]
    },
    {
     "name": "stdout",
     "output_type": "stream",
     "text": [
      "Epoch [4/15], Average Loss: 0.7631\n"
     ]
    },
    {
     "name": "stderr",
     "output_type": "stream",
     "text": [
      "Fold 5 Epoch 5/15: 100%|██████████| 122/122 [00:01<00:00, 106.97batch/s, Loss=0.2634]\n"
     ]
    },
    {
     "name": "stdout",
     "output_type": "stream",
     "text": [
      "Epoch [5/15], Average Loss: 0.7629\n"
     ]
    },
    {
     "name": "stderr",
     "output_type": "stream",
     "text": [
      "Fold 5 Epoch 6/15: 100%|██████████| 122/122 [00:01<00:00, 110.50batch/s, Loss=0.2636]\n"
     ]
    },
    {
     "name": "stdout",
     "output_type": "stream",
     "text": [
      "Epoch [6/15], Average Loss: 0.7629\n"
     ]
    },
    {
     "name": "stderr",
     "output_type": "stream",
     "text": [
      "Fold 5 Epoch 7/15: 100%|██████████| 122/122 [00:01<00:00, 110.67batch/s, Loss=0.2666]\n"
     ]
    },
    {
     "name": "stdout",
     "output_type": "stream",
     "text": [
      "Epoch [7/15], Average Loss: 0.7630\n"
     ]
    },
    {
     "name": "stderr",
     "output_type": "stream",
     "text": [
      "Fold 5 Epoch 8/15: 100%|██████████| 122/122 [00:01<00:00, 108.62batch/s, Loss=0.2734]\n"
     ]
    },
    {
     "name": "stdout",
     "output_type": "stream",
     "text": [
      "Epoch [8/15], Average Loss: 0.7638\n"
     ]
    },
    {
     "name": "stderr",
     "output_type": "stream",
     "text": [
      "Fold 5 Epoch 9/15: 100%|██████████| 122/122 [00:01<00:00, 110.77batch/s, Loss=0.2778]\n"
     ]
    },
    {
     "name": "stdout",
     "output_type": "stream",
     "text": [
      "Epoch [9/15], Average Loss: 0.7662\n"
     ]
    },
    {
     "name": "stderr",
     "output_type": "stream",
     "text": [
      "Fold 5 Epoch 10/15: 100%|██████████| 122/122 [00:01<00:00, 107.86batch/s, Loss=0.2786]\n"
     ]
    },
    {
     "name": "stdout",
     "output_type": "stream",
     "text": [
      "Epoch [10/15], Average Loss: 0.7675\n"
     ]
    },
    {
     "name": "stderr",
     "output_type": "stream",
     "text": [
      "Fold 5 Epoch 11/15: 100%|██████████| 122/122 [00:01<00:00, 110.81batch/s, Loss=0.2846]\n"
     ]
    },
    {
     "name": "stdout",
     "output_type": "stream",
     "text": [
      "Epoch [11/15], Average Loss: 0.7682\n"
     ]
    },
    {
     "name": "stderr",
     "output_type": "stream",
     "text": [
      "Fold 5 Epoch 12/15: 100%|██████████| 122/122 [00:01<00:00, 110.56batch/s, Loss=0.2894]\n"
     ]
    },
    {
     "name": "stdout",
     "output_type": "stream",
     "text": [
      "Epoch [12/15], Average Loss: 0.7701\n"
     ]
    },
    {
     "name": "stderr",
     "output_type": "stream",
     "text": [
      "Fold 5 Epoch 13/15: 100%|██████████| 122/122 [00:01<00:00, 111.36batch/s, Loss=0.2897]\n"
     ]
    },
    {
     "name": "stdout",
     "output_type": "stream",
     "text": [
      "Epoch [13/15], Average Loss: 0.7727\n"
     ]
    },
    {
     "name": "stderr",
     "output_type": "stream",
     "text": [
      "Fold 5 Epoch 14/15: 100%|██████████| 122/122 [00:01<00:00, 107.93batch/s, Loss=0.2901]\n"
     ]
    },
    {
     "name": "stdout",
     "output_type": "stream",
     "text": [
      "Epoch [14/15], Average Loss: 0.7755\n"
     ]
    },
    {
     "name": "stderr",
     "output_type": "stream",
     "text": [
      "Fold 5 Epoch 15/15: 100%|██████████| 122/122 [00:01<00:00, 110.76batch/s, Loss=0.2896]\n",
      "/tmp/ipykernel_23/1473430177.py:115: FutureWarning: `torch.cuda.amp.autocast(args...)` is deprecated. Please use `torch.amp.autocast('cuda', args...)` instead.\n",
      "  with autocast():\n"
     ]
    },
    {
     "name": "stdout",
     "output_type": "stream",
     "text": [
      "Epoch [15/15], Average Loss: 0.7755\n",
      "Fold 5 Mean Squared Error: 17.5469\n",
      "Fold 5 R-squared: -17.1007\n",
      "\n",
      "Cross-Validation Results:\n",
      "Average Mean Squared Error over 5 folds: 12.0547\n",
      "Average R-squared over 5 folds: -13.9158\n"
     ]
    }
   ],
   "source": [
    "from torch.cuda.amp import autocast, GradScaler\n",
    "\n",
    "# Initialize GradScaler\n",
    "scaler = GradScaler()\n",
    "\n",
    "# Define a PyTorch Dataset\n",
    "class TimeSeriesDataset(Dataset):\n",
    "    def __init__(self, X, y):\n",
    "        self.X = X\n",
    "        self.y = y\n",
    "\n",
    "    def __len__(self):\n",
    "        return len(self.X)\n",
    "\n",
    "    def __getitem__(self, idx):\n",
    "        return self.X[idx], self.y[idx]\n",
    "\n",
    "# Define the LSTM model\n",
    "class LSTMModel(nn.Module):\n",
    "    def __init__(self, input_size, hidden_size, num_layers):\n",
    "        super(LSTMModel, self).__init__()\n",
    "        self.lstm = nn.LSTM(input_size, hidden_size, num_layers, batch_first=True)\n",
    "        self.fc1 = nn.Linear(hidden_size, hidden_size // 2)\n",
    "        self.batch_norm = nn.BatchNorm1d(hidden_size // 2)  # BatchNorm for the hidden layer\n",
    "        self.fc2 = nn.Linear(hidden_size // 2, 1)\n",
    "    \n",
    "    def forward(self, x):\n",
    "        out, _ = self.lstm(x)\n",
    "        out = self.fc1(out[:, -1, :])  # Take the last time step\n",
    "        \n",
    "        # Apply batch normalization\n",
    "        out = self.batch_norm(out)\n",
    "        \n",
    "        out = self.fc2(out)\n",
    "        out = 5 * torch.tanh(out)  # Scale tanh output to [-5, +5]\n",
    "        return out\n",
    "\n",
    "# Cross-validation setup\n",
    "n_splits = 5\n",
    "kf = KFold(n_splits=n_splits, shuffle=False)\n",
    "\n",
    "# Training parameters\n",
    "device = torch.device(\"cuda:0\" if torch.cuda.is_available() else \"cpu\")\n",
    "input_size = X_seq.shape[2]\n",
    "hidden_size = 128\n",
    "num_layers = 3\n",
    "batch_size = 128\n",
    "num_epochs = 15\n",
    "learning_rate = 0.008\n",
    "\n",
    "mse_scores = []\n",
    "r2_scores = []\n",
    "\n",
    "from tqdm import tqdm  # Import tqdm for progress bars\n",
    "\n",
    "for fold, (train_index, test_index) in enumerate(kf.split(X_seq)):\n",
    "    print(f\"\\nStarting Fold {fold + 1}/{n_splits}\")\n",
    "\n",
    "    # Split the data into train and test sets\n",
    "    X_train, X_test = X_seq[train_index], X_seq[test_index]\n",
    "    y_train, y_test = y_seq[train_index], y_seq[test_index]\n",
    "\n",
    "    # Create Datasets and DataLoaders\n",
    "    train_dataset = TimeSeriesDataset(X_train, y_train)\n",
    "    test_dataset = TimeSeriesDataset(X_test, y_test)\n",
    "\n",
    "    train_loader = DataLoader(train_dataset, batch_size=batch_size, shuffle=False)\n",
    "    test_loader = DataLoader(test_dataset, batch_size=batch_size, shuffle=False)\n",
    "\n",
    "    # Initialize the model\n",
    "    model = LSTMModel(input_size=input_size, hidden_size=hidden_size, num_layers=num_layers).to(device)\n",
    "\n",
    "    # model = model.half()  # Use float16 for the model\n",
    "\n",
    "    # Define loss function and optimizer\n",
    "    criterion = nn.MSELoss()\n",
    "    optimizer = torch.optim.Adam(model.parameters(), lr=learning_rate)\n",
    "\n",
    "    # Training loop with progress bar\n",
    "    model.train()\n",
    "    for epoch in range(num_epochs):\n",
    "        epoch_loss = 0.0\n",
    "        with tqdm(total=len(train_loader), desc=f\"Fold {fold + 1} Epoch {epoch + 1}/{num_epochs}\", unit=\"batch\") as pbar:\n",
    "            for X_batch, y_batch in train_loader:\n",
    "                X_batch, y_batch = X_batch.to(device), y_batch.to(device)\n",
    "\n",
    "                optimizer.zero_grad()\n",
    "\n",
    "               # Forward pass with autocasting\n",
    "                with autocast():\n",
    "                    outputs = model(X_batch)\n",
    "                    loss = criterion(outputs.squeeze(), y_batch)\n",
    "                    if torch.isnan(loss) or torch.isnan(outputs).any():\n",
    "                        print(\"NaNs detected in loss or outputs\")\n",
    "                        break\n",
    "    \n",
    "                # Backward pass and optimization with scaling\n",
    "                scaler.scale(loss).backward()\n",
    "                scaler.step(optimizer)\n",
    "                scaler.update()\n",
    "                \n",
    "                # Update loss and progress bar\n",
    "                epoch_loss += loss.item()\n",
    "                pbar.set_postfix({\"Loss\": f\"{loss.item():.4f}\"})\n",
    "                pbar.update(1)\n",
    "\n",
    "        print(f\"Epoch [{epoch + 1}/{num_epochs}], Average Loss: {epoch_loss / len(train_loader):.4f}\")\n",
    "\n",
    "    # Evaluate the model\n",
    "    model.eval()\n",
    "    y_true, y_pred = [], []\n",
    "    with torch.no_grad():\n",
    "        for X_batch, y_batch in test_loader:\n",
    "            X_batch, y_batch = X_batch.to(device), y_batch.to(device)\n",
    "            with autocast():\n",
    "                outputs = model(X_batch)\n",
    "                y_true.extend(y_batch.cpu().numpy())\n",
    "                y_pred.extend(outputs.squeeze().cpu().numpy())\n",
    "\n",
    "    # Calculate metrics\n",
    "    mse = mean_squared_error(y_true, y_pred)\n",
    "    r2 = r2_score(y_true, y_pred)\n",
    "\n",
    "    print(f\"Fold {fold + 1} Mean Squared Error: {mse:.4f}\")\n",
    "    print(f\"Fold {fold + 1} R-squared: {r2:.4f}\")\n",
    "\n",
    "    mse_scores.append(mse)\n",
    "    r2_scores.append(r2)\n",
    "\n",
    "# Calculate and print the average scores\n",
    "avg_mse = np.mean(mse_scores)\n",
    "avg_r2 = np.mean(r2_scores)\n",
    "\n",
    "print(\"\\nCross-Validation Results:\")\n",
    "print(f\"Average Mean Squared Error over {n_splits} folds: {avg_mse:.4f}\")\n",
    "print(f\"Average R-squared over {n_splits} folds: {avg_r2:.4f}\")\n"
   ]
  },
  {
   "cell_type": "code",
   "execution_count": 20,
   "id": "b80b4612",
   "metadata": {
    "execution": {
     "iopub.execute_input": "2024-11-24T20:23:35.445385Z",
     "iopub.status.busy": "2024-11-24T20:23:35.444752Z",
     "iopub.status.idle": "2024-11-24T20:23:35.455414Z",
     "shell.execute_reply": "2024-11-24T20:23:35.454507Z"
    },
    "papermill": {
     "duration": 0.567012,
     "end_time": "2024-11-24T20:23:35.457350",
     "exception": false,
     "start_time": "2024-11-24T20:23:34.890338",
     "status": "completed"
    },
    "tags": []
   },
   "outputs": [
    {
     "name": "stderr",
     "output_type": "stream",
     "text": [
      "/tmp/ipykernel_23/4008034385.py:2: FutureWarning: `torch.cuda.amp.autocast(args...)` is deprecated. Please use `torch.amp.autocast('cuda', args...)` instead.\n",
      "  with autocast():\n"
     ]
    }
   ],
   "source": [
    "y_true, y_pred = [], []\n",
    "with autocast():\n",
    "    outputs = model(X_batch)\n",
    "    y_true.extend(y_batch.cpu().numpy())\n",
    "    y_pred.extend(outputs.squeeze().detach().cpu().numpy())"
   ]
  },
  {
   "cell_type": "code",
   "execution_count": 21,
   "id": "ef82309b",
   "metadata": {
    "execution": {
     "iopub.execute_input": "2024-11-24T20:23:36.518273Z",
     "iopub.status.busy": "2024-11-24T20:23:36.517860Z",
     "iopub.status.idle": "2024-11-24T20:23:36.525321Z",
     "shell.execute_reply": "2024-11-24T20:23:36.524268Z"
    },
    "papermill": {
     "duration": 0.560888,
     "end_time": "2024-11-24T20:23:36.527285",
     "exception": false,
     "start_time": "2024-11-24T20:23:35.966397",
     "status": "completed"
    },
    "tags": []
   },
   "outputs": [
    {
     "name": "stdout",
     "output_type": "stream",
     "text": [
      "Fold 5 Mean Squared Error: 16.7500\n",
      "Fold 5 R-squared: -260.3070\n"
     ]
    }
   ],
   "source": [
    "# Calculate metrics\n",
    "mse = mean_squared_error(y_true, y_pred)\n",
    "r2 = r2_score(y_true, y_pred)\n",
    "\n",
    "print(f\"Fold {fold + 1} Mean Squared Error: {mse:.4f}\")\n",
    "print(f\"Fold {fold + 1} R-squared: {r2:.4f}\")"
   ]
  },
  {
   "cell_type": "code",
   "execution_count": 22,
   "id": "785b9f94",
   "metadata": {
    "execution": {
     "iopub.execute_input": "2024-11-24T20:23:37.568020Z",
     "iopub.status.busy": "2024-11-24T20:23:37.567212Z",
     "iopub.status.idle": "2024-11-24T20:23:37.571997Z",
     "shell.execute_reply": "2024-11-24T20:23:37.571222Z"
    },
    "papermill": {
     "duration": 0.504277,
     "end_time": "2024-11-24T20:23:37.573917",
     "exception": false,
     "start_time": "2024-11-24T20:23:37.069640",
     "status": "completed"
    },
    "tags": []
   },
   "outputs": [],
   "source": [
    "if torch.isnan(X_batch).any():\n",
    "    print(\"NaN values found in X_batch\")"
   ]
  },
  {
   "cell_type": "code",
   "execution_count": 23,
   "id": "0ca096d0",
   "metadata": {
    "execution": {
     "iopub.execute_input": "2024-11-24T20:23:38.625941Z",
     "iopub.status.busy": "2024-11-24T20:23:38.625433Z",
     "iopub.status.idle": "2024-11-24T20:23:38.761802Z",
     "shell.execute_reply": "2024-11-24T20:23:38.760930Z"
    },
    "papermill": {
     "duration": 0.63407,
     "end_time": "2024-11-24T20:23:38.763601",
     "exception": false,
     "start_time": "2024-11-24T20:23:38.129531",
     "status": "completed"
    },
    "tags": []
   },
   "outputs": [
    {
     "data": {
      "text/plain": [
       "tensor([[-4.0078],\n",
       "        [-4.0078],\n",
       "        [-4.0078],\n",
       "        [-4.0078],\n",
       "        [-4.0078],\n",
       "        [-4.0078],\n",
       "        [-4.0078],\n",
       "        [-4.0078],\n",
       "        [-4.0078],\n",
       "        [-4.0078],\n",
       "        [-4.0078],\n",
       "        [-4.0078],\n",
       "        [-4.0078],\n",
       "        [-4.0078],\n",
       "        [-4.0078],\n",
       "        [-4.0078],\n",
       "        [-4.0078],\n",
       "        [-4.0078],\n",
       "        [-4.0078],\n",
       "        [-4.0078],\n",
       "        [-4.0078],\n",
       "        [-4.0078],\n",
       "        [-4.0078],\n",
       "        [-4.0078],\n",
       "        [-4.0078],\n",
       "        [-4.0078],\n",
       "        [-4.0078],\n",
       "        [-4.0078],\n",
       "        [-4.0078],\n",
       "        [-4.0078],\n",
       "        [-4.0078],\n",
       "        [-4.0078],\n",
       "        [-4.0078],\n",
       "        [-4.0078],\n",
       "        [-4.0078],\n",
       "        [-4.0078],\n",
       "        [-4.0078],\n",
       "        [-4.0078],\n",
       "        [-4.0078],\n",
       "        [-4.0078],\n",
       "        [-4.0078],\n",
       "        [-4.0078],\n",
       "        [-4.0078],\n",
       "        [-4.0078],\n",
       "        [-4.0078],\n",
       "        [-4.0078],\n",
       "        [-4.0078],\n",
       "        [-4.0078],\n",
       "        [-4.0078],\n",
       "        [-4.0078],\n",
       "        [-4.0078],\n",
       "        [-4.0078],\n",
       "        [-4.0078],\n",
       "        [-4.0078],\n",
       "        [-4.0078],\n",
       "        [-4.0078],\n",
       "        [-4.0078],\n",
       "        [-4.0078],\n",
       "        [-4.0078],\n",
       "        [-4.0078],\n",
       "        [-4.0078],\n",
       "        [-4.0078],\n",
       "        [-4.0078]], device='cuda:0', dtype=torch.float16,\n",
       "       grad_fn=<MulBackward0>)"
      ]
     },
     "execution_count": 23,
     "metadata": {},
     "output_type": "execute_result"
    }
   ],
   "source": [
    "outputs"
   ]
  },
  {
   "cell_type": "code",
   "execution_count": null,
   "id": "05d08935",
   "metadata": {
    "papermill": {
     "duration": 0.532209,
     "end_time": "2024-11-24T20:23:39.789472",
     "exception": false,
     "start_time": "2024-11-24T20:23:39.257263",
     "status": "completed"
    },
    "tags": []
   },
   "outputs": [],
   "source": []
  },
  {
   "cell_type": "code",
   "execution_count": null,
   "id": "6af9350e",
   "metadata": {
    "papermill": {
     "duration": 0.5314,
     "end_time": "2024-11-24T20:23:40.825532",
     "exception": false,
     "start_time": "2024-11-24T20:23:40.294132",
     "status": "completed"
    },
    "tags": []
   },
   "outputs": [],
   "source": []
  }
 ],
 "metadata": {
  "kaggle": {
   "accelerator": "nvidiaTeslaT4",
   "dataSources": [
    {
     "databundleVersionId": 9871156,
     "sourceId": 84493,
     "sourceType": "competition"
    }
   ],
   "dockerImageVersionId": 30787,
   "isGpuEnabled": true,
   "isInternetEnabled": true,
   "language": "python",
   "sourceType": "notebook"
  },
  "kernelspec": {
   "display_name": "Python 3",
   "language": "python",
   "name": "python3"
  },
  "language_info": {
   "codemirror_mode": {
    "name": "ipython",
    "version": 3
   },
   "file_extension": ".py",
   "mimetype": "text/x-python",
   "name": "python",
   "nbconvert_exporter": "python",
   "pygments_lexer": "ipython3",
   "version": "3.10.14"
  },
  "papermill": {
   "default_parameters": {},
   "duration": 118.799224,
   "end_time": "2024-11-24T20:23:44.092608",
   "environment_variables": {},
   "exception": null,
   "input_path": "__notebook__.ipynb",
   "output_path": "__notebook__.ipynb",
   "parameters": {},
   "start_time": "2024-11-24T20:21:45.293384",
   "version": "2.6.0"
  }
 },
 "nbformat": 4,
 "nbformat_minor": 5
}
