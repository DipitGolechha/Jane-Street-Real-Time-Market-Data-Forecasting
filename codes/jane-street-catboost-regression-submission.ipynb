{
 "cells": [
  {
   "cell_type": "code",
   "execution_count": 1,
   "id": "ead16bb7",
   "metadata": {
    "_cell_guid": "b1076dfc-b9ad-4769-8c92-a6c4dae69d19",
    "_uuid": "8f2839f25d086af736a60e9eeb907d3b93b6e0e5",
    "execution": {
     "iopub.execute_input": "2024-11-26T00:43:35.366402Z",
     "iopub.status.busy": "2024-11-26T00:43:35.366034Z",
     "iopub.status.idle": "2024-11-26T00:43:36.709219Z",
     "shell.execute_reply": "2024-11-26T00:43:36.708264Z"
    },
    "papermill": {
     "duration": 1.349812,
     "end_time": "2024-11-26T00:43:36.711622",
     "exception": false,
     "start_time": "2024-11-26T00:43:35.361810",
     "status": "completed"
    },
    "tags": []
   },
   "outputs": [],
   "source": [
    "import os\n",
    "\n",
    "import pandas as pd\n",
    "import polars as pl\n",
    "\n",
    "import kaggle_evaluation.jane_street_inference_server"
   ]
  },
  {
   "cell_type": "markdown",
   "id": "c7bb8bca",
   "metadata": {
    "papermill": {
     "duration": 0.00204,
     "end_time": "2024-11-26T00:43:36.716425",
     "exception": false,
     "start_time": "2024-11-26T00:43:36.714385",
     "status": "completed"
    },
    "tags": []
   },
   "source": [
    "The evaluation API requires that you set up a server which will respond to inference requests. We have already defined the server; you just need write the predict function. When we evaluate your submission on the hidden test set the client defined in `jane_street_gateway` will run in a different container with direct access to the hidden test set and hand off the data timestep by timestep.\n",
    "\n",
    "\n",
    "\n",
    "Your code will always have access to the published copies of the files."
   ]
  },
  {
   "cell_type": "code",
   "execution_count": 2,
   "id": "258c2323",
   "metadata": {
    "_cell_guid": "b1076dfc-b9ad-4769-8c92-a6c4dae69d19",
    "_uuid": "8f2839f25d086af736a60e9eeb907d3b93b6e0e5",
    "execution": {
     "iopub.execute_input": "2024-11-26T00:43:36.722989Z",
     "iopub.status.busy": "2024-11-26T00:43:36.722465Z",
     "iopub.status.idle": "2024-11-26T00:43:38.375457Z",
     "shell.execute_reply": "2024-11-26T00:43:38.374373Z"
    },
    "papermill": {
     "duration": 1.659409,
     "end_time": "2024-11-26T00:43:38.377985",
     "exception": false,
     "start_time": "2024-11-26T00:43:36.718576",
     "status": "completed"
    },
    "tags": []
   },
   "outputs": [],
   "source": [
    "import pickle\n",
    "\n",
    "lags_ : pl.DataFrame | None = None\n",
    "\n",
    "\n",
    "# Replace this function with your inference code.\n",
    "# You can return either a Pandas or Polars dataframe, though Polars is recommended.\n",
    "# Each batch of predictions (except the very first) must be returned within 1 minute of the batch features being provided.\n",
    "import xgboost as xgb\n",
    "\n",
    "loaded_model = None\n",
    "\n",
    "def predict(test: pl.DataFrame, lags: pl.DataFrame | None) -> pl.DataFrame | pd.DataFrame:\n",
    "    \"\"\"Make a prediction.\"\"\"\n",
    "\n",
    "    # All the responders from the previous day are passed in at time_id == 0. We save them in a global variable for access at every time_id.\n",
    "    # Use them as extra features, if you like.\n",
    "    global lags_, loaded_model\n",
    "    if lags is not None:\n",
    "        lags_ = lags\n",
    "\n",
    "    if loaded_model is None:\n",
    "        with open(\"/kaggle/input/catboost-linear/other/default/1/saved_model_catboost (1).pkl\", \"rb\") as f:\n",
    "            loaded_model = pickle.load(f)\n",
    "\n",
    "    combined_data = test.join(lags_, on=[\"date_id\", \"time_id\", \"symbol_id\"], how=\"left\")\n",
    "\n",
    "    combined_data.with_columns(\n",
    "        pl.all().fill_null(strategy=\"forward\")\n",
    "    )\n",
    "\n",
    "    # Assuming `features_*` are all columns starting with \"feature_\" or ending with \"_lag\"\n",
    "    feature_columns = ['responder_3_lag_1', 'responder_8_lag_1', 'responder_7_lag_1', 'responder_4_lag_1', 'responder_5_lag_1',\n",
    "        'responder_0_lag_1', 'responder_2_lag_1', 'responder_1_lag_1', \n",
    "        'feature_06', 'feature_60', 'feature_49', 'feature_04', 'feature_07', \n",
    "        'feature_58', 'feature_59', 'feature_47', 'feature_51', 'feature_36', \n",
    "        'feature_52', 'feature_68', 'feature_13', 'feature_02', 'feature_05', \n",
    "        'feature_41', 'feature_01', 'time_id', 'feature_54', 'feature_40', \n",
    "        'feature_03', 'feature_55', 'feature_08', 'feature_19', 'feature_48', \n",
    "        'feature_00', 'feature_71', 'feature_66', 'feature_45']\n",
    "\n",
    "    # Prepare the input features\n",
    "    X_pred = combined_data.select(feature_columns).to_pandas()  # Convert Polars DataFrame to Pandas for XGBoost compatibility\n",
    "    \n",
    "    X_pred.fillna(0, inplace=True)\n",
    "    \n",
    "    # Get predictions from the loaded model\n",
    "    predictions = loaded_model.predict(X_pred)\n",
    "\n",
    "    combined_data = combined_data.with_columns(pl.Series(name=\"responder_6\", values=predictions))\n",
    "\n",
    "    # Replace this section with your own predictions\n",
    "    predictions = combined_data.select(\n",
    "        'row_id', 'responder_6'\n",
    "    )\n",
    "\n",
    "    if isinstance(predictions, pl.DataFrame):\n",
    "        assert predictions.columns == ['row_id', 'responder_6']\n",
    "    elif isinstance(predictions, pd.DataFrame):\n",
    "        assert (predictions.columns == ['row_id', 'responder_6']).all()\n",
    "    else:\n",
    "        raise TypeError('The predict function must return a DataFrame')\n",
    "    # Confirm has as many rows as the test data.\n",
    "    assert len(predictions) == len(test)\n",
    "\n",
    "    return predictions"
   ]
  },
  {
   "cell_type": "markdown",
   "id": "6d2acbf1",
   "metadata": {
    "papermill": {
     "duration": 0.002097,
     "end_time": "2024-11-26T00:43:38.382660",
     "exception": false,
     "start_time": "2024-11-26T00:43:38.380563",
     "status": "completed"
    },
    "tags": []
   },
   "source": [
    "When your notebook is run on the hidden test set, inference_server.serve must be called within 15 minutes of the notebook starting or the gateway will throw an error. If you need more than 15 minutes to load your model you can do so during the very first `predict` call, which does not have the usual 1 minute response deadline."
   ]
  },
  {
   "cell_type": "code",
   "execution_count": 3,
   "id": "27e8e68f",
   "metadata": {
    "_cell_guid": "b1076dfc-b9ad-4769-8c92-a6c4dae69d19",
    "_uuid": "8f2839f25d086af736a60e9eeb907d3b93b6e0e5",
    "execution": {
     "iopub.execute_input": "2024-11-26T00:43:38.388957Z",
     "iopub.status.busy": "2024-11-26T00:43:38.388395Z",
     "iopub.status.idle": "2024-11-26T00:43:40.073204Z",
     "shell.execute_reply": "2024-11-26T00:43:40.072175Z"
    },
    "papermill": {
     "duration": 1.691139,
     "end_time": "2024-11-26T00:43:40.076014",
     "exception": false,
     "start_time": "2024-11-26T00:43:38.384875",
     "status": "completed"
    },
    "tags": []
   },
   "outputs": [],
   "source": [
    "inference_server = kaggle_evaluation.jane_street_inference_server.JSInferenceServer(predict)\n",
    "\n",
    "if os.getenv('KAGGLE_IS_COMPETITION_RERUN'):\n",
    "    inference_server.serve()\n",
    "else:\n",
    "    inference_server.run_local_gateway(\n",
    "        (\n",
    "            '/kaggle/input/jane-street-real-time-market-data-forecasting/test.parquet',\n",
    "            '/kaggle/input/jane-street-real-time-market-data-forecasting/lags.parquet',\n",
    "        )\n",
    "    )"
   ]
  },
  {
   "cell_type": "code",
   "execution_count": 4,
   "id": "32114d83",
   "metadata": {
    "execution": {
     "iopub.execute_input": "2024-11-26T00:43:40.082361Z",
     "iopub.status.busy": "2024-11-26T00:43:40.081977Z",
     "iopub.status.idle": "2024-11-26T00:43:40.096194Z",
     "shell.execute_reply": "2024-11-26T00:43:40.095180Z"
    },
    "papermill": {
     "duration": 0.020067,
     "end_time": "2024-11-26T00:43:40.098502",
     "exception": false,
     "start_time": "2024-11-26T00:43:40.078435",
     "status": "completed"
    },
    "tags": []
   },
   "outputs": [
    {
     "data": {
      "text/html": [
       "<div><style>\n",
       ".dataframe > thead > tr,\n",
       ".dataframe > tbody > tr {\n",
       "  text-align: right;\n",
       "  white-space: pre-wrap;\n",
       "}\n",
       "</style>\n",
       "<small>shape: (39, 2)</small><table border=\"1\" class=\"dataframe\"><thead><tr><th>row_id</th><th>responder_6</th></tr><tr><td>i64</td><td>f64</td></tr></thead><tbody><tr><td>0</td><td>0.565396</td></tr><tr><td>1</td><td>0.468717</td></tr><tr><td>2</td><td>0.614237</td></tr><tr><td>3</td><td>0.79441</td></tr><tr><td>4</td><td>0.118273</td></tr><tr><td>&hellip;</td><td>&hellip;</td></tr><tr><td>34</td><td>0.548117</td></tr><tr><td>35</td><td>0.718404</td></tr><tr><td>36</td><td>0.183481</td></tr><tr><td>37</td><td>0.637067</td></tr><tr><td>38</td><td>-0.534062</td></tr></tbody></table></div>"
      ],
      "text/plain": [
       "shape: (39, 2)\n",
       "┌────────┬─────────────┐\n",
       "│ row_id ┆ responder_6 │\n",
       "│ ---    ┆ ---         │\n",
       "│ i64    ┆ f64         │\n",
       "╞════════╪═════════════╡\n",
       "│ 0      ┆ 0.565396    │\n",
       "│ 1      ┆ 0.468717    │\n",
       "│ 2      ┆ 0.614237    │\n",
       "│ 3      ┆ 0.79441     │\n",
       "│ 4      ┆ 0.118273    │\n",
       "│ …      ┆ …           │\n",
       "│ 34     ┆ 0.548117    │\n",
       "│ 35     ┆ 0.718404    │\n",
       "│ 36     ┆ 0.183481    │\n",
       "│ 37     ┆ 0.637067    │\n",
       "│ 38     ┆ -0.534062   │\n",
       "└────────┴─────────────┘"
      ]
     },
     "metadata": {},
     "output_type": "display_data"
    }
   ],
   "source": [
    "import os\n",
    "if os.path.isfile('submission.parquet'):\n",
    "    pl_sub = pl.read_parquet('submission.parquet')\n",
    "    display(pl_sub)"
   ]
  },
  {
   "cell_type": "code",
   "execution_count": null,
   "id": "472cc3a3",
   "metadata": {
    "papermill": {
     "duration": 0.002321,
     "end_time": "2024-11-26T00:43:40.103562",
     "exception": false,
     "start_time": "2024-11-26T00:43:40.101241",
     "status": "completed"
    },
    "tags": []
   },
   "outputs": [],
   "source": []
  }
 ],
 "metadata": {
  "kaggle": {
   "accelerator": "none",
   "dataSources": [
    {
     "databundleVersionId": 9871156,
     "sourceId": 84493,
     "sourceType": "competition"
    },
    {
     "modelId": 174562,
     "modelInstanceId": 152106,
     "sourceId": 178561,
     "sourceType": "modelInstanceVersion"
    }
   ],
   "dockerImageVersionId": 30786,
   "isGpuEnabled": false,
   "isInternetEnabled": false,
   "language": "python",
   "sourceType": "notebook"
  },
  "kernelspec": {
   "display_name": "Python 3",
   "language": "python",
   "name": "python3"
  },
  "language_info": {
   "codemirror_mode": {
    "name": "ipython",
    "version": 3
   },
   "file_extension": ".py",
   "mimetype": "text/x-python",
   "name": "python",
   "nbconvert_exporter": "python",
   "pygments_lexer": "ipython3",
   "version": "3.10.14"
  },
  "papermill": {
   "default_parameters": {},
   "duration": 8.095747,
   "end_time": "2024-11-26T00:43:40.827790",
   "environment_variables": {},
   "exception": null,
   "input_path": "__notebook__.ipynb",
   "output_path": "__notebook__.ipynb",
   "parameters": {},
   "start_time": "2024-11-26T00:43:32.732043",
   "version": "2.6.0"
  }
 },
 "nbformat": 4,
 "nbformat_minor": 5
}
